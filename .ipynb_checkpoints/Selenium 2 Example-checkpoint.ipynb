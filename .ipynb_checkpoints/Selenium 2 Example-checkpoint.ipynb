{
 "cells": [
  {
   "cell_type": "markdown",
   "metadata": {},
   "source": [
    "Select a website\n",
    "    - http://example.webscraping.com/\n",
    "    - https://webscraper.io/test-sites"
   ]
  },
  {
   "cell_type": "code",
   "execution_count": 2,
   "metadata": {},
   "outputs": [],
   "source": [
    "import selenium\n",
    "from selenium import webdriver as wb\n",
    "webD=wb.Chrome('chromedriver.exe')\n",
    "webD.get('https://webscraper.io/test-sites/e-commerce/static')"
   ]
  },
  {
   "cell_type": "code",
   "execution_count": 3,
   "metadata": {},
   "outputs": [],
   "source": [
    "clickObj=webD.find_element_by_xpath('//*[@id=\"side-menu\"]/li[2]/a')"
   ]
  },
  {
   "cell_type": "code",
   "execution_count": 4,
   "metadata": {},
   "outputs": [],
   "source": [
    "clickObj.click()"
   ]
  },
  {
   "cell_type": "code",
   "execution_count": 5,
   "metadata": {},
   "outputs": [],
   "source": [
    "webD.find_element_by_xpath('//*[@id=\"side-menu\"]/li[2]/ul/li[1]/a').click()"
   ]
  },
  {
   "cell_type": "code",
   "execution_count": 6,
   "metadata": {},
   "outputs": [],
   "source": [
    "ll=webD.find_element_by_xpath('/html/body/div[1]/div[3]/div/div[2]/div')"
   ]
  },
  {
   "cell_type": "code",
   "execution_count": null,
   "metadata": {},
   "outputs": [],
   "source": [
    "productInfoList=webD.find_elements_by_class_name('thumbnail')"
   ]
  },
  {
   "cell_type": "code",
   "execution_count": null,
   "metadata": {},
   "outputs": [],
   "source": [
    "listOflinks=[]\n",
    "for el in productInfoList:\n",
    "    ppp1=el.find_elements_by_tag_name('h4')[-1]\n",
    "    pp2=ppp1.find_element_by_tag_name('a')\n",
    "    listOflinks.append(pp2.get_property('href'))"
   ]
  },
  {
   "cell_type": "code",
   "execution_count": 7,
   "metadata": {},
   "outputs": [],
   "source": [
    "listOflinks=[]\n",
    "condition=True\n",
    "while condition:\n",
    "    productInfoList=webD.find_elements_by_class_name('thumbnail')\n",
    "    for el in productInfoList:\n",
    "        ppp1=el.find_elements_by_tag_name('h4')[-1]\n",
    "        pp2=ppp1.find_element_by_tag_name('a')\n",
    "        listOflinks.append(pp2.get_property('href'))\n",
    "    try:\n",
    "#         webD.find_element_by_xpath('/html/body/div[1]/div[3]/div/div[2]/ul/li[13]/a').click()\n",
    "        webD.find_element_by_class_name('page-link').click()\n",
    "    except:\n",
    "        condition=False\n"
   ]
  },
  {
   "cell_type": "code",
   "execution_count": 10,
   "metadata": {},
   "outputs": [],
   "source": [
    "webD.find_element_by_class_name('page-link').click()"
   ]
  },
  {
   "cell_type": "code",
   "execution_count": 8,
   "metadata": {
    "scrolled": true
   },
   "outputs": [
    {
     "data": {
      "text/plain": [
       "['https://webscraper.io/test-sites/e-commerce/static/product/222',\n",
       " 'https://webscraper.io/test-sites/e-commerce/static/product/223',\n",
       " 'https://webscraper.io/test-sites/e-commerce/static/product/224',\n",
       " 'https://webscraper.io/test-sites/e-commerce/static/product/225',\n",
       " 'https://webscraper.io/test-sites/e-commerce/static/product/226',\n",
       " 'https://webscraper.io/test-sites/e-commerce/static/product/227',\n",
       " 'https://webscraper.io/test-sites/e-commerce/static/product/228',\n",
       " 'https://webscraper.io/test-sites/e-commerce/static/product/229',\n",
       " 'https://webscraper.io/test-sites/e-commerce/static/product/230',\n",
       " 'https://webscraper.io/test-sites/e-commerce/static/product/231',\n",
       " 'https://webscraper.io/test-sites/e-commerce/static/product/232',\n",
       " 'https://webscraper.io/test-sites/e-commerce/static/product/233',\n",
       " 'https://webscraper.io/test-sites/e-commerce/static/product/234',\n",
       " 'https://webscraper.io/test-sites/e-commerce/static/product/235',\n",
       " 'https://webscraper.io/test-sites/e-commerce/static/product/236',\n",
       " 'https://webscraper.io/test-sites/e-commerce/static/product/237',\n",
       " 'https://webscraper.io/test-sites/e-commerce/static/product/238',\n",
       " 'https://webscraper.io/test-sites/e-commerce/static/product/239',\n",
       " 'https://webscraper.io/test-sites/e-commerce/static/product/240',\n",
       " 'https://webscraper.io/test-sites/e-commerce/static/product/241',\n",
       " 'https://webscraper.io/test-sites/e-commerce/static/product/242',\n",
       " 'https://webscraper.io/test-sites/e-commerce/static/product/243',\n",
       " 'https://webscraper.io/test-sites/e-commerce/static/product/244',\n",
       " 'https://webscraper.io/test-sites/e-commerce/static/product/245',\n",
       " 'https://webscraper.io/test-sites/e-commerce/static/product/246',\n",
       " 'https://webscraper.io/test-sites/e-commerce/static/product/247',\n",
       " 'https://webscraper.io/test-sites/e-commerce/static/product/248',\n",
       " 'https://webscraper.io/test-sites/e-commerce/static/product/249',\n",
       " 'https://webscraper.io/test-sites/e-commerce/static/product/250',\n",
       " 'https://webscraper.io/test-sites/e-commerce/static/product/251',\n",
       " 'https://webscraper.io/test-sites/e-commerce/static/product/252',\n",
       " 'https://webscraper.io/test-sites/e-commerce/static/product/253',\n",
       " 'https://webscraper.io/test-sites/e-commerce/static/product/254',\n",
       " 'https://webscraper.io/test-sites/e-commerce/static/product/255',\n",
       " 'https://webscraper.io/test-sites/e-commerce/static/product/256',\n",
       " 'https://webscraper.io/test-sites/e-commerce/static/product/257',\n",
       " 'https://webscraper.io/test-sites/e-commerce/static/product/258',\n",
       " 'https://webscraper.io/test-sites/e-commerce/static/product/259',\n",
       " 'https://webscraper.io/test-sites/e-commerce/static/product/260',\n",
       " 'https://webscraper.io/test-sites/e-commerce/static/product/261',\n",
       " 'https://webscraper.io/test-sites/e-commerce/static/product/262',\n",
       " 'https://webscraper.io/test-sites/e-commerce/static/product/263',\n",
       " 'https://webscraper.io/test-sites/e-commerce/static/product/330',\n",
       " 'https://webscraper.io/test-sites/e-commerce/static/product/331',\n",
       " 'https://webscraper.io/test-sites/e-commerce/static/product/332',\n",
       " 'https://webscraper.io/test-sites/e-commerce/static/product/333',\n",
       " 'https://webscraper.io/test-sites/e-commerce/static/product/334',\n",
       " 'https://webscraper.io/test-sites/e-commerce/static/product/335',\n",
       " 'https://webscraper.io/test-sites/e-commerce/static/product/336',\n",
       " 'https://webscraper.io/test-sites/e-commerce/static/product/337',\n",
       " 'https://webscraper.io/test-sites/e-commerce/static/product/338']"
      ]
     },
     "execution_count": 8,
     "metadata": {},
     "output_type": "execute_result"
    }
   ],
   "source": [
    "listOflinks"
   ]
  },
  {
   "cell_type": "code",
   "execution_count": null,
   "metadata": {},
   "outputs": [],
   "source": []
  },
  {
   "cell_type": "code",
   "execution_count": null,
   "metadata": {},
   "outputs": [],
   "source": [
    "webD.find_element_by_xpath('/html/body/div[1]/div[3]/div/div[2]/ul/li[13]/a').click()"
   ]
  },
  {
   "cell_type": "code",
   "execution_count": null,
   "metadata": {},
   "outputs": [],
   "source": []
  },
  {
   "cell_type": "code",
   "execution_count": null,
   "metadata": {},
   "outputs": [],
   "source": []
  },
  {
   "cell_type": "code",
   "execution_count": null,
   "metadata": {},
   "outputs": [],
   "source": []
  },
  {
   "cell_type": "code",
   "execution_count": null,
   "metadata": {},
   "outputs": [],
   "source": []
  },
  {
   "cell_type": "code",
   "execution_count": null,
   "metadata": {},
   "outputs": [],
   "source": [
    "webD.find_element_by_xpath('//*[@id=\"side-menu\"]/li[2]/a').click()"
   ]
  },
  {
   "cell_type": "code",
   "execution_count": null,
   "metadata": {},
   "outputs": [],
   "source": [
    "webD.find_element_by_xpath('//*[@id=\"side-menu\"]/li[2]/ul/li[1]/a').click()"
   ]
  },
  {
   "cell_type": "code",
   "execution_count": null,
   "metadata": {},
   "outputs": [],
   "source": [
    "allInfo=webD.find_elements_by_xpath('//*[@class=\"thumbnail\"]')"
   ]
  },
  {
   "cell_type": "code",
   "execution_count": null,
   "metadata": {},
   "outputs": [],
   "source": [
    "hrefLinkList=[]\n",
    "for eEle in allInfo:\n",
    "    hrefLink=eEle.find_elements_by_css_selector('h4')[-1].find_element_by_tag_name('a').get_property('href')\n",
    "    hrefLinkList.append(hrefLink)"
   ]
  },
  {
   "cell_type": "code",
   "execution_count": null,
   "metadata": {},
   "outputs": [],
   "source": [
    "hrefLinkList"
   ]
  },
  {
   "cell_type": "code",
   "execution_count": null,
   "metadata": {},
   "outputs": [],
   "source": [
    "pp=allInfo[0]"
   ]
  },
  {
   "cell_type": "code",
   "execution_count": null,
   "metadata": {},
   "outputs": [],
   "source": [
    "pp1=pp.find_elements_by_css_selector('h4')[-1]"
   ]
  },
  {
   "cell_type": "code",
   "execution_count": null,
   "metadata": {},
   "outputs": [],
   "source": [
    "pp1.find_element_by_tag_name('a').get_property('href')"
   ]
  },
  {
   "cell_type": "code",
   "execution_count": null,
   "metadata": {},
   "outputs": [],
   "source": [
    "webD.find_element_by_xpath('/html/body/div[1]/div[3]/div/div[2]/ul/li[13]/a').click()"
   ]
  },
  {
   "cell_type": "code",
   "execution_count": null,
   "metadata": {},
   "outputs": [],
   "source": [
    "# /html/body/div[1]/div[3]/div/div[2]/ul/li[14]/a\n",
    "# /html/body/div[1]/div[3]/div/div[2]/ul/li[14]/a"
   ]
  },
  {
   "cell_type": "code",
   "execution_count": null,
   "metadata": {},
   "outputs": [],
   "source": [
    "hrefLinkList=[]\n",
    "condition=True\n",
    "while condition:\n",
    "    allInfo=webD.find_elements_by_xpath('//*[@class=\"thumbnail\"]')\n",
    "    \n",
    "    for eEle in allInfo:\n",
    "        hrefLink=eEle.find_elements_by_css_selector('h4')[-1].find_element_by_tag_name('a').get_property('href')\n",
    "        hrefLinkList.append(hrefLink)\n",
    "    try:\n",
    "        webD.find_element_by_xpath('/html/body/div[1]/div[3]/div/div[2]/ul/li[13]/a').click()\n",
    "    except:\n",
    "        condition=False"
   ]
  },
  {
   "cell_type": "code",
   "execution_count": null,
   "metadata": {},
   "outputs": [],
   "source": [
    "hrefLinkList"
   ]
  },
  {
   "cell_type": "markdown",
   "metadata": {},
   "source": [
    "## Something is not right"
   ]
  },
  {
   "cell_type": "markdown",
   "metadata": {},
   "source": [
    "# Lets fix it"
   ]
  },
  {
   "cell_type": "code",
   "execution_count": null,
   "metadata": {},
   "outputs": [],
   "source": [
    "# pp=webD.find_elements_by_xpath('//*[@class=\"page-link\"]')#.click()"
   ]
  },
  {
   "cell_type": "code",
   "execution_count": null,
   "metadata": {},
   "outputs": [],
   "source": [
    "# pp[-1].click()"
   ]
  },
  {
   "cell_type": "code",
   "execution_count": null,
   "metadata": {},
   "outputs": [],
   "source": [
    "hrefLinkList=[]\n",
    "condition=True\n",
    "while condition:\n",
    "    allInfo=webD.find_elements_by_xpath('//*[@class=\"thumbnail\"]')\n",
    "    \n",
    "    for eEle in allInfo:\n",
    "        hrefLink=eEle.find_elements_by_css_selector('h4')[-1].find_element_by_tag_name('a').get_property('href')\n",
    "        hrefLinkList.append(hrefLink)\n",
    "    try:\n",
    "        webD.find_elements_by_xpath('//*[@class=\"page-link\"]')[-1].click()\n",
    "    except:\n",
    "        condition=False"
   ]
  },
  {
   "cell_type": "code",
   "execution_count": null,
   "metadata": {},
   "outputs": [],
   "source": [
    "len(hrefLinkList)"
   ]
  },
  {
   "cell_type": "code",
   "execution_count": null,
   "metadata": {},
   "outputs": [],
   "source": [
    "hrefLinkList[0]"
   ]
  },
  {
   "cell_type": "code",
   "execution_count": null,
   "metadata": {},
   "outputs": [],
   "source": [
    "webD.get(hrefLinkList[0])"
   ]
  },
  {
   "cell_type": "code",
   "execution_count": null,
   "metadata": {},
   "outputs": [],
   "source": [
    "nameOftheProduct=webD.find_element_by_xpath('/html/body/div[1]/div[3]/div/div[2]/div/div/div[2]/div[1]/h4[2]').text\n",
    "priceoftheProduct=webD.find_element_by_xpath('/html/body/div[1]/div[3]/div/div[2]/div/div/div[2]/div[1]/h4[1]').text\n",
    "descOfProduct=webD.find_element_by_xpath('/html/body/div[1]/div[3]/div/div[2]/div/div/div[2]/div[1]/p').text\n",
    "revOfProduct=webD.find_element_by_xpath('/html/body/div[1]/div[3]/div/div[2]/div/div/div[2]/div[2]/p').text\n"
   ]
  },
  {
   "cell_type": "code",
   "execution_count": null,
   "metadata": {},
   "outputs": [],
   "source": [
    "tempJ={'nameOftheProduct':nameOftheProduct,\n",
    "      'priceoftheProduct':priceoftheProduct,\n",
    "      'descOfProduct':descOfProduct,\n",
    "      'revOfProduct':revOfProduct}"
   ]
  },
  {
   "cell_type": "code",
   "execution_count": null,
   "metadata": {},
   "outputs": [],
   "source": [
    "from tqdm import tqdm\n",
    "overallinfo=[]\n",
    "for i in tqdm(hrefLinkList):\n",
    "    webD.get(i)\n",
    "    nameOftheProduct=webD.find_element_by_xpath('/html/body/div[1]/div[3]/div/div[2]/div/div/div[2]/div[1]/h4[2]').text\n",
    "    priceoftheProduct=webD.find_element_by_xpath('/html/body/div[1]/div[3]/div/div[2]/div/div/div[2]/div[1]/h4[1]').text\n",
    "    descOfProduct=webD.find_element_by_xpath('/html/body/div[1]/div[3]/div/div[2]/div/div/div[2]/div[1]/p').text\n",
    "    revOfProduct=webD.find_element_by_xpath('/html/body/div[1]/div[3]/div/div[2]/div/div/div[2]/div[2]/p').text\n",
    "    tempJ={'nameOftheProduct':nameOftheProduct,\n",
    "          'priceoftheProduct':priceoftheProduct,\n",
    "          'descOfProduct':descOfProduct,\n",
    "          'revOfProduct':revOfProduct,\n",
    "          'hyperlink':i}\n",
    "    overallinfo.append(tempJ)"
   ]
  },
  {
   "cell_type": "code",
   "execution_count": null,
   "metadata": {},
   "outputs": [],
   "source": [
    "import pandas as pd\n",
    "pd.DataFrame(overallinfo)"
   ]
  },
  {
   "cell_type": "code",
   "execution_count": null,
   "metadata": {},
   "outputs": [],
   "source": []
  }
 ],
 "metadata": {
  "kernelspec": {
   "display_name": "Python 3",
   "language": "python",
   "name": "python3"
  },
  "language_info": {
   "codemirror_mode": {
    "name": "ipython",
    "version": 3
   },
   "file_extension": ".py",
   "mimetype": "text/x-python",
   "name": "python",
   "nbconvert_exporter": "python",
   "pygments_lexer": "ipython3",
   "version": "3.6.9"
  }
 },
 "nbformat": 4,
 "nbformat_minor": 2
}
