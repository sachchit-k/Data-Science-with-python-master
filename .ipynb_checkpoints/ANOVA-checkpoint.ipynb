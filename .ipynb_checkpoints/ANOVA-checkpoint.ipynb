{
 "cells": [
  {
   "cell_type": "markdown",
   "metadata": {},
   "source": [
    "# ANOVA"
   ]
  },
  {
   "cell_type": "code",
   "execution_count": null,
   "metadata": {},
   "outputs": [],
   "source": [
    "import numpy as np"
   ]
  },
  {
   "cell_type": "markdown",
   "metadata": {},
   "source": [
    "# Complete Randomized Design - - One way - ANOVA"
   ]
  },
  {
   "cell_type": "markdown",
   "metadata": {},
   "source": [
    "## SST = SSC + SSE"
   ]
  },
  {
   "cell_type": "markdown",
   "metadata": {},
   "source": [
    "$$ \\sum_{i=1}^{n_{j}}\\sum_{j=1}^{C}(x_{ij}- \\bar{x})^2  = \\sum_{j=1}^{C} n_{j}(\\bar{x}_{j} - \\bar{x} )^2   + \\sum_{i=1}^{n}\\sum_{j=1}^{C}(x_{ij}- \\bar{x_{j}})^2 $$"
   ]
  },
  {
   "cell_type": "markdown",
   "metadata": {},
   "source": [
    "1. SST = total sum of squares\n",
    "2. SSC = sum of squares column\n",
    "3. SSE = sum of squares error"
   ]
  },
  {
   "cell_type": "code",
   "execution_count": null,
   "metadata": {},
   "outputs": [],
   "source": [
    "sample1=np.random.randint(600,615,15)/10\n",
    "# sample2=sample3=sample4=sample5=sample1\n",
    "sample2=np.random.randint(600,615,14)/10\n",
    "sample3=np.random.randint(600,615,13)/10\n",
    "sample4=np.random.randint(600,615,15)/10\n",
    "sample5=np.random.randint(600,700,12)/10"
   ]
  },
  {
   "cell_type": "code",
   "execution_count": null,
   "metadata": {},
   "outputs": [],
   "source": [
    "meansample1=sample1.mean()\n",
    "meansample2=sample2.mean()\n",
    "meansample3=sample3.mean()\n",
    "meansample4=sample4.mean()\n",
    "meansample5=sample5.mean()"
   ]
  },
  {
   "cell_type": "code",
   "execution_count": null,
   "metadata": {},
   "outputs": [],
   "source": [
    "meansample1,meansample2,meansample3,meansample4,meansample5"
   ]
  },
  {
   "cell_type": "code",
   "execution_count": null,
   "metadata": {},
   "outputs": [],
   "source": [
    "overAllMean=(sum(sample1)+sum(sample2)+sum(sample3)+sum(sample4)+sum(sample5))/(len(sample1)+len(sample2)+len(sample3)+len(sample4)+len(sample5))"
   ]
  },
  {
   "cell_type": "code",
   "execution_count": null,
   "metadata": {},
   "outputs": [],
   "source": [
    "overAllMean"
   ]
  },
  {
   "cell_type": "markdown",
   "metadata": {},
   "source": [
    "# SST"
   ]
  },
  {
   "cell_type": "code",
   "execution_count": null,
   "metadata": {},
   "outputs": [],
   "source": [
    "sqSumofTotal=np.sum([(overAllMean-i)**2 for i in sample1]+[(overAllMean-i)**2 for i in sample2]+\\\n",
    "                    [(overAllMean-i)**2 for i in sample3]+[(overAllMean-i)**2 for i in sample4]+\\\n",
    "                    [(overAllMean-i)**2 for i in sample5])"
   ]
  },
  {
   "cell_type": "code",
   "execution_count": null,
   "metadata": {},
   "outputs": [],
   "source": [
    "sqSumofTotal"
   ]
  },
  {
   "cell_type": "markdown",
   "metadata": {},
   "source": [
    "# SSC"
   ]
  },
  {
   "cell_type": "code",
   "execution_count": null,
   "metadata": {},
   "outputs": [],
   "source": [
    "sqSumofColumns=len(sample1)*(meansample1-overAllMean)**2+\\\n",
    "                len(sample2)*(meansample2-overAllMean)**2+\\\n",
    "                len(sample3)*(meansample3-overAllMean)**2+\\\n",
    "                len(sample4)*(meansample4-overAllMean)**2+\\\n",
    "                len(sample5)*(meansample5-overAllMean)**2"
   ]
  },
  {
   "cell_type": "code",
   "execution_count": null,
   "metadata": {},
   "outputs": [],
   "source": [
    "sqSumofColumns"
   ]
  },
  {
   "cell_type": "markdown",
   "metadata": {},
   "source": [
    "## SSE"
   ]
  },
  {
   "cell_type": "code",
   "execution_count": null,
   "metadata": {},
   "outputs": [],
   "source": [
    "sqSumofErrors=np.sum([(meansample1-i)**2 for i in sample1])+np.sum([(meansample2-i)**2 for i in sample2])+\\\n",
    "                np.sum([(meansample3-i)**2 for i in sample3])+np.sum([(meansample4-i)**2 for i in sample4])+\\\n",
    "                np.sum([(meansample5-i)**2 for i in sample5])"
   ]
  },
  {
   "cell_type": "code",
   "execution_count": null,
   "metadata": {},
   "outputs": [],
   "source": [
    "sqSumofErrors"
   ]
  },
  {
   "cell_type": "markdown",
   "metadata": {},
   "source": [
    "\n",
    "Analysis of variance is used to determine statistically whether the variance between the categorical level means is greater than variance withing levels i.e error value.\n",
    "\n",
    "Severalimportant assumptions underlie analysis of variance:\n",
    "1. Observations are drawn from normally distributed populations.\n",
    "2. Observations represent random samples from the populations.\n",
    "3. Variances of the populations are equal."
   ]
  },
  {
   "cell_type": "markdown",
   "metadata": {},
   "source": [
    "As shown previously, SST contains both SSC and SSE and can be partitioned into SSC and SSE. \n",
    "- MSC mean squares of column\n",
    "- MSE mean squares of error\n",
    "- MST mean squares total\n",
    "\n",
    "Mean square is an average and is computed by dividing the sum of squares by the degrees of freedom. Finally, the F value is determined by dividing the treatment variance (MSC) by the error variance (MSE). The F is a ratio of two variances. In the ANOVA situation, the F value is a ratio of the column variance to the error variance."
   ]
  },
  {
   "cell_type": "code",
   "execution_count": null,
   "metadata": {},
   "outputs": [],
   "source": [
    "dofC=5-1\n",
    "dofE=(len(sample1)+len(sample2)+len(sample3)+len(sample4)+len(sample5))-5\n",
    "dofT=(len(sample1)+len(sample2)+len(sample3)+len(sample4)+len(sample5))-1"
   ]
  },
  {
   "cell_type": "code",
   "execution_count": null,
   "metadata": {},
   "outputs": [],
   "source": [
    "MSC=sqSumofColumns/dofC\n",
    "MSE=sqSumofErrors/dofE"
   ]
  },
  {
   "cell_type": "code",
   "execution_count": null,
   "metadata": {},
   "outputs": [],
   "source": [
    "MSC,MSE"
   ]
  },
  {
   "cell_type": "code",
   "execution_count": null,
   "metadata": {},
   "outputs": [],
   "source": [
    "dofC,dofE"
   ]
  },
  {
   "cell_type": "code",
   "execution_count": null,
   "metadata": {},
   "outputs": [],
   "source": [
    "fValueObserved=MSC/MSE"
   ]
  },
  {
   "cell_type": "code",
   "execution_count": null,
   "metadata": {},
   "outputs": [],
   "source": [
    "fValueObserved"
   ]
  },
  {
   "cell_type": "markdown",
   "metadata": {},
   "source": [
    "From these computations, an analysis of variance chart can be constructed. The observed F value is 66.24. It is compared to a critical value from the F table to determine whether there is a significant difference in treatment or classification."
   ]
  },
  {
   "cell_type": "code",
   "execution_count": null,
   "metadata": {},
   "outputs": [],
   "source": [
    "fCritical= 3.01"
   ]
  },
  {
   "cell_type": "markdown",
   "metadata": {},
   "source": [
    "## The null hypothesis is rejected"
   ]
  },
  {
   "cell_type": "markdown",
   "metadata": {},
   "source": [
    "## Through Scipy "
   ]
  },
  {
   "cell_type": "code",
   "execution_count": null,
   "metadata": {},
   "outputs": [],
   "source": [
    "import scipy.stats as st\n",
    "st.f_oneway(sample1,sample2,sample3,sample4,sample5)"
   ]
  },
  {
   "cell_type": "markdown",
   "metadata": {},
   "source": [
    "# Randomized Block Design"
   ]
  },
  {
   "cell_type": "markdown",
   "metadata": {},
   "source": [
    "$$ \\sum_{i=1}^{n_{j}}\\sum_{j=1}^{C}(x_{ij}- \\bar{x})^2  = n\\sum_{j=1}^{C}(\\bar{x}_{j} - \\bar{x} )^2   + \n",
    "C\\sum_{i=1}^{n}(\\bar{x_{i}}-\\bar{x}) +\n",
    "\\sum_{i=1}^{n}\\sum_{j=1}^{C}(x_{ij}- \\bar{x_{j}} -\\bar{x_{i}} + \\bar{x})^2 $$"
   ]
  },
  {
   "cell_type": "markdown",
   "metadata": {},
   "source": [
    "1. SST = total sum of squares\n",
    "2. SSC = sum of squares column\n",
    "3. SSR = sum of squares of rows (Blocks)\n",
    "3. SSE = sum of squares error"
   ]
  },
  {
   "cell_type": "markdown",
   "metadata": {},
   "source": [
    "- Row effects: \n",
    "            - H0: Variable means all are equal.\n",
    "            - Ha: At least one of the Variable means is different from the others.\n",
    "- Column effects: \n",
    "            - H0: Block means are all equal.\n",
    "            - Ha: At least one of the blocking means is different from the others."
   ]
  },
  {
   "cell_type": "markdown",
   "metadata": {},
   "source": [
    "# Factorial Design"
   ]
  },
  {
   "cell_type": "markdown",
   "metadata": {},
   "source": [
    "- Row effects: \n",
    "        - H0: Row means all are equal.\n",
    "        - Ha: At least one row mean is different from the others.\n",
    "- Column effects: \n",
    "        - H0: Column means are all equal.\n",
    "        - Ha: At least one column mean is different from the others.\n",
    "- Interaction effects: \n",
    "        - H0: The interaction effects are zero.\n",
    "        - Ha: An interaction effect is present."
   ]
  },
  {
   "cell_type": "code",
   "execution_count": null,
   "metadata": {},
   "outputs": [],
   "source": [
    "import statsmodels.api as sm\n",
    "from statsmodels.formula.api import ols"
   ]
  },
  {
   "cell_type": "code",
   "execution_count": null,
   "metadata": {},
   "outputs": [],
   "source": [
    "import pandas as pd\n",
    "data=pd.read_excel('Sample - Superstore.xls')"
   ]
  },
  {
   "cell_type": "code",
   "execution_count": null,
   "metadata": {},
   "outputs": [],
   "source": [
    "data.head(2)"
   ]
  },
  {
   "cell_type": "code",
   "execution_count": null,
   "metadata": {},
   "outputs": [],
   "source": [
    "pd.unique(data['Segment'])"
   ]
  },
  {
   "cell_type": "markdown",
   "metadata": {},
   "source": [
    "# Randomized Block Design approach"
   ]
  },
  {
   "cell_type": "code",
   "execution_count": null,
   "metadata": {},
   "outputs": [],
   "source": [
    "model = ols('Sales ~ C(Category) + C(Segment)', data=data).fit()"
   ]
  },
  {
   "cell_type": "code",
   "execution_count": null,
   "metadata": {},
   "outputs": [],
   "source": [
    "anovaAnaRep = sm.stats.anova_lm(model, typ=2)\n",
    "anovaAnaRep"
   ]
  },
  {
   "cell_type": "markdown",
   "metadata": {},
   "source": [
    "# Factorial Design (Interaction)"
   ]
  },
  {
   "cell_type": "code",
   "execution_count": null,
   "metadata": {},
   "outputs": [],
   "source": [
    "model = ols('Sales ~ C(Category) + C(Segment) + C(Category):C(Segment)', data=data).fit()"
   ]
  },
  {
   "cell_type": "code",
   "execution_count": null,
   "metadata": {},
   "outputs": [],
   "source": [
    "anovaAnaRep = sm.stats.anova_lm(model, typ=2)\n",
    "anovaAnaRep"
   ]
  },
  {
   "cell_type": "code",
   "execution_count": null,
   "metadata": {},
   "outputs": [],
   "source": []
  },
  {
   "cell_type": "code",
   "execution_count": null,
   "metadata": {},
   "outputs": [],
   "source": []
  },
  {
   "cell_type": "code",
   "execution_count": null,
   "metadata": {},
   "outputs": [],
   "source": []
  },
  {
   "cell_type": "code",
   "execution_count": null,
   "metadata": {},
   "outputs": [],
   "source": []
  },
  {
   "cell_type": "code",
   "execution_count": null,
   "metadata": {},
   "outputs": [],
   "source": []
  }
 ],
 "metadata": {
  "kernelspec": {
   "display_name": "Python 3",
   "language": "python",
   "name": "python3"
  },
  "language_info": {
   "codemirror_mode": {
    "name": "ipython",
    "version": 3
   },
   "file_extension": ".py",
   "mimetype": "text/x-python",
   "name": "python",
   "nbconvert_exporter": "python",
   "pygments_lexer": "ipython3",
   "version": "3.6.9"
  }
 },
 "nbformat": 4,
 "nbformat_minor": 2
}
