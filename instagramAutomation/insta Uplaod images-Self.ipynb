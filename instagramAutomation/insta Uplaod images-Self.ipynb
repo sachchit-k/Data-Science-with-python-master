{
 "cells": [
  {
   "cell_type": "code",
   "execution_count": 13,
   "metadata": {},
   "outputs": [],
   "source": [
    "from uiautomator import device as d\n",
    "from uiautomator import Device\n",
    "from time import sleep\n",
    "import os"
   ]
  },
  {
   "cell_type": "code",
   "execution_count": 14,
   "metadata": {},
   "outputs": [
    {
     "data": {
      "text/plain": [
       "{'currentPackageName': 'com.sec.android.app.launcher',\n",
       " 'displayHeight': 2058,\n",
       " 'displayRotation': 0,\n",
       " 'displaySizeDpX': 320,\n",
       " 'displaySizeDpY': 658,\n",
       " 'displayWidth': 1080,\n",
       " 'productName': 'starqlteue',\n",
       " 'screenOn': True,\n",
       " 'sdkInt': 29,\n",
       " 'naturalOrientation': True}"
      ]
     },
     "execution_count": 14,
     "metadata": {},
     "output_type": "execute_result"
    }
   ],
   "source": [
    "d.info"
   ]
  },
  {
   "cell_type": "code",
   "execution_count": 15,
   "metadata": {},
   "outputs": [
    {
     "data": {
      "text/plain": [
       "{'currentPackageName': 'com.sec.android.app.launcher',\n",
       " 'displayHeight': 2058,\n",
       " 'displayRotation': 0,\n",
       " 'displaySizeDpX': 320,\n",
       " 'displaySizeDpY': 658,\n",
       " 'displayWidth': 1080,\n",
       " 'productName': 'starqlteue',\n",
       " 'screenOn': True,\n",
       " 'sdkInt': 29,\n",
       " 'naturalOrientation': True}"
      ]
     },
     "execution_count": 15,
     "metadata": {},
     "output_type": "execute_result"
    }
   ],
   "source": [
    "d.infod = Device('375637504c583398')\n",
    "\n",
    "d.info"
   ]
  },
  {
   "cell_type": "code",
   "execution_count": 16,
   "metadata": {},
   "outputs": [],
   "source": [
    "# d.dump('someHier.xml')"
   ]
  },
  {
   "cell_type": "code",
   "execution_count": 17,
   "metadata": {},
   "outputs": [
    {
     "data": {
      "text/plain": [
       "True"
      ]
     },
     "execution_count": 17,
     "metadata": {},
     "output_type": "execute_result"
    }
   ],
   "source": [
    "d.press.home()\n",
    "sx, sy, ex, ey= 100 ,150,100,450\n",
    "d.swipe(sx, sy, ex, ey, steps=5)"
   ]
  },
  {
   "cell_type": "code",
   "execution_count": 18,
   "metadata": {},
   "outputs": [
    {
     "data": {
      "text/plain": [
       "True"
      ]
     },
     "execution_count": 18,
     "metadata": {},
     "output_type": "execute_result"
    }
   ],
   "source": [
    "instaVal=d(text='Gallery', className='android.widget.TextView')\n",
    "instaVal.click()"
   ]
  },
  {
   "cell_type": "code",
   "execution_count": 19,
   "metadata": {},
   "outputs": [
    {
     "data": {
      "text/plain": [
       "True"
      ]
     },
     "execution_count": 19,
     "metadata": {},
     "output_type": "execute_result"
    }
   ],
   "source": [
    "sx, sy, ex, ey= 560,800,560 ,50\n",
    "d.swipe(sx, sy, ex, ey, steps=10)"
   ]
  },
  {
   "cell_type": "code",
   "execution_count": 20,
   "metadata": {},
   "outputs": [
    {
     "data": {
      "text/plain": [
       "True"
      ]
     },
     "execution_count": 20,
     "metadata": {},
     "output_type": "execute_result"
    }
   ],
   "source": [
    "pp=d(className='android.widget.TextView',text='Downloads')#,index=\"2\")\n",
    "pp.click()"
   ]
  },
  {
   "cell_type": "code",
   "execution_count": 21,
   "metadata": {},
   "outputs": [],
   "source": [
    "textData='#orchid #orchids #orchidee #orchidea #orchidlover #orchidsofinstagram #Orchideen #orchidshow #orchidaceae #orchidworld #orchidstagram #orchidlove #orchidshare #OrchidLovers #orchidgarden #orchidmag #orchidflower #orchide #orchidspecies #orchidbeauty #orchideuro #orchidisland #orchidoftheday #orchidfan #orchidsinbloom #orchidtattoo #orchideas #orchidflowers #orchidphotography #orchidacea'"
   ]
  },
  {
   "cell_type": "code",
   "execution_count": 22,
   "metadata": {},
   "outputs": [],
   "source": [
    "togo=[0,1,4,5]\n",
    "for i in togo:\n",
    "    nextInd=str(i)\n",
    "    pp=d(className='android.widget.FrameLayout',resourceId=\"com.sec.android.gallery3d:id/recycler_view_item\",index=nextInd)#,index=\"2\")\n",
    "    pp.click()\n",
    "    # d.screenshot('saveIMage.png')\n",
    "    pp=d(className='android.widget.RelativeLayout',resourceId='com.sec.android.gallery3d:id/btn_share')#,index=\"2\")\n",
    "    pp.click()\n",
    "    pp=d(className='android.widget.TextView',text='Feed')#,index=\"2\")\n",
    "    pp.click()\n",
    "    pp=d(className='android.widget.ImageView',resourceId='com.instagram.android:id/croptype_toggle_button')#,index=\"2\")\n",
    "    pp.click()\n",
    "    pp=d(className='android.widget.ImageView',resourceId='com.instagram.android:id/save')#,index=\"2\")\n",
    "    pp.click()\n",
    "    pp=d(className='android.widget.TextView',text='Next')#,index=\"2\")\n",
    "    pp.click()\n",
    "    pp=d(className='android.widget.EditText')#,index=\"2\")\n",
    "    pp.click()\n",
    "    pp.set_text('Wilhelma Zoo, Orchid garden, Botonical Garden. '+textData)\n",
    "    pp=d(className='android.widget.TextView',text='Share')#,index=\"2\")\n",
    "    pp.click()\n",
    "\n",
    "    for i in range(2):\n",
    "        d.press.back()"
   ]
  },
  {
   "cell_type": "code",
   "execution_count": 10,
   "metadata": {},
   "outputs": [
    {
     "data": {
      "text/plain": [
       "True"
      ]
     },
     "execution_count": 10,
     "metadata": {},
     "output_type": "execute_result"
    }
   ],
   "source": []
  },
  {
   "cell_type": "code",
   "execution_count": 17,
   "metadata": {},
   "outputs": [],
   "source": []
  },
  {
   "cell_type": "code",
   "execution_count": 18,
   "metadata": {},
   "outputs": [
    {
     "data": {
      "text/plain": [
       "True"
      ]
     },
     "execution_count": 18,
     "metadata": {},
     "output_type": "execute_result"
    }
   ],
   "source": []
  },
  {
   "cell_type": "code",
   "execution_count": null,
   "metadata": {},
   "outputs": [],
   "source": []
  },
  {
   "cell_type": "code",
   "execution_count": null,
   "metadata": {
    "scrolled": true
   },
   "outputs": [],
   "source": []
  },
  {
   "cell_type": "code",
   "execution_count": null,
   "metadata": {},
   "outputs": [],
   "source": []
  },
  {
   "cell_type": "code",
   "execution_count": null,
   "metadata": {},
   "outputs": [],
   "source": []
  },
  {
   "cell_type": "code",
   "execution_count": null,
   "metadata": {},
   "outputs": [],
   "source": []
  },
  {
   "cell_type": "code",
   "execution_count": null,
   "metadata": {},
   "outputs": [],
   "source": []
  },
  {
   "cell_type": "code",
   "execution_count": null,
   "metadata": {},
   "outputs": [],
   "source": []
  },
  {
   "cell_type": "code",
   "execution_count": null,
   "metadata": {},
   "outputs": [],
   "source": []
  },
  {
   "cell_type": "code",
   "execution_count": null,
   "metadata": {},
   "outputs": [],
   "source": []
  }
 ],
 "metadata": {
  "kernelspec": {
   "display_name": "Python 3",
   "language": "python",
   "name": "python3"
  },
  "language_info": {
   "codemirror_mode": {
    "name": "ipython",
    "version": 3
   },
   "file_extension": ".py",
   "mimetype": "text/x-python",
   "name": "python",
   "nbconvert_exporter": "python",
   "pygments_lexer": "ipython3",
   "version": "3.6.9"
  }
 },
 "nbformat": 4,
 "nbformat_minor": 2
}
