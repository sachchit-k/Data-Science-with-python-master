{
 "cells": [
  {
   "cell_type": "code",
   "execution_count": 1,
   "metadata": {},
   "outputs": [],
   "source": [
    "from uiautomator import device as d\n",
    "from uiautomator import Device\n",
    "from time import sleep\n",
    "import os"
   ]
  },
  {
   "cell_type": "code",
   "execution_count": 2,
   "metadata": {},
   "outputs": [
    {
     "data": {
      "text/plain": [
       "{'currentPackageName': 'com.sec.android.app.launcher',\n",
       " 'displayHeight': 2058,\n",
       " 'displayRotation': 0,\n",
       " 'displaySizeDpX': 320,\n",
       " 'displaySizeDpY': 658,\n",
       " 'displayWidth': 1080,\n",
       " 'productName': 'starqlteue',\n",
       " 'screenOn': True,\n",
       " 'sdkInt': 29,\n",
       " 'naturalOrientation': True}"
      ]
     },
     "execution_count": 2,
     "metadata": {},
     "output_type": "execute_result"
    }
   ],
   "source": [
    "d.info"
   ]
  },
  {
   "cell_type": "code",
   "execution_count": 3,
   "metadata": {},
   "outputs": [
    {
     "data": {
      "text/plain": [
       "{'currentPackageName': 'com.sec.android.app.launcher',\n",
       " 'displayHeight': 2058,\n",
       " 'displayRotation': 0,\n",
       " 'displaySizeDpX': 320,\n",
       " 'displaySizeDpY': 658,\n",
       " 'displayWidth': 1080,\n",
       " 'productName': 'starqlteue',\n",
       " 'screenOn': True,\n",
       " 'sdkInt': 29,\n",
       " 'naturalOrientation': True}"
      ]
     },
     "execution_count": 3,
     "metadata": {},
     "output_type": "execute_result"
    }
   ],
   "source": [
    "d.infod = Device('375637504c583398')\n",
    "\n",
    "d.info"
   ]
  },
  {
   "cell_type": "code",
   "execution_count": 4,
   "metadata": {},
   "outputs": [
    {
     "ename": "SyntaxError",
     "evalue": "invalid syntax (<ipython-input-4-55a7aa26897d>, line 1)",
     "output_type": "error",
     "traceback": [
      "\u001b[1;36m  File \u001b[1;32m\"<ipython-input-4-55a7aa26897d>\"\u001b[1;36m, line \u001b[1;32m1\u001b[0m\n\u001b[1;33m    d.\u001b[0m\n\u001b[1;37m      ^\u001b[0m\n\u001b[1;31mSyntaxError\u001b[0m\u001b[1;31m:\u001b[0m invalid syntax\n"
     ]
    }
   ],
   "source": [
    "d."
   ]
  },
  {
   "cell_type": "markdown",
   "metadata": {},
   "source": [
    "## Save a screen shot"
   ]
  },
  {
   "cell_type": "code",
   "execution_count": null,
   "metadata": {},
   "outputs": [],
   "source": [
    "d.screenshot('sample.png')"
   ]
  },
  {
   "cell_type": "code",
   "execution_count": 5,
   "metadata": {},
   "outputs": [
    {
     "data": {
      "text/plain": [
       "False"
      ]
     },
     "execution_count": 5,
     "metadata": {},
     "output_type": "execute_result"
    }
   ],
   "source": [
    "d.press.home()"
   ]
  },
  {
   "cell_type": "markdown",
   "metadata": {},
   "source": [
    "## Key commands"
   ]
  },
  {
   "cell_type": "code",
   "execution_count": null,
   "metadata": {},
   "outputs": [],
   "source": [
    "# Turn off screen\n",
    "d.screen.off()"
   ]
  },
  {
   "cell_type": "code",
   "execution_count": null,
   "metadata": {},
   "outputs": [],
   "source": [
    "d.screen.on()"
   ]
  },
  {
   "cell_type": "markdown",
   "metadata": {},
   "source": [
    "- home\n",
    "- back\n",
    "- left\n",
    "- right\n",
    "- up\n",
    "- down\n",
    "- center\n",
    "- menu\n",
    "- search\n",
    "- enter\n",
    "- delete(or del)\n",
    "- recent(recent apps)\n",
    "- volume_up\n",
    "- volume_down\n",
    "- volume_mute\n",
    "- camera\n",
    "- power"
   ]
  },
  {
   "cell_type": "markdown",
   "metadata": {},
   "source": [
    "## Click"
   ]
  },
  {
   "cell_type": "markdown",
   "metadata": {},
   "source": [
    "## Long Click"
   ]
  },
  {
   "cell_type": "markdown",
   "metadata": {},
   "source": [
    "## Swipe"
   ]
  },
  {
   "cell_type": "markdown",
   "metadata": {},
   "source": [
    "## Drag"
   ]
  },
  {
   "cell_type": "code",
   "execution_count": 6,
   "metadata": {},
   "outputs": [
    {
     "data": {
      "text/plain": [
       "False"
      ]
     },
     "execution_count": 6,
     "metadata": {},
     "output_type": "execute_result"
    }
   ],
   "source": [
    "d.press.back()"
   ]
  },
  {
   "cell_type": "code",
   "execution_count": 7,
   "metadata": {},
   "outputs": [
    {
     "data": {
      "text/plain": [
       "True"
      ]
     },
     "execution_count": 7,
     "metadata": {},
     "output_type": "execute_result"
    }
   ],
   "source": [
    "d.press.home()\n",
    "sx, sy, ex, ey= 100 ,150,100,450\n",
    "d.swipe(sx, sy, ex, ey, steps=5)"
   ]
  },
  {
   "cell_type": "code",
   "execution_count": 8,
   "metadata": {},
   "outputs": [
    {
     "data": {
      "text/plain": [
       "'<?xml version=\"1.0\" ?>\\n<hierarchy rotation=\"0\">\\n  <node bounds=\"[0,0][1080,2058]\" checkable=\"false\" checked=\"false\" class=\"android.widget.FrameLayout\" clickable=\"false\" content-desc=\"\" enabled=\"true\" focusable=\"false\" focused=\"false\" index=\"0\" long-clickable=\"false\" package=\"com.sec.android.app.launcher\" password=\"false\" resource-id=\"\" scrollable=\"false\" selected=\"false\" text=\"\">\\n    <node bounds=\"[0,0][1080,2058]\" checkable=\"false\" checked=\"false\" class=\"android.widget.LinearLayout\" clickable=\"false\" content-desc=\"\" enabled=\"true\" focusable=\"false\" focused=\"false\" index=\"0\" long-clickable=\"false\" package=\"com.sec.android.app.launcher\" password=\"false\" resource-id=\"\" scrollable=\"false\" selected=\"false\" text=\"\">\\n      <node bounds=\"[0,0][1080,2058]\" checkable=\"false\" checked=\"false\" class=\"android.widget.FrameLayout\" clickable=\"false\" content-desc=\"\" enabled=\"true\" focusable=\"false\" focused=\"false\" index=\"0\" long-clickable=\"false\" package=\"com.sec.android.app.launcher\" password=\"false\" resource-id=\"android:id/content\" scrollable=\"false\" selected=\"false\" text=\"\">\\n        <node bounds=\"[0,0][1080,2058]\" checkable=\"false\" checked=\"false\" class=\"android.widget.FrameLayout\" clickable=\"false\" content-desc=\"\" enabled=\"true\" focusable=\"false\" focused=\"false\" index=\"0\" long-clickable=\"false\" package=\"com.sec.android.app.launcher\" password=\"false\" resource-id=\"com.sec.android.app.launcher:id/launcher\" scrollable=\"false\" selected=\"false\" text=\"\">\\n          <node bounds=\"[0,0][1080,2058]\" checkable=\"false\" checked=\"false\" class=\"android.view.View\" clickable=\"false\" content-desc=\"\" enabled=\"true\" focusable=\"false\" focused=\"false\" index=\"0\" long-clickable=\"false\" package=\"com.sec.android.app.launcher\" password=\"false\" resource-id=\"com.sec.android.app.launcher:id/scrim_view\" scrollable=\"false\" selected=\"false\" text=\"\"/>\\n          <node bounds=\"[0,0][1080,2058]\" checkable=\"false\" checked=\"false\" class=\"android.widget.FrameLayout\" clickable=\"false\" content-desc=\"\" enabled=\"true\" focusable=\"false\" focused=\"false\" index=\"1\" long-clickable=\"false\" package=\"com.sec.android.app.launcher\" password=\"false\" resource-id=\"com.sec.android.app.launcher:id/drag_layer\" scrollable=\"false\" selected=\"false\" text=\"\">\\n            <node bounds=\"[0,0][1080,2058]\" checkable=\"false\" checked=\"false\" class=\"android.widget.FrameLayout\" clickable=\"false\" content-desc=\"\" enabled=\"true\" focusable=\"false\" focused=\"false\" index=\"1\" long-clickable=\"false\" package=\"com.sec.android.app.launcher\" password=\"false\" resource-id=\"com.sec.android.app.launcher:id/apptray_view\" scrollable=\"false\" selected=\"false\" text=\"\">\\n              <node bounds=\"[0,0][1080,2058]\" checkable=\"false\" checked=\"false\" class=\"com.android.launcher3.PagedView\" clickable=\"false\" content-desc=\"\" enabled=\"true\" focusable=\"false\" focused=\"false\" index=\"0\" long-clickable=\"false\" package=\"com.sec.android.app.launcher\" password=\"false\" resource-id=\"com.sec.android.app.launcher:id/apps_content\" scrollable=\"false\" selected=\"false\" text=\"\">\\n                <node bounds=\"[38,81][1042,1964]\" checkable=\"false\" checked=\"false\" class=\"android.view.ViewGroup\" clickable=\"false\" content-desc=\"\" enabled=\"true\" focusable=\"false\" focused=\"false\" index=\"0\" long-clickable=\"false\" package=\"com.sec.android.app.launcher\" password=\"false\" resource-id=\"\" scrollable=\"false\" selected=\"false\" text=\"\">\\n                  <node bounds=\"[40,311][1040,1964]\" checkable=\"false\" checked=\"false\" class=\"android.view.ViewGroup\" clickable=\"false\" content-desc=\"\" enabled=\"true\" focusable=\"false\" focused=\"false\" index=\"0\" long-clickable=\"false\" package=\"com.sec.android.app.launcher\" password=\"false\" resource-id=\"\" scrollable=\"false\" selected=\"false\" text=\"\">\\n                    <node bounds=\"[40,311][236,583]\" checkable=\"false\" checked=\"false\" class=\"android.widget.FrameLayout\" clickable=\"true\" content-desc=\"Folder: Google\" enabled=\"true\" focusable=\"true\" focused=\"false\" index=\"0\" long-clickable=\"true\" package=\"com.sec.android.app.launcher\" password=\"false\" resource-id=\"\" scrollable=\"false\" selected=\"false\" text=\"\">\\n                      <node bounds=\"[40,477][236,583]\" checkable=\"false\" checked=\"false\" class=\"android.widget.TextView\" clickable=\"false\" content-desc=\"\" enabled=\"true\" focusable=\"false\" focused=\"false\" index=\"0\" long-clickable=\"false\" package=\"com.sec.android.app.launcher\" password=\"false\" resource-id=\"com.sec.android.app.launcher:id/folder_icon_name\" scrollable=\"false\" selected=\"false\" text=\"Google\"/>\\n                    </node>\\n                    <node bounds=\"[241,311][437,583]\" checkable=\"false\" checked=\"false\" class=\"android.widget.FrameLayout\" clickable=\"true\" content-desc=\"Folder: Samsung\" enabled=\"true\" focusable=\"true\" focused=\"false\" index=\"1\" long-clickable=\"true\" package=\"com.sec.android.app.launcher\" password=\"false\" resource-id=\"\" scrollable=\"false\" selected=\"false\" text=\"\">\\n                      <node bounds=\"[241,477][437,583]\" checkable=\"false\" checked=\"false\" class=\"android.widget.TextView\" clickable=\"false\" content-desc=\"\" enabled=\"true\" focusable=\"false\" focused=\"false\" index=\"0\" long-clickable=\"false\" package=\"com.sec.android.app.launcher\" password=\"false\" resource-id=\"com.sec.android.app.launcher:id/folder_icon_name\" scrollable=\"false\" selected=\"false\" text=\"Samsung\"/>\\n                    </node>\\n                    <node bounds=\"[442,311][638,583]\" checkable=\"false\" checked=\"false\" class=\"android.widget.TextView\" clickable=\"true\" content-desc=\"Calculator\" enabled=\"true\" focusable=\"true\" focused=\"false\" index=\"2\" long-clickable=\"true\" package=\"com.sec.android.app.launcher\" password=\"false\" resource-id=\"com.sec.android.app.launcher:id/apps_icon\" scrollable=\"false\" selected=\"false\" text=\"Calculator\"/>\\n                    <node bounds=\"[643,311][839,583]\" checkable=\"false\" checked=\"false\" class=\"android.widget.TextView\" clickable=\"true\" content-desc=\"Calendar\" enabled=\"true\" focusable=\"true\" focused=\"false\" index=\"3\" long-clickable=\"true\" package=\"com.sec.android.app.launcher\" password=\"false\" resource-id=\"com.sec.android.app.launcher:id/apps_icon\" scrollable=\"false\" selected=\"false\" text=\"Calendar\"/>\\n                    <node bounds=\"[844,311][1040,583]\" checkable=\"false\" checked=\"false\" class=\"android.widget.TextView\" clickable=\"true\" content-desc=\"Camera\" enabled=\"true\" focusable=\"true\" focused=\"false\" index=\"4\" long-clickable=\"true\" package=\"com.sec.android.app.launcher\" password=\"false\" resource-id=\"com.sec.android.app.launcher:id/apps_icon\" scrollable=\"false\" selected=\"false\" text=\"Camera\"/>\\n                    <node bounds=\"[40,587][236,859]\" checkable=\"false\" checked=\"false\" class=\"android.widget.TextView\" clickable=\"true\" content-desc=\"Chrome\" enabled=\"true\" focusable=\"true\" focused=\"false\" index=\"5\" long-clickable=\"true\" package=\"com.sec.android.app.launcher\" password=\"false\" resource-id=\"com.sec.android.app.launcher:id/apps_icon\" scrollable=\"false\" selected=\"false\" text=\"Chrome\"/>\\n                    <node bounds=\"[241,587][437,859]\" checkable=\"false\" checked=\"false\" class=\"android.widget.TextView\" clickable=\"true\" content-desc=\"Clock\" enabled=\"true\" focusable=\"true\" focused=\"false\" index=\"6\" long-clickable=\"true\" package=\"com.sec.android.app.launcher\" password=\"false\" resource-id=\"com.sec.android.app.launcher:id/apps_icon\" scrollable=\"false\" selected=\"false\" text=\"Clock\"/>\\n                    <node bounds=\"[442,587][638,859]\" checkable=\"false\" checked=\"false\" class=\"android.widget.TextView\" clickable=\"true\" content-desc=\"Contacts\" enabled=\"true\" focusable=\"true\" focused=\"false\" index=\"7\" long-clickable=\"true\" package=\"com.sec.android.app.launcher\" password=\"false\" resource-id=\"com.sec.android.app.launcher:id/apps_icon\" scrollable=\"false\" selected=\"false\" text=\"Contacts\"/>\\n                    <node bounds=\"[643,587][839,859]\" checkable=\"false\" checked=\"false\" class=\"android.widget.TextView\" clickable=\"true\" content-desc=\"Gallery\" enabled=\"true\" focusable=\"true\" focused=\"false\" index=\"8\" long-clickable=\"true\" package=\"com.sec.android.app.launcher\" password=\"false\" resource-id=\"com.sec.android.app.launcher:id/apps_icon\" scrollable=\"false\" selected=\"false\" text=\"Gallery\"/>\\n                    <node bounds=\"[844,587][1040,859]\" checkable=\"false\" checked=\"false\" class=\"android.widget.TextView\" clickable=\"true\" content-desc=\"Gmail\" enabled=\"true\" focusable=\"true\" focused=\"false\" index=\"9\" long-clickable=\"true\" package=\"com.sec.android.app.launcher\" password=\"false\" resource-id=\"com.sec.android.app.launcher:id/apps_icon\" scrollable=\"false\" selected=\"false\" text=\"Gmail\"/>\\n                    <node bounds=\"[40,863][236,1135]\" checkable=\"false\" checked=\"false\" class=\"android.widget.TextView\" clickable=\"true\" content-desc=\"Maps\" enabled=\"true\" focusable=\"true\" focused=\"false\" index=\"10\" long-clickable=\"true\" package=\"com.sec.android.app.launcher\" password=\"false\" resource-id=\"com.sec.android.app.launcher:id/apps_icon\" scrollable=\"false\" selected=\"false\" text=\"Maps\"/>\\n                    <node bounds=\"[241,863][437,1135]\" checkable=\"false\" checked=\"false\" class=\"android.widget.TextView\" clickable=\"true\" content-desc=\"Messages\" enabled=\"true\" focusable=\"true\" focused=\"false\" index=\"11\" long-clickable=\"true\" package=\"com.sec.android.app.launcher\" password=\"false\" resource-id=\"com.sec.android.app.launcher:id/apps_icon\" scrollable=\"false\" selected=\"false\" text=\"Messages\"/>\\n                    <node bounds=\"[442,863][638,1135]\" checkable=\"false\" checked=\"false\" class=\"android.widget.TextView\" clickable=\"true\" content-desc=\"Phone\" enabled=\"true\" focusable=\"true\" focused=\"false\" index=\"12\" long-clickable=\"true\" package=\"com.sec.android.app.launcher\" password=\"false\" resource-id=\"com.sec.android.app.launcher:id/apps_icon\" scrollable=\"false\" selected=\"false\" text=\"Phone\"/>\\n                    <node bounds=\"[643,863][839,1135]\" checkable=\"false\" checked=\"false\" class=\"android.widget.TextView\" clickable=\"true\" content-desc=\"Settings\" enabled=\"true\" focusable=\"true\" focused=\"false\" index=\"13\" long-clickable=\"true\" package=\"com.sec.android.app.launcher\" password=\"false\" resource-id=\"com.sec.android.app.launcher:id/apps_icon\" scrollable=\"false\" selected=\"false\" text=\"Settings\"/>\\n                    <node bounds=\"[844,863][1040,1135]\" checkable=\"false\" checked=\"false\" class=\"android.widget.FrameLayout\" clickable=\"true\" content-desc=\"Folder: Shopping\" enabled=\"true\" focusable=\"true\" focused=\"false\" index=\"14\" long-clickable=\"true\" package=\"com.sec.android.app.launcher\" password=\"false\" resource-id=\"\" scrollable=\"false\" selected=\"false\" text=\"\">\\n                      <node bounds=\"[844,1029][1040,1135]\" checkable=\"false\" checked=\"false\" class=\"android.widget.TextView\" clickable=\"false\" content-desc=\"\" enabled=\"true\" focusable=\"false\" focused=\"false\" index=\"0\" long-clickable=\"false\" package=\"com.sec.android.app.launcher\" password=\"false\" resource-id=\"com.sec.android.app.launcher:id/folder_icon_name\" scrollable=\"false\" selected=\"false\" text=\"Shopping\"/>\\n                    </node>\\n                    <node bounds=\"[40,1139][236,1411]\" checkable=\"false\" checked=\"false\" class=\"android.widget.FrameLayout\" clickable=\"true\" content-desc=\"Folder: Camera\" enabled=\"true\" focusable=\"true\" focused=\"false\" index=\"15\" long-clickable=\"true\" package=\"com.sec.android.app.launcher\" password=\"false\" resource-id=\"\" scrollable=\"false\" selected=\"false\" text=\"\">\\n                      <node bounds=\"[40,1305][236,1411]\" checkable=\"false\" checked=\"false\" class=\"android.widget.TextView\" clickable=\"false\" content-desc=\"\" enabled=\"true\" focusable=\"false\" focused=\"false\" index=\"0\" long-clickable=\"false\" package=\"com.sec.android.app.launcher\" password=\"false\" resource-id=\"com.sec.android.app.launcher:id/folder_icon_name\" scrollable=\"false\" selected=\"false\" text=\"Camera\"/>\\n                    </node>\\n                    <node bounds=\"[241,1139][437,1411]\" checkable=\"false\" checked=\"false\" class=\"android.widget.FrameLayout\" clickable=\"true\" content-desc=\"Folder: Run\" enabled=\"true\" focusable=\"true\" focused=\"false\" index=\"16\" long-clickable=\"true\" package=\"com.sec.android.app.launcher\" password=\"false\" resource-id=\"\" scrollable=\"false\" selected=\"false\" text=\"\">\\n                      <node bounds=\"[241,1305][437,1411]\" checkable=\"false\" checked=\"false\" class=\"android.widget.TextView\" clickable=\"false\" content-desc=\"\" enabled=\"true\" focusable=\"false\" focused=\"false\" index=\"0\" long-clickable=\"false\" package=\"com.sec.android.app.launcher\" password=\"false\" resource-id=\"com.sec.android.app.launcher:id/folder_icon_name\" scrollable=\"false\" selected=\"false\" text=\"Run\"/>\\n                    </node>\\n                    <node bounds=\"[442,1139][638,1411]\" checkable=\"false\" checked=\"false\" class=\"android.widget.TextView\" clickable=\"true\" content-desc=\"Reminder\" enabled=\"true\" focusable=\"true\" focused=\"false\" index=\"17\" long-clickable=\"true\" package=\"com.sec.android.app.launcher\" password=\"false\" resource-id=\"com.sec.android.app.launcher:id/apps_icon\" scrollable=\"false\" selected=\"false\" text=\"Reminder\"/>\\n                    <node bounds=\"[643,1139][839,1411]\" checkable=\"false\" checked=\"false\" class=\"android.widget.FrameLayout\" clickable=\"true\" content-desc=\"Folder: Games\" enabled=\"true\" focusable=\"true\" focused=\"false\" index=\"18\" long-clickable=\"true\" package=\"com.sec.android.app.launcher\" password=\"false\" resource-id=\"\" scrollable=\"false\" selected=\"false\" text=\"\">\\n                      <node bounds=\"[643,1305][839,1411]\" checkable=\"false\" checked=\"false\" class=\"android.widget.TextView\" clickable=\"false\" content-desc=\"\" enabled=\"true\" focusable=\"false\" focused=\"false\" index=\"0\" long-clickable=\"false\" package=\"com.sec.android.app.launcher\" password=\"false\" resource-id=\"com.sec.android.app.launcher:id/folder_icon_name\" scrollable=\"false\" selected=\"false\" text=\"Games\"/>\\n                    </node>\\n                    <node bounds=\"[844,1139][1040,1411]\" checkable=\"false\" checked=\"false\" class=\"android.widget.FrameLayout\" clickable=\"true\" content-desc=\"Folder: Travel\" enabled=\"true\" focusable=\"true\" focused=\"false\" index=\"19\" long-clickable=\"true\" package=\"com.sec.android.app.launcher\" password=\"false\" resource-id=\"\" scrollable=\"false\" selected=\"false\" text=\"\">\\n                      <node bounds=\"[844,1305][1040,1411]\" checkable=\"false\" checked=\"false\" class=\"android.widget.TextView\" clickable=\"false\" content-desc=\"\" enabled=\"true\" focusable=\"false\" focused=\"false\" index=\"0\" long-clickable=\"false\" package=\"com.sec.android.app.launcher\" password=\"false\" resource-id=\"com.sec.android.app.launcher:id/folder_icon_name\" scrollable=\"false\" selected=\"false\" text=\"Travel\"/>\\n                    </node>\\n                    <node bounds=\"[40,1415][236,1687]\" checkable=\"false\" checked=\"false\" class=\"android.widget.TextView\" clickable=\"true\" content-desc=\"WhatsApp\" enabled=\"true\" focusable=\"true\" focused=\"false\" index=\"20\" long-clickable=\"true\" package=\"com.sec.android.app.launcher\" password=\"false\" resource-id=\"com.sec.android.app.launcher:id/apps_icon\" scrollable=\"false\" selected=\"false\" text=\"WhatsApp\"/>\\n                    <node bounds=\"[241,1415][437,1687]\" checkable=\"false\" checked=\"false\" class=\"android.widget.TextView\" clickable=\"true\" content-desc=\"WordWeb\" enabled=\"true\" focusable=\"true\" focused=\"false\" index=\"21\" long-clickable=\"true\" package=\"com.sec.android.app.launcher\" password=\"false\" resource-id=\"com.sec.android.app.launcher:id/apps_icon\" scrollable=\"false\" selected=\"false\" text=\"WordWeb\"/>\\n                    <node bounds=\"[442,1415][638,1687]\" checkable=\"false\" checked=\"false\" class=\"android.widget.TextView\" clickable=\"true\" content-desc=\"Spotify\" enabled=\"true\" focusable=\"true\" focused=\"false\" index=\"22\" long-clickable=\"true\" package=\"com.sec.android.app.launcher\" password=\"false\" resource-id=\"com.sec.android.app.launcher:id/apps_icon\" scrollable=\"false\" selected=\"false\" text=\"Spotify\"/>\\n                    <node bounds=\"[643,1415][839,1687]\" checkable=\"false\" checked=\"false\" class=\"android.widget.TextView\" clickable=\"true\" content-desc=\"Airtel Services\" enabled=\"true\" focusable=\"true\" focused=\"false\" index=\"23\" long-clickable=\"true\" package=\"com.sec.android.app.launcher\" password=\"false\" resource-id=\"com.sec.android.app.launcher:id/apps_icon\" scrollable=\"false\" selected=\"false\" text=\"Airtel Services\"/>\\n                    <node bounds=\"[844,1415][1040,1687]\" checkable=\"false\" checked=\"false\" class=\"android.widget.TextView\" clickable=\"true\" content-desc=\"JioSaavn\" enabled=\"true\" focusable=\"true\" focused=\"false\" index=\"24\" long-clickable=\"true\" package=\"com.sec.android.app.launcher\" password=\"false\" resource-id=\"com.sec.android.app.launcher:id/apps_icon\" scrollable=\"false\" selected=\"false\" text=\"JioSaavn\"/>\\n                    <node bounds=\"[40,1691][236,1963]\" checkable=\"false\" checked=\"false\" class=\"android.widget.TextView\" clickable=\"true\" content-desc=\"Instagram\" enabled=\"true\" focusable=\"true\" focused=\"false\" index=\"25\" long-clickable=\"true\" package=\"com.sec.android.app.launcher\" password=\"false\" resource-id=\"com.sec.android.app.launcher:id/apps_icon\" scrollable=\"false\" selected=\"false\" text=\"Instagram\"/>\\n                    <node bounds=\"[241,1691][437,1963]\" checkable=\"false\" checked=\"false\" class=\"android.widget.TextView\" clickable=\"true\" content-desc=\"flutterapptest\" enabled=\"true\" focusable=\"true\" focused=\"false\" index=\"26\" long-clickable=\"true\" package=\"com.sec.android.app.launcher\" password=\"false\" resource-id=\"com.sec.android.app.launcher:id/apps_icon\" scrollable=\"false\" selected=\"false\" text=\"flutterapptest\"/>\\n                  </node>\\n                </node>\\n              </node>\\n              <node bounds=\"[0,0][1080,270]\" checkable=\"false\" checked=\"false\" class=\"android.widget.LinearLayout\" clickable=\"false\" content-desc=\"\" enabled=\"true\" focusable=\"false\" focused=\"false\" index=\"1\" long-clickable=\"false\" package=\"com.sec.android.app.launcher\" password=\"false\" resource-id=\"com.sec.android.app.launcher:id/apps_searchbar_container\" scrollable=\"false\" selected=\"false\" text=\"\">\\n                <node bounds=\"[0,81][1080,270]\" checkable=\"false\" checked=\"false\" class=\"android.widget.RelativeLayout\" clickable=\"false\" content-desc=\"\" enabled=\"true\" focusable=\"false\" focused=\"false\" index=\"0\" long-clickable=\"false\" package=\"com.sec.android.app.launcher\" password=\"false\" resource-id=\"com.sec.android.app.launcher:id/app_search_wrapper\" scrollable=\"false\" selected=\"false\" text=\"\">\\n                  <node bounds=\"[60,101][1020,250]\" checkable=\"false\" checked=\"false\" class=\"android.widget.LinearLayout\" clickable=\"false\" content-desc=\"\" enabled=\"true\" focusable=\"false\" focused=\"false\" index=\"0\" long-clickable=\"false\" package=\"com.sec.android.app.launcher\" password=\"false\" resource-id=\"\" scrollable=\"false\" selected=\"false\" text=\"\">\\n                    <node bounds=\"[60,101][871,250]\" checkable=\"false\" checked=\"false\" class=\"android.widget.LinearLayout\" clickable=\"false\" content-desc=\"\" enabled=\"true\" focusable=\"true\" focused=\"false\" index=\"0\" long-clickable=\"false\" package=\"com.sec.android.app.launcher\" password=\"false\" resource-id=\"com.sec.android.app.launcher:id/app_search_edit_text_wrapper\" scrollable=\"false\" selected=\"false\" text=\"\">\\n                      <node bounds=\"[121,101][871,250]\" checkable=\"false\" checked=\"false\" class=\"android.widget.EditText\" clickable=\"true\" content-desc=\"\" enabled=\"true\" focusable=\"false\" focused=\"false\" index=\"0\" long-clickable=\"true\" package=\"com.sec.android.app.launcher\" password=\"false\" resource-id=\"com.sec.android.app.launcher:id/app_search_edit_text\" scrollable=\"false\" selected=\"false\" text=\"Search\"/>\\n                    </node>\\n                    <node bounds=\"[871,101][1020,250]\" checkable=\"false\" checked=\"false\" class=\"android.widget.FrameLayout\" clickable=\"false\" content-desc=\"\" enabled=\"true\" focusable=\"false\" focused=\"false\" index=\"1\" long-clickable=\"false\" package=\"com.sec.android.app.launcher\" password=\"false\" resource-id=\"com.sec.android.app.launcher:id/more_button_container\" scrollable=\"false\" selected=\"false\" text=\"\">\\n                      <node bounds=\"[871,101][1020,250]\" checkable=\"false\" checked=\"false\" class=\"android.widget.ImageButton\" clickable=\"true\" content-desc=\"More options\" enabled=\"true\" focusable=\"true\" focused=\"false\" index=\"1\" long-clickable=\"false\" package=\"com.sec.android.app.launcher\" password=\"false\" resource-id=\"com.sec.android.app.launcher:id/more_icon_imageview\" scrollable=\"false\" selected=\"false\" text=\"\"/>\\n                    </node>\\n                  </node>\\n                </node>\\n              </node>\\n              <node bounds=\"[0,1956][1080,2037]\" checkable=\"false\" checked=\"false\" class=\"android.widget.LinearLayout\" clickable=\"false\" content-desc=\"\" enabled=\"true\" focusable=\"false\" focused=\"false\" index=\"2\" long-clickable=\"false\" package=\"com.sec.android.app.launcher\" password=\"false\" resource-id=\"com.sec.android.app.launcher:id/apps_page_indicator\" scrollable=\"false\" selected=\"false\" text=\"\">\\n                <node bounds=\"[512,1971][567,2022]\" checkable=\"false\" checked=\"false\" class=\"android.widget.FrameLayout\" clickable=\"true\" content-desc=\"Page 1 of 1, Current page is last page.\" enabled=\"true\" focusable=\"false\" focused=\"false\" index=\"0\" long-clickable=\"false\" package=\"com.sec.android.app.launcher\" password=\"false\" resource-id=\"\" scrollable=\"false\" selected=\"false\" text=\"\">\\n                  <node bounds=\"[514,1971][565,2022]\" checkable=\"false\" checked=\"false\" class=\"android.widget.ImageView\" clickable=\"false\" content-desc=\"\" enabled=\"true\" focusable=\"false\" focused=\"false\" index=\"1\" long-clickable=\"false\" package=\"com.sec.android.app.launcher\" password=\"false\" resource-id=\"com.sec.android.app.launcher:id/active\" scrollable=\"false\" selected=\"false\" text=\"\"/>\\n                </node>\\n              </node>\\n            </node>\\n          </node>\\n        </node>\\n      </node>\\n    </node>\\n  </node>\\n</hierarchy>\\n'"
      ]
     },
     "execution_count": 8,
     "metadata": {},
     "output_type": "execute_result"
    }
   ],
   "source": [
    "d.dump('soXML.xml')"
   ]
  },
  {
   "cell_type": "code",
   "execution_count": 9,
   "metadata": {},
   "outputs": [],
   "source": [
    "instaVal=d(text='Gallery', className='android.widget.TextView')"
   ]
  },
  {
   "cell_type": "code",
   "execution_count": 10,
   "metadata": {},
   "outputs": [
    {
     "data": {
      "text/plain": [
       "True"
      ]
     },
     "execution_count": 10,
     "metadata": {},
     "output_type": "execute_result"
    }
   ],
   "source": [
    "instaVal.click()"
   ]
  },
  {
   "cell_type": "code",
   "execution_count": null,
   "metadata": {},
   "outputs": [],
   "source": [
    "instaVal.click()"
   ]
  },
  {
   "cell_type": "code",
   "execution_count": 11,
   "metadata": {},
   "outputs": [
    {
     "data": {
      "text/plain": [
       "True"
      ]
     },
     "execution_count": 11,
     "metadata": {},
     "output_type": "execute_result"
    }
   ],
   "source": [
    "sx, sy, ex, ey= 560,800,560 ,150\n",
    "d.swipe(sx, sy, ex, ey, steps=10)"
   ]
  },
  {
   "cell_type": "code",
   "execution_count": 12,
   "metadata": {},
   "outputs": [
    {
     "data": {
      "text/plain": [
       "True"
      ]
     },
     "execution_count": 12,
     "metadata": {},
     "output_type": "execute_result"
    }
   ],
   "source": [
    "pp=d(className='android.widget.TextView',text='Downloads')#,index=\"2\")\n",
    "pp.click()"
   ]
  },
  {
   "cell_type": "code",
   "execution_count": 13,
   "metadata": {},
   "outputs": [
    {
     "data": {
      "text/plain": [
       "'<?xml version=\"1.0\" ?>\\n<hierarchy rotation=\"0\">\\n  <node bounds=\"[0,0][1080,2058]\" checkable=\"false\" checked=\"false\" class=\"android.widget.FrameLayout\" clickable=\"false\" content-desc=\"\" enabled=\"true\" focusable=\"false\" focused=\"false\" index=\"0\" long-clickable=\"false\" package=\"com.sec.android.gallery3d\" password=\"false\" resource-id=\"\" scrollable=\"false\" selected=\"false\" text=\"\">\\n    <node bounds=\"[0,0][1080,2058]\" checkable=\"false\" checked=\"false\" class=\"android.widget.LinearLayout\" clickable=\"false\" content-desc=\"\" enabled=\"true\" focusable=\"false\" focused=\"false\" index=\"0\" long-clickable=\"false\" package=\"com.sec.android.gallery3d\" password=\"false\" resource-id=\"\" scrollable=\"false\" selected=\"false\" text=\"\">\\n      <node bounds=\"[0,81][1080,2058]\" checkable=\"false\" checked=\"false\" class=\"android.widget.FrameLayout\" clickable=\"false\" content-desc=\"\" enabled=\"true\" focusable=\"false\" focused=\"false\" index=\"0\" long-clickable=\"false\" package=\"com.sec.android.gallery3d\" password=\"false\" resource-id=\"\" scrollable=\"false\" selected=\"false\" text=\"\">\\n        <node bounds=\"[0,81][1080,2058]\" checkable=\"false\" checked=\"false\" class=\"android.widget.LinearLayout\" clickable=\"false\" content-desc=\"\" enabled=\"true\" focusable=\"false\" focused=\"false\" index=\"0\" long-clickable=\"false\" package=\"com.sec.android.gallery3d\" password=\"false\" resource-id=\"com.sec.android.gallery3d:id/action_bar_root\" scrollable=\"false\" selected=\"false\" text=\"\">\\n          <node bounds=\"[0,81][1080,2058]\" checkable=\"false\" checked=\"false\" class=\"android.widget.FrameLayout\" clickable=\"false\" content-desc=\"\" enabled=\"true\" focusable=\"false\" focused=\"false\" index=\"0\" long-clickable=\"false\" package=\"com.sec.android.gallery3d\" password=\"false\" resource-id=\"android:id/content\" scrollable=\"false\" selected=\"false\" text=\"\">\\n            <node bounds=\"[0,81][1080,2058]\" checkable=\"false\" checked=\"false\" class=\"android.widget.FrameLayout\" clickable=\"false\" content-desc=\"\" enabled=\"true\" focusable=\"false\" focused=\"false\" index=\"0\" long-clickable=\"false\" package=\"com.sec.android.gallery3d\" password=\"false\" resource-id=\"com.sec.android.gallery3d:id/content_layout\" scrollable=\"false\" selected=\"false\" text=\"\">\\n              <node bounds=\"[0,81][1080,2058]\" checkable=\"false\" checked=\"false\" class=\"android.widget.FrameLayout\" clickable=\"false\" content-desc=\"\" enabled=\"true\" focusable=\"false\" focused=\"false\" index=\"0\" long-clickable=\"false\" package=\"com.sec.android.gallery3d\" password=\"false\" resource-id=\"com.sec.android.gallery3d:id/content\" scrollable=\"false\" selected=\"false\" text=\"\">\\n                <node bounds=\"[0,81][1080,2058]\" checkable=\"false\" checked=\"false\" class=\"android.view.ViewGroup\" clickable=\"false\" content-desc=\"\" enabled=\"true\" focusable=\"false\" focused=\"false\" index=\"0\" long-clickable=\"false\" package=\"com.sec.android.gallery3d\" password=\"false\" resource-id=\"\" scrollable=\"false\" selected=\"false\" text=\"\">\\n                  <node bounds=\"[0,81][1080,311]\" checkable=\"false\" checked=\"false\" class=\"android.widget.LinearLayout\" clickable=\"false\" content-desc=\"\" enabled=\"true\" focusable=\"false\" focused=\"false\" index=\"0\" long-clickable=\"false\" package=\"com.sec.android.gallery3d\" password=\"false\" resource-id=\"com.sec.android.gallery3d:id/appbar\" scrollable=\"false\" selected=\"false\" text=\"\">\\n                    <node bounds=\"[0,81][1080,270]\" checkable=\"false\" checked=\"false\" class=\"android.widget.FrameLayout\" clickable=\"false\" content-desc=\"\" enabled=\"true\" focusable=\"false\" focused=\"false\" index=\"0\" long-clickable=\"false\" package=\"com.sec.android.gallery3d\" password=\"false\" resource-id=\"com.sec.android.gallery3d:id/toolbar_layout\" scrollable=\"false\" selected=\"false\" text=\"\">\\n                      <node bounds=\"[0,81][1080,270]\" checkable=\"false\" checked=\"false\" class=\"android.widget.LinearLayout\" clickable=\"false\" content-desc=\"\" enabled=\"true\" focusable=\"false\" focused=\"false\" index=\"0\" long-clickable=\"false\" package=\"com.sec.android.gallery3d\" password=\"false\" resource-id=\"com.sec.android.gallery3d:id/collpasing_app_bar_title_layout_parent\" scrollable=\"false\" selected=\"false\" text=\"\"/>\\n                      <node bounds=\"[0,81][1080,270]\" checkable=\"false\" checked=\"false\" class=\"android.view.ViewGroup\" clickable=\"false\" content-desc=\"\" enabled=\"true\" focusable=\"false\" focused=\"false\" index=\"1\" long-clickable=\"false\" package=\"com.sec.android.gallery3d\" password=\"false\" resource-id=\"com.sec.android.gallery3d:id/toolbar\" scrollable=\"false\" selected=\"false\" text=\"\">\\n                        <node bounds=\"[0,81][189,270]\" checkable=\"false\" checked=\"false\" class=\"android.widget.ImageButton\" clickable=\"true\" content-desc=\"Navigate up\" enabled=\"true\" focusable=\"true\" focused=\"false\" index=\"0\" long-clickable=\"true\" package=\"com.sec.android.gallery3d\" password=\"false\" resource-id=\"\" scrollable=\"false\" selected=\"false\" text=\"\"/>\\n                        <node bounds=\"[189,98][508,184]\" checkable=\"false\" checked=\"false\" class=\"android.widget.TextView\" clickable=\"false\" content-desc=\"\" enabled=\"true\" focusable=\"false\" focused=\"false\" index=\"1\" long-clickable=\"false\" package=\"com.sec.android.gallery3d\" password=\"false\" resource-id=\"\" scrollable=\"false\" selected=\"false\" text=\"Downloads\"/>\\n                        <node bounds=\"[189,184][421,252]\" checkable=\"false\" checked=\"false\" class=\"android.widget.TextView\" clickable=\"false\" content-desc=\"\" enabled=\"true\" focusable=\"false\" focused=\"false\" index=\"2\" long-clickable=\"false\" package=\"com.sec.android.gallery3d\" password=\"false\" resource-id=\"\" scrollable=\"false\" selected=\"false\" text=\"34 images\"/>\\n                        <node bounds=\"[595,81][1080,270]\" checkable=\"false\" checked=\"false\" class=\"androidx.appcompat.widget.LinearLayoutCompat\" clickable=\"false\" content-desc=\"\" enabled=\"true\" focusable=\"false\" focused=\"false\" index=\"3\" long-clickable=\"false\" package=\"com.sec.android.gallery3d\" password=\"false\" resource-id=\"\" scrollable=\"false\" selected=\"false\" text=\"\">\\n                          <node bounds=\"[595,81][758,270]\" checkable=\"false\" checked=\"false\" class=\"android.widget.Button\" clickable=\"true\" content-desc=\"Create movie\" enabled=\"true\" focusable=\"true\" focused=\"false\" index=\"0\" long-clickable=\"true\" package=\"com.sec.android.gallery3d\" password=\"false\" resource-id=\"com.sec.android.gallery3d:id/action_create_movie_v2\" scrollable=\"false\" selected=\"false\" text=\"\"/>\\n                          <node bounds=\"[758,81][921,270]\" checkable=\"false\" checked=\"false\" class=\"android.widget.Button\" clickable=\"true\" content-desc=\"Search\" enabled=\"true\" focusable=\"true\" focused=\"false\" index=\"1\" long-clickable=\"true\" package=\"com.sec.android.gallery3d\" password=\"false\" resource-id=\"com.sec.android.gallery3d:id/action_search\" scrollable=\"false\" selected=\"false\" text=\"\"/>\\n                          <node bounds=\"[921,81][1080,270]\" checkable=\"false\" checked=\"false\" class=\"android.widget.FrameLayout\" clickable=\"false\" content-desc=\"\" enabled=\"true\" focusable=\"false\" focused=\"false\" index=\"2\" long-clickable=\"false\" package=\"com.sec.android.gallery3d\" password=\"false\" resource-id=\"\" scrollable=\"false\" selected=\"false\" text=\"\">\\n                            <node bounds=\"[921,81][1080,270]\" checkable=\"false\" checked=\"false\" class=\"android.widget.ImageView\" clickable=\"true\" content-desc=\"More options\" enabled=\"true\" focusable=\"true\" focused=\"false\" index=\"0\" long-clickable=\"true\" package=\"com.sec.android.gallery3d\" password=\"false\" resource-id=\"\" scrollable=\"false\" selected=\"false\" text=\"\"/>\\n                          </node>\\n                        </node>\\n                      </node>\\n                    </node>\\n                  </node>\\n                  <node bounds=\"[0,311][1080,2058]\" checkable=\"false\" checked=\"false\" class=\"android.widget.RelativeLayout\" clickable=\"false\" content-desc=\"\" enabled=\"true\" focusable=\"false\" focused=\"false\" index=\"1\" long-clickable=\"false\" package=\"com.sec.android.gallery3d\" password=\"false\" resource-id=\"\" scrollable=\"false\" selected=\"false\" text=\"\">\\n                    <node bounds=\"[0,311][1080,2058]\" checkable=\"false\" checked=\"false\" class=\"android.widget.FrameLayout\" clickable=\"false\" content-desc=\"\" enabled=\"true\" focusable=\"false\" focused=\"false\" index=\"0\" long-clickable=\"false\" package=\"com.sec.android.gallery3d\" password=\"false\" resource-id=\"\" scrollable=\"false\" selected=\"false\" text=\"\">\\n                      <node bounds=\"[0,311][1080,2058]\" checkable=\"false\" checked=\"false\" class=\"android.widget.FrameLayout\" clickable=\"false\" content-desc=\"\" enabled=\"true\" focusable=\"false\" focused=\"false\" index=\"0\" long-clickable=\"false\" package=\"com.sec.android.gallery3d\" password=\"false\" resource-id=\"\" scrollable=\"false\" selected=\"false\" text=\"\">\\n                        <node bounds=\"[0,311][1080,2058]\" checkable=\"false\" checked=\"false\" class=\"android.widget.FrameLayout\" clickable=\"false\" content-desc=\"\" enabled=\"true\" focusable=\"false\" focused=\"false\" index=\"0\" long-clickable=\"false\" package=\"com.sec.android.gallery3d\" password=\"false\" resource-id=\"\" scrollable=\"false\" selected=\"false\" text=\"\">\\n                          <node bounds=\"[0,311][1080,2058]\" checkable=\"false\" checked=\"false\" class=\"android.view.ViewGroup\" clickable=\"false\" content-desc=\"\" enabled=\"true\" focusable=\"true\" focused=\"false\" index=\"0\" long-clickable=\"false\" package=\"com.sec.android.gallery3d\" password=\"false\" resource-id=\"com.sec.android.gallery3d:id/my_recycler_view\" scrollable=\"true\" selected=\"false\" text=\"\">\\n                            <node bounds=\"[0,311][360,671]\" checkable=\"false\" checked=\"false\" class=\"android.widget.FrameLayout\" clickable=\"true\" content-desc=\"Button\" enabled=\"true\" focusable=\"true\" focused=\"false\" index=\"0\" long-clickable=\"true\" package=\"com.sec.android.gallery3d\" password=\"false\" resource-id=\"com.sec.android.gallery3d:id/recycler_view_item\" scrollable=\"false\" selected=\"false\" text=\"\">\\n                              <node bounds=\"[2,313][358,669]\" checkable=\"false\" checked=\"false\" class=\"android.widget.ImageView\" clickable=\"false\" content-desc=\"\" enabled=\"true\" focusable=\"false\" focused=\"false\" index=\"0\" long-clickable=\"false\" package=\"com.sec.android.gallery3d\" password=\"false\" resource-id=\"com.sec.android.gallery3d:id/thumbnail\" scrollable=\"false\" selected=\"false\" text=\"\"/>\\n                            </node>\\n                            <node bounds=\"[360,311][720,671]\" checkable=\"false\" checked=\"false\" class=\"android.widget.FrameLayout\" clickable=\"true\" content-desc=\"Button\" enabled=\"true\" focusable=\"true\" focused=\"false\" index=\"1\" long-clickable=\"true\" package=\"com.sec.android.gallery3d\" password=\"false\" resource-id=\"com.sec.android.gallery3d:id/recycler_view_item\" scrollable=\"false\" selected=\"false\" text=\"\">\\n                              <node bounds=\"[362,313][718,669]\" checkable=\"false\" checked=\"false\" class=\"android.widget.ImageView\" clickable=\"false\" content-desc=\"\" enabled=\"true\" focusable=\"false\" focused=\"false\" index=\"0\" long-clickable=\"false\" package=\"com.sec.android.gallery3d\" password=\"false\" resource-id=\"com.sec.android.gallery3d:id/thumbnail\" scrollable=\"false\" selected=\"false\" text=\"\"/>\\n                            </node>\\n                            <node bounds=\"[720,311][1080,671]\" checkable=\"false\" checked=\"false\" class=\"android.widget.FrameLayout\" clickable=\"true\" content-desc=\"Button\" enabled=\"true\" focusable=\"true\" focused=\"false\" index=\"2\" long-clickable=\"true\" package=\"com.sec.android.gallery3d\" password=\"false\" resource-id=\"com.sec.android.gallery3d:id/recycler_view_item\" scrollable=\"false\" selected=\"false\" text=\"\">\\n                              <node bounds=\"[722,313][1078,669]\" checkable=\"false\" checked=\"false\" class=\"android.widget.ImageView\" clickable=\"false\" content-desc=\"\" enabled=\"true\" focusable=\"false\" focused=\"false\" index=\"0\" long-clickable=\"false\" package=\"com.sec.android.gallery3d\" password=\"false\" resource-id=\"com.sec.android.gallery3d:id/thumbnail\" scrollable=\"false\" selected=\"false\" text=\"\"/>\\n                            </node>\\n                            <node bounds=\"[0,671][360,1031]\" checkable=\"false\" checked=\"false\" class=\"android.widget.FrameLayout\" clickable=\"true\" content-desc=\"Button\" enabled=\"true\" focusable=\"true\" focused=\"false\" index=\"3\" long-clickable=\"true\" package=\"com.sec.android.gallery3d\" password=\"false\" resource-id=\"com.sec.android.gallery3d:id/recycler_view_item\" scrollable=\"false\" selected=\"false\" text=\"\">\\n                              <node bounds=\"[2,673][358,1029]\" checkable=\"false\" checked=\"false\" class=\"android.widget.ImageView\" clickable=\"false\" content-desc=\"\" enabled=\"true\" focusable=\"false\" focused=\"false\" index=\"0\" long-clickable=\"false\" package=\"com.sec.android.gallery3d\" password=\"false\" resource-id=\"com.sec.android.gallery3d:id/thumbnail\" scrollable=\"false\" selected=\"false\" text=\"\"/>\\n                            </node>\\n                            <node bounds=\"[360,671][720,1031]\" checkable=\"false\" checked=\"false\" class=\"android.widget.FrameLayout\" clickable=\"true\" content-desc=\"Button\" enabled=\"true\" focusable=\"true\" focused=\"false\" index=\"4\" long-clickable=\"true\" package=\"com.sec.android.gallery3d\" password=\"false\" resource-id=\"com.sec.android.gallery3d:id/recycler_view_item\" scrollable=\"false\" selected=\"false\" text=\"\">\\n                              <node bounds=\"[362,673][718,1029]\" checkable=\"false\" checked=\"false\" class=\"android.widget.ImageView\" clickable=\"false\" content-desc=\"\" enabled=\"true\" focusable=\"false\" focused=\"false\" index=\"0\" long-clickable=\"false\" package=\"com.sec.android.gallery3d\" password=\"false\" resource-id=\"com.sec.android.gallery3d:id/thumbnail\" scrollable=\"false\" selected=\"false\" text=\"\"/>\\n                            </node>\\n                            <node bounds=\"[720,671][1080,1031]\" checkable=\"false\" checked=\"false\" class=\"android.widget.FrameLayout\" clickable=\"true\" content-desc=\"Button\" enabled=\"true\" focusable=\"true\" focused=\"false\" index=\"5\" long-clickable=\"true\" package=\"com.sec.android.gallery3d\" password=\"false\" resource-id=\"com.sec.android.gallery3d:id/recycler_view_item\" scrollable=\"false\" selected=\"false\" text=\"\">\\n                              <node bounds=\"[722,673][1078,1029]\" checkable=\"false\" checked=\"false\" class=\"android.widget.ImageView\" clickable=\"false\" content-desc=\"\" enabled=\"true\" focusable=\"false\" focused=\"false\" index=\"0\" long-clickable=\"false\" package=\"com.sec.android.gallery3d\" password=\"false\" resource-id=\"com.sec.android.gallery3d:id/thumbnail\" scrollable=\"false\" selected=\"false\" text=\"\"/>\\n                            </node>\\n                            <node bounds=\"[0,1031][360,1391]\" checkable=\"false\" checked=\"false\" class=\"android.widget.FrameLayout\" clickable=\"true\" content-desc=\"Button\" enabled=\"true\" focusable=\"true\" focused=\"false\" index=\"6\" long-clickable=\"true\" package=\"com.sec.android.gallery3d\" password=\"false\" resource-id=\"com.sec.android.gallery3d:id/recycler_view_item\" scrollable=\"false\" selected=\"false\" text=\"\">\\n                              <node bounds=\"[2,1033][358,1389]\" checkable=\"false\" checked=\"false\" class=\"android.widget.ImageView\" clickable=\"false\" content-desc=\"\" enabled=\"true\" focusable=\"false\" focused=\"false\" index=\"0\" long-clickable=\"false\" package=\"com.sec.android.gallery3d\" password=\"false\" resource-id=\"com.sec.android.gallery3d:id/thumbnail\" scrollable=\"false\" selected=\"false\" text=\"\"/>\\n                            </node>\\n                            <node bounds=\"[360,1031][720,1391]\" checkable=\"false\" checked=\"false\" class=\"android.widget.FrameLayout\" clickable=\"true\" content-desc=\"Button\" enabled=\"true\" focusable=\"true\" focused=\"false\" index=\"7\" long-clickable=\"true\" package=\"com.sec.android.gallery3d\" password=\"false\" resource-id=\"com.sec.android.gallery3d:id/recycler_view_item\" scrollable=\"false\" selected=\"false\" text=\"\">\\n                              <node bounds=\"[362,1033][718,1389]\" checkable=\"false\" checked=\"false\" class=\"android.widget.ImageView\" clickable=\"false\" content-desc=\"\" enabled=\"true\" focusable=\"false\" focused=\"false\" index=\"0\" long-clickable=\"false\" package=\"com.sec.android.gallery3d\" password=\"false\" resource-id=\"com.sec.android.gallery3d:id/thumbnail\" scrollable=\"false\" selected=\"false\" text=\"\"/>\\n                            </node>\\n                            <node bounds=\"[720,1031][1080,1391]\" checkable=\"false\" checked=\"false\" class=\"android.widget.FrameLayout\" clickable=\"true\" content-desc=\"Button\" enabled=\"true\" focusable=\"true\" focused=\"false\" index=\"8\" long-clickable=\"true\" package=\"com.sec.android.gallery3d\" password=\"false\" resource-id=\"com.sec.android.gallery3d:id/recycler_view_item\" scrollable=\"false\" selected=\"false\" text=\"\">\\n                              <node bounds=\"[722,1033][1078,1389]\" checkable=\"false\" checked=\"false\" class=\"android.widget.ImageView\" clickable=\"false\" content-desc=\"\" enabled=\"true\" focusable=\"false\" focused=\"false\" index=\"0\" long-clickable=\"false\" package=\"com.sec.android.gallery3d\" password=\"false\" resource-id=\"com.sec.android.gallery3d:id/thumbnail\" scrollable=\"false\" selected=\"false\" text=\"\"/>\\n                            </node>\\n                            <node bounds=\"[0,1391][360,1751]\" checkable=\"false\" checked=\"false\" class=\"android.widget.FrameLayout\" clickable=\"true\" content-desc=\"Button\" enabled=\"true\" focusable=\"true\" focused=\"false\" index=\"9\" long-clickable=\"true\" package=\"com.sec.android.gallery3d\" password=\"false\" resource-id=\"com.sec.android.gallery3d:id/recycler_view_item\" scrollable=\"false\" selected=\"false\" text=\"\">\\n                              <node bounds=\"[2,1393][358,1749]\" checkable=\"false\" checked=\"false\" class=\"android.widget.ImageView\" clickable=\"false\" content-desc=\"\" enabled=\"true\" focusable=\"false\" focused=\"false\" index=\"0\" long-clickable=\"false\" package=\"com.sec.android.gallery3d\" password=\"false\" resource-id=\"com.sec.android.gallery3d:id/thumbnail\" scrollable=\"false\" selected=\"false\" text=\"\"/>\\n                            </node>\\n                            <node bounds=\"[360,1391][720,1751]\" checkable=\"false\" checked=\"false\" class=\"android.widget.FrameLayout\" clickable=\"true\" content-desc=\"Button\" enabled=\"true\" focusable=\"true\" focused=\"false\" index=\"10\" long-clickable=\"true\" package=\"com.sec.android.gallery3d\" password=\"false\" resource-id=\"com.sec.android.gallery3d:id/recycler_view_item\" scrollable=\"false\" selected=\"false\" text=\"\">\\n                              <node bounds=\"[362,1393][718,1749]\" checkable=\"false\" checked=\"false\" class=\"android.widget.ImageView\" clickable=\"false\" content-desc=\"\" enabled=\"true\" focusable=\"false\" focused=\"false\" index=\"0\" long-clickable=\"false\" package=\"com.sec.android.gallery3d\" password=\"false\" resource-id=\"com.sec.android.gallery3d:id/thumbnail\" scrollable=\"false\" selected=\"false\" text=\"\"/>\\n                            </node>\\n                            <node bounds=\"[720,1391][1080,1751]\" checkable=\"false\" checked=\"false\" class=\"android.widget.FrameLayout\" clickable=\"true\" content-desc=\"Button\" enabled=\"true\" focusable=\"true\" focused=\"false\" index=\"11\" long-clickable=\"true\" package=\"com.sec.android.gallery3d\" password=\"false\" resource-id=\"com.sec.android.gallery3d:id/recycler_view_item\" scrollable=\"false\" selected=\"false\" text=\"\">\\n                              <node bounds=\"[722,1393][1078,1749]\" checkable=\"false\" checked=\"false\" class=\"android.widget.ImageView\" clickable=\"false\" content-desc=\"\" enabled=\"true\" focusable=\"false\" focused=\"false\" index=\"0\" long-clickable=\"false\" package=\"com.sec.android.gallery3d\" password=\"false\" resource-id=\"com.sec.android.gallery3d:id/thumbnail\" scrollable=\"false\" selected=\"false\" text=\"\"/>\\n                            </node>\\n                            <node bounds=\"[0,1751][360,2058]\" checkable=\"false\" checked=\"false\" class=\"android.widget.FrameLayout\" clickable=\"true\" content-desc=\"Button\" enabled=\"true\" focusable=\"true\" focused=\"false\" index=\"12\" long-clickable=\"true\" package=\"com.sec.android.gallery3d\" password=\"false\" resource-id=\"com.sec.android.gallery3d:id/recycler_view_item\" scrollable=\"false\" selected=\"false\" text=\"\">\\n                              <node bounds=\"[2,1753][358,2058]\" checkable=\"false\" checked=\"false\" class=\"android.widget.ImageView\" clickable=\"false\" content-desc=\"\" enabled=\"true\" focusable=\"false\" focused=\"false\" index=\"0\" long-clickable=\"false\" package=\"com.sec.android.gallery3d\" password=\"false\" resource-id=\"com.sec.android.gallery3d:id/thumbnail\" scrollable=\"false\" selected=\"false\" text=\"\"/>\\n                            </node>\\n                            <node bounds=\"[360,1751][720,2058]\" checkable=\"false\" checked=\"false\" class=\"android.widget.FrameLayout\" clickable=\"true\" content-desc=\"Button\" enabled=\"true\" focusable=\"true\" focused=\"false\" index=\"13\" long-clickable=\"true\" package=\"com.sec.android.gallery3d\" password=\"false\" resource-id=\"com.sec.android.gallery3d:id/recycler_view_item\" scrollable=\"false\" selected=\"false\" text=\"\">\\n                              <node bounds=\"[362,1753][718,2058]\" checkable=\"false\" checked=\"false\" class=\"android.widget.ImageView\" clickable=\"false\" content-desc=\"\" enabled=\"true\" focusable=\"false\" focused=\"false\" index=\"0\" long-clickable=\"false\" package=\"com.sec.android.gallery3d\" password=\"false\" resource-id=\"com.sec.android.gallery3d:id/thumbnail\" scrollable=\"false\" selected=\"false\" text=\"\"/>\\n                            </node>\\n                            <node bounds=\"[720,1751][1080,2058]\" checkable=\"false\" checked=\"false\" class=\"android.widget.FrameLayout\" clickable=\"true\" content-desc=\"Button\" enabled=\"true\" focusable=\"true\" focused=\"false\" index=\"14\" long-clickable=\"true\" package=\"com.sec.android.gallery3d\" password=\"false\" resource-id=\"com.sec.android.gallery3d:id/recycler_view_item\" scrollable=\"false\" selected=\"false\" text=\"\">\\n                              <node bounds=\"[722,1753][1078,2058]\" checkable=\"false\" checked=\"false\" class=\"android.widget.ImageView\" clickable=\"false\" content-desc=\"\" enabled=\"true\" focusable=\"false\" focused=\"false\" index=\"0\" long-clickable=\"false\" package=\"com.sec.android.gallery3d\" password=\"false\" resource-id=\"com.sec.android.gallery3d:id/thumbnail\" scrollable=\"false\" selected=\"false\" text=\"\"/>\\n                            </node>\\n                          </node>\\n                        </node>\\n                      </node>\\n                    </node>\\n                  </node>\\n                </node>\\n              </node>\\n            </node>\\n          </node>\\n        </node>\\n      </node>\\n    </node>\\n  </node>\\n</hierarchy>\\n'"
      ]
     },
     "execution_count": 13,
     "metadata": {},
     "output_type": "execute_result"
    }
   ],
   "source": [
    "d.dump('so2.xml')"
   ]
  },
  {
   "cell_type": "code",
   "execution_count": 15,
   "metadata": {},
   "outputs": [],
   "source": [
    "nextInd=str(3)"
   ]
  },
  {
   "cell_type": "code",
   "execution_count": 16,
   "metadata": {},
   "outputs": [
    {
     "data": {
      "text/plain": [
       "True"
      ]
     },
     "execution_count": 16,
     "metadata": {},
     "output_type": "execute_result"
    }
   ],
   "source": [
    "pp=d(className='android.widget.FrameLayout',resourceId=\"com.sec.android.gallery3d:id/recycler_view_item\",index=nextInd)#,index=\"2\")\n",
    "pp.click()"
   ]
  },
  {
   "cell_type": "code",
   "execution_count": 17,
   "metadata": {},
   "outputs": [
    {
     "data": {
      "text/plain": [
       "'<?xml version=\"1.0\" ?>\\n<hierarchy rotation=\"0\">\\n  <node bounds=\"[0,0][1080,2058]\" checkable=\"false\" checked=\"false\" class=\"android.widget.FrameLayout\" clickable=\"false\" content-desc=\"\" enabled=\"true\" focusable=\"false\" focused=\"false\" index=\"0\" long-clickable=\"false\" package=\"com.sec.android.gallery3d\" password=\"false\" resource-id=\"\" scrollable=\"false\" selected=\"false\" text=\"\">\\n    <node bounds=\"[0,0][1080,2058]\" checkable=\"false\" checked=\"false\" class=\"android.widget.LinearLayout\" clickable=\"false\" content-desc=\"\" enabled=\"true\" focusable=\"false\" focused=\"false\" index=\"0\" long-clickable=\"false\" package=\"com.sec.android.gallery3d\" password=\"false\" resource-id=\"\" scrollable=\"false\" selected=\"false\" text=\"\">\\n      <node bounds=\"[0,0][1080,2058]\" checkable=\"false\" checked=\"false\" class=\"android.widget.FrameLayout\" clickable=\"false\" content-desc=\"\" enabled=\"true\" focusable=\"false\" focused=\"false\" index=\"0\" long-clickable=\"false\" package=\"com.sec.android.gallery3d\" password=\"false\" resource-id=\"\" scrollable=\"false\" selected=\"false\" text=\"\">\\n        <node bounds=\"[0,0][1080,2058]\" checkable=\"false\" checked=\"false\" class=\"android.widget.LinearLayout\" clickable=\"false\" content-desc=\"\" enabled=\"true\" focusable=\"false\" focused=\"false\" index=\"0\" long-clickable=\"false\" package=\"com.sec.android.gallery3d\" password=\"false\" resource-id=\"com.sec.android.gallery3d:id/action_bar_root\" scrollable=\"false\" selected=\"false\" text=\"\">\\n          <node bounds=\"[0,0][1080,2058]\" checkable=\"false\" checked=\"false\" class=\"android.widget.FrameLayout\" clickable=\"false\" content-desc=\"\" enabled=\"true\" focusable=\"false\" focused=\"false\" index=\"0\" long-clickable=\"false\" package=\"com.sec.android.gallery3d\" password=\"false\" resource-id=\"android:id/content\" scrollable=\"false\" selected=\"false\" text=\"\">\\n            <node bounds=\"[0,0][1080,2058]\" checkable=\"false\" checked=\"false\" class=\"android.widget.FrameLayout\" clickable=\"false\" content-desc=\"\" enabled=\"true\" focusable=\"false\" focused=\"false\" index=\"0\" long-clickable=\"false\" package=\"com.sec.android.gallery3d\" password=\"false\" resource-id=\"com.sec.android.gallery3d:id/content_layout\" scrollable=\"false\" selected=\"false\" text=\"\">\\n              <node bounds=\"[0,0][1080,2058]\" checkable=\"false\" checked=\"false\" class=\"android.widget.FrameLayout\" clickable=\"false\" content-desc=\"\" enabled=\"true\" focusable=\"false\" focused=\"false\" index=\"0\" long-clickable=\"false\" package=\"com.sec.android.gallery3d\" password=\"false\" resource-id=\"com.sec.android.gallery3d:id/content\" scrollable=\"false\" selected=\"false\" text=\"\">\\n                <node bounds=\"[0,0][1080,2058]\" checkable=\"false\" checked=\"false\" class=\"android.widget.RelativeLayout\" clickable=\"false\" content-desc=\"\" enabled=\"true\" focusable=\"false\" focused=\"false\" index=\"0\" long-clickable=\"false\" package=\"com.sec.android.gallery3d\" password=\"false\" resource-id=\"\" scrollable=\"false\" selected=\"false\" text=\"\">\\n                  <node bounds=\"[0,0][1080,2058]\" checkable=\"false\" checked=\"false\" class=\"android.view.ViewGroup\" clickable=\"false\" content-desc=\"\" enabled=\"true\" focusable=\"false\" focused=\"false\" index=\"0\" long-clickable=\"false\" package=\"com.sec.android.gallery3d\" password=\"false\" resource-id=\"com.sec.android.gallery3d:id/moreinfo_coordinator_layout\" scrollable=\"false\" selected=\"false\" text=\"\">\\n                    <node bounds=\"[0,0][1080,2058]\" checkable=\"false\" checked=\"false\" class=\"androidx.viewpager.widget.ViewPager\" clickable=\"false\" content-desc=\"\" enabled=\"true\" focusable=\"true\" focused=\"false\" index=\"0\" long-clickable=\"false\" package=\"com.sec.android.gallery3d\" password=\"false\" resource-id=\"\" scrollable=\"true\" selected=\"false\" text=\"\">\\n                      <node bounds=\"[0,0][1080,2058]\" checkable=\"false\" checked=\"false\" class=\"android.widget.RelativeLayout\" clickable=\"false\" content-desc=\"\" enabled=\"true\" focusable=\"false\" focused=\"false\" index=\"2\" long-clickable=\"false\" package=\"com.sec.android.gallery3d\" password=\"false\" resource-id=\"\" scrollable=\"false\" selected=\"false\" text=\"\">\\n                        <node NAF=\"true\" bounds=\"[0,0][1080,2058]\" checkable=\"false\" checked=\"false\" class=\"android.widget.ImageView\" clickable=\"true\" content-desc=\"\" enabled=\"true\" focusable=\"true\" focused=\"false\" index=\"0\" long-clickable=\"false\" package=\"com.sec.android.gallery3d\" password=\"false\" resource-id=\"com.sec.android.gallery3d:id/photo_view\" scrollable=\"false\" selected=\"false\" text=\"\"/>\\n                        <node bounds=\"[0,0][1080,2058]\" checkable=\"false\" checked=\"false\" class=\"android.widget.RelativeLayout\" clickable=\"false\" content-desc=\"\" enabled=\"true\" focusable=\"false\" focused=\"false\" index=\"1\" long-clickable=\"false\" package=\"com.sec.android.gallery3d\" password=\"false\" resource-id=\"com.sec.android.gallery3d:id/bottom_window_inset_setter\" scrollable=\"false\" selected=\"false\" text=\"\">\\n                          <node bounds=\"[0,1839][1080,1883]\" checkable=\"false\" checked=\"false\" class=\"android.widget.LinearLayout\" clickable=\"false\" content-desc=\"\" enabled=\"true\" focusable=\"false\" focused=\"false\" index=\"0\" long-clickable=\"false\" package=\"com.sec.android.gallery3d\" password=\"false\" resource-id=\"\" scrollable=\"false\" selected=\"false\" text=\"\"/>\\n                        </node>\\n                        <node bounds=\"[0,0][1080,2058]\" checkable=\"false\" checked=\"false\" class=\"android.widget.RelativeLayout\" clickable=\"false\" content-desc=\"\" enabled=\"true\" focusable=\"false\" focused=\"false\" index=\"2\" long-clickable=\"false\" package=\"com.sec.android.gallery3d\" password=\"false\" resource-id=\"com.sec.android.gallery3d:id/top_window_inset_setter\" scrollable=\"false\" selected=\"false\" text=\"\"/>\\n                      </node>\\n                    </node>\\n                  </node>\\n                  <node bounds=\"[0,0][1080,2058]\" checkable=\"false\" checked=\"false\" class=\"android.widget.RelativeLayout\" clickable=\"false\" content-desc=\"\" enabled=\"true\" focusable=\"false\" focused=\"false\" index=\"1\" long-clickable=\"false\" package=\"com.sec.android.gallery3d\" password=\"false\" resource-id=\"com.sec.android.gallery3d:id/main_layout\" scrollable=\"false\" selected=\"false\" text=\"\">\\n                    <node bounds=\"[0,81][1080,270]\" checkable=\"false\" checked=\"false\" class=\"android.widget.LinearLayout\" clickable=\"false\" content-desc=\"\" enabled=\"true\" focusable=\"false\" focused=\"false\" index=\"0\" long-clickable=\"false\" package=\"com.sec.android.gallery3d\" password=\"false\" resource-id=\"com.sec.android.gallery3d:id/viewer_toolbar\" scrollable=\"false\" selected=\"false\" text=\"\">\\n                      <node bounds=\"[0,81][1080,270]\" checkable=\"false\" checked=\"false\" class=\"android.view.ViewGroup\" clickable=\"false\" content-desc=\"\" enabled=\"true\" focusable=\"false\" focused=\"false\" index=\"0\" long-clickable=\"false\" package=\"com.sec.android.gallery3d\" password=\"false\" resource-id=\"com.sec.android.gallery3d:id/toolbar\" scrollable=\"false\" selected=\"false\" text=\"\">\\n                        <node bounds=\"[0,81][189,270]\" checkable=\"false\" checked=\"false\" class=\"android.widget.ImageButton\" clickable=\"true\" content-desc=\"Navigate up\" enabled=\"true\" focusable=\"true\" focused=\"false\" index=\"0\" long-clickable=\"true\" package=\"com.sec.android.gallery3d\" password=\"false\" resource-id=\"\" scrollable=\"false\" selected=\"false\" text=\"\"/>\\n                        <node bounds=\"[758,81][1080,270]\" checkable=\"false\" checked=\"false\" class=\"androidx.appcompat.widget.LinearLayoutCompat\" clickable=\"false\" content-desc=\"\" enabled=\"true\" focusable=\"false\" focused=\"false\" index=\"1\" long-clickable=\"false\" package=\"com.sec.android.gallery3d\" password=\"false\" resource-id=\"\" scrollable=\"false\" selected=\"false\" text=\"\">\\n                          <node bounds=\"[758,81][921,270]\" checkable=\"false\" checked=\"false\" class=\"android.widget.Button\" clickable=\"true\" content-desc=\"Rotate\" enabled=\"true\" focusable=\"true\" focused=\"false\" index=\"0\" long-clickable=\"true\" package=\"com.sec.android.gallery3d\" password=\"false\" resource-id=\"com.sec.android.gallery3d:id/action_force_rotate\" scrollable=\"false\" selected=\"false\" text=\"\"/>\\n                          <node bounds=\"[921,81][1080,270]\" checkable=\"false\" checked=\"false\" class=\"android.widget.FrameLayout\" clickable=\"false\" content-desc=\"\" enabled=\"true\" focusable=\"false\" focused=\"false\" index=\"1\" long-clickable=\"false\" package=\"com.sec.android.gallery3d\" password=\"false\" resource-id=\"\" scrollable=\"false\" selected=\"false\" text=\"\">\\n                            <node bounds=\"[921,81][1080,270]\" checkable=\"false\" checked=\"false\" class=\"android.widget.ImageView\" clickable=\"true\" content-desc=\"More options\" enabled=\"true\" focusable=\"true\" focused=\"false\" index=\"0\" long-clickable=\"true\" package=\"com.sec.android.gallery3d\" password=\"false\" resource-id=\"\" scrollable=\"false\" selected=\"false\" text=\"\"/>\\n                          </node>\\n                        </node>\\n                      </node>\\n                    </node>\\n                    <node bounds=\"[0,1831][1080,2058]\" checkable=\"false\" checked=\"false\" class=\"android.widget.LinearLayout\" clickable=\"false\" content-desc=\"\" enabled=\"true\" focusable=\"false\" focused=\"false\" index=\"1\" long-clickable=\"false\" package=\"com.sec.android.gallery3d\" password=\"false\" resource-id=\"com.sec.android.gallery3d:id/option_view\" scrollable=\"false\" selected=\"false\" text=\"\">\\n                      <node bounds=\"[0,1882][1080,2058]\" checkable=\"false\" checked=\"false\" class=\"android.widget.RelativeLayout\" clickable=\"false\" content-desc=\"\" enabled=\"true\" focusable=\"false\" focused=\"false\" index=\"1\" long-clickable=\"false\" package=\"com.sec.android.gallery3d\" password=\"false\" resource-id=\"com.sec.android.gallery3d:id/fast_option_view\" scrollable=\"false\" selected=\"false\" text=\"\">\\n                        <node bounds=\"[0,1882][1080,2058]\" checkable=\"false\" checked=\"false\" class=\"android.widget.LinearLayout\" clickable=\"false\" content-desc=\"\" enabled=\"true\" focusable=\"false\" focused=\"false\" index=\"0\" long-clickable=\"false\" package=\"com.sec.android.gallery3d\" password=\"false\" resource-id=\"com.sec.android.gallery3d:id/fastoptioncontainer\" scrollable=\"false\" selected=\"false\" text=\"\">\\n                          <node bounds=\"[81,1882][310,2058]\" checkable=\"false\" checked=\"false\" class=\"android.widget.RelativeLayout\" clickable=\"true\" content-desc=\"Add to Favourites\" enabled=\"true\" focusable=\"true\" focused=\"false\" index=\"0\" long-clickable=\"false\" package=\"com.sec.android.gallery3d\" password=\"false\" resource-id=\"com.sec.android.gallery3d:id/btn_favorite\" scrollable=\"false\" selected=\"false\" text=\"\">\\n                            <node bounds=\"[81,1882][310,2044]\" checkable=\"false\" checked=\"false\" class=\"android.widget.RelativeLayout\" clickable=\"false\" content-desc=\"\" enabled=\"true\" focusable=\"false\" focused=\"false\" index=\"0\" long-clickable=\"false\" package=\"com.sec.android.gallery3d\" password=\"false\" resource-id=\"\" scrollable=\"false\" selected=\"false\" text=\"\">\\n                              <node bounds=\"[155,1922][236,2003]\" checkable=\"false\" checked=\"false\" class=\"android.widget.ImageView\" clickable=\"false\" content-desc=\"\" enabled=\"true\" focusable=\"false\" focused=\"false\" index=\"0\" long-clickable=\"false\" package=\"com.sec.android.gallery3d\" password=\"false\" resource-id=\"com.sec.android.gallery3d:id/img\" scrollable=\"false\" selected=\"false\" text=\"\"/>\\n                            </node>\\n                          </node>\\n                          <node bounds=\"[310,1882][539,2058]\" checkable=\"false\" checked=\"false\" class=\"android.widget.RelativeLayout\" clickable=\"true\" content-desc=\"Edit button\" enabled=\"true\" focusable=\"true\" focused=\"false\" index=\"1\" long-clickable=\"false\" package=\"com.sec.android.gallery3d\" password=\"false\" resource-id=\"com.sec.android.gallery3d:id/btn_edit\" scrollable=\"false\" selected=\"false\" text=\"\">\\n                            <node bounds=\"[310,1882][539,2044]\" checkable=\"false\" checked=\"false\" class=\"android.widget.RelativeLayout\" clickable=\"false\" content-desc=\"\" enabled=\"true\" focusable=\"false\" focused=\"false\" index=\"0\" long-clickable=\"false\" package=\"com.sec.android.gallery3d\" password=\"false\" resource-id=\"\" scrollable=\"false\" selected=\"false\" text=\"\">\\n                              <node bounds=\"[384,1922][465,2003]\" checkable=\"false\" checked=\"false\" class=\"android.widget.ImageView\" clickable=\"false\" content-desc=\"\" enabled=\"true\" focusable=\"false\" focused=\"false\" index=\"0\" long-clickable=\"false\" package=\"com.sec.android.gallery3d\" password=\"false\" resource-id=\"com.sec.android.gallery3d:id/img\" scrollable=\"false\" selected=\"false\" text=\"\"/>\\n                            </node>\\n                          </node>\\n                          <node bounds=\"[539,1882][769,2058]\" checkable=\"false\" checked=\"false\" class=\"android.widget.RelativeLayout\" clickable=\"true\" content-desc=\"Share button\" enabled=\"true\" focusable=\"true\" focused=\"false\" index=\"2\" long-clickable=\"false\" package=\"com.sec.android.gallery3d\" password=\"false\" resource-id=\"com.sec.android.gallery3d:id/btn_share\" scrollable=\"false\" selected=\"false\" text=\"\">\\n                            <node bounds=\"[539,1882][769,2044]\" checkable=\"false\" checked=\"false\" class=\"android.widget.RelativeLayout\" clickable=\"false\" content-desc=\"\" enabled=\"true\" focusable=\"false\" focused=\"false\" index=\"0\" long-clickable=\"false\" package=\"com.sec.android.gallery3d\" password=\"false\" resource-id=\"\" scrollable=\"false\" selected=\"false\" text=\"\">\\n                              <node bounds=\"[613,1922][694,2003]\" checkable=\"false\" checked=\"false\" class=\"android.widget.ImageView\" clickable=\"false\" content-desc=\"\" enabled=\"true\" focusable=\"false\" focused=\"false\" index=\"0\" long-clickable=\"false\" package=\"com.sec.android.gallery3d\" password=\"false\" resource-id=\"com.sec.android.gallery3d:id/img\" scrollable=\"false\" selected=\"false\" text=\"\"/>\\n                            </node>\\n                          </node>\\n                          <node bounds=\"[769,1882][999,2058]\" checkable=\"false\" checked=\"false\" class=\"android.widget.RelativeLayout\" clickable=\"true\" content-desc=\"Delete button\" enabled=\"true\" focusable=\"true\" focused=\"false\" index=\"3\" long-clickable=\"false\" package=\"com.sec.android.gallery3d\" password=\"false\" resource-id=\"com.sec.android.gallery3d:id/btn_delete\" scrollable=\"false\" selected=\"false\" text=\"\">\\n                            <node bounds=\"[769,1882][999,2044]\" checkable=\"false\" checked=\"false\" class=\"android.widget.RelativeLayout\" clickable=\"false\" content-desc=\"\" enabled=\"true\" focusable=\"false\" focused=\"false\" index=\"0\" long-clickable=\"false\" package=\"com.sec.android.gallery3d\" password=\"false\" resource-id=\"\" scrollable=\"false\" selected=\"false\" text=\"\">\\n                              <node bounds=\"[843,1922][924,2003]\" checkable=\"false\" checked=\"false\" class=\"android.widget.ImageView\" clickable=\"false\" content-desc=\"\" enabled=\"true\" focusable=\"false\" focused=\"false\" index=\"0\" long-clickable=\"false\" package=\"com.sec.android.gallery3d\" password=\"false\" resource-id=\"com.sec.android.gallery3d:id/img\" scrollable=\"false\" selected=\"false\" text=\"\"/>\\n                            </node>\\n                          </node>\\n                        </node>\\n                      </node>\\n                    </node>\\n                  </node>\\n                </node>\\n              </node>\\n            </node>\\n          </node>\\n        </node>\\n      </node>\\n    </node>\\n  </node>\\n</hierarchy>\\n'"
      ]
     },
     "execution_count": 17,
     "metadata": {},
     "output_type": "execute_result"
    }
   ],
   "source": [
    "d.dump('so3.xml')"
   ]
  },
  {
   "cell_type": "code",
   "execution_count": 18,
   "metadata": {},
   "outputs": [
    {
     "data": {
      "text/plain": [
       "True"
      ]
     },
     "execution_count": 18,
     "metadata": {},
     "output_type": "execute_result"
    }
   ],
   "source": [
    "# d.screenshot('saveIMage.png')\n",
    "pp=d(className='android.widget.RelativeLayout',resourceId='com.sec.android.gallery3d:id/btn_share')#,index=\"2\")\n",
    "pp.click()"
   ]
  },
  {
   "cell_type": "code",
   "execution_count": 19,
   "metadata": {},
   "outputs": [
    {
     "data": {
      "text/plain": [
       "True"
      ]
     },
     "execution_count": 19,
     "metadata": {},
     "output_type": "execute_result"
    }
   ],
   "source": [
    "pp=d(className='android.widget.TextView',text='Feed')#,index=\"2\")\n",
    "pp.click()"
   ]
  },
  {
   "cell_type": "code",
   "execution_count": 20,
   "metadata": {
    "scrolled": true
   },
   "outputs": [
    {
     "data": {
      "text/plain": [
       "'<?xml version=\"1.0\" ?>\\n<hierarchy rotation=\"0\">\\n  <node bounds=\"[0,0][1080,2058]\" checkable=\"false\" checked=\"false\" class=\"android.widget.FrameLayout\" clickable=\"false\" content-desc=\"\" enabled=\"true\" focusable=\"false\" focused=\"false\" index=\"0\" long-clickable=\"false\" package=\"com.instagram.android\" password=\"false\" resource-id=\"\" scrollable=\"false\" selected=\"false\" text=\"\">\\n    <node bounds=\"[0,0][1080,2058]\" checkable=\"false\" checked=\"false\" class=\"android.widget.LinearLayout\" clickable=\"false\" content-desc=\"\" enabled=\"true\" focusable=\"false\" focused=\"false\" index=\"0\" long-clickable=\"false\" package=\"com.instagram.android\" password=\"false\" resource-id=\"\" scrollable=\"false\" selected=\"false\" text=\"\">\\n      <node bounds=\"[0,0][1080,2058]\" checkable=\"false\" checked=\"false\" class=\"android.widget.FrameLayout\" clickable=\"false\" content-desc=\"\" enabled=\"true\" focusable=\"false\" focused=\"false\" index=\"0\" long-clickable=\"false\" package=\"com.instagram.android\" password=\"false\" resource-id=\"\" scrollable=\"false\" selected=\"false\" text=\"\">\\n        <node bounds=\"[0,0][1080,2058]\" checkable=\"false\" checked=\"false\" class=\"android.widget.LinearLayout\" clickable=\"false\" content-desc=\"\" enabled=\"true\" focusable=\"false\" focused=\"false\" index=\"0\" long-clickable=\"false\" package=\"com.instagram.android\" password=\"false\" resource-id=\"com.instagram.android:id/action_bar_root\" scrollable=\"false\" selected=\"false\" text=\"\">\\n          <node bounds=\"[0,0][1080,2058]\" checkable=\"false\" checked=\"false\" class=\"android.widget.FrameLayout\" clickable=\"false\" content-desc=\"\" enabled=\"true\" focusable=\"false\" focused=\"false\" index=\"0\" long-clickable=\"false\" package=\"com.instagram.android\" password=\"false\" resource-id=\"android:id/content\" scrollable=\"false\" selected=\"false\" text=\"\">\\n            <node bounds=\"[0,0][1080,2058]\" checkable=\"false\" checked=\"false\" class=\"android.widget.FrameLayout\" clickable=\"false\" content-desc=\"\" enabled=\"true\" focusable=\"false\" focused=\"false\" index=\"0\" long-clickable=\"false\" package=\"com.instagram.android\" password=\"false\" resource-id=\"com.instagram.android:id/root\" scrollable=\"false\" selected=\"false\" text=\"\">\\n              <node bounds=\"[0,0][1080,2058]\" checkable=\"false\" checked=\"false\" class=\"android.widget.FrameLayout\" clickable=\"false\" content-desc=\"\" enabled=\"true\" focusable=\"false\" focused=\"false\" index=\"0\" long-clickable=\"false\" package=\"com.instagram.android\" password=\"false\" resource-id=\"com.instagram.android:id/layout_container_main\" scrollable=\"false\" selected=\"false\" text=\"\">\\n                <node bounds=\"[0,0][1080,2058]\" checkable=\"false\" checked=\"false\" class=\"android.widget.FrameLayout\" clickable=\"false\" content-desc=\"\" enabled=\"true\" focusable=\"false\" focused=\"false\" index=\"0\" long-clickable=\"false\" package=\"com.instagram.android\" password=\"false\" resource-id=\"\" scrollable=\"false\" selected=\"false\" text=\"\">\\n                  <node bounds=\"[0,0][1080,162]\" checkable=\"false\" checked=\"false\" class=\"android.widget.LinearLayout\" clickable=\"false\" content-desc=\"\" enabled=\"true\" focusable=\"false\" focused=\"false\" index=\"0\" long-clickable=\"false\" package=\"com.instagram.android\" password=\"false\" resource-id=\"\" scrollable=\"false\" selected=\"false\" text=\"\">\\n                    <node bounds=\"[0,0][162,162]\" checkable=\"false\" checked=\"false\" class=\"android.widget.ImageView\" clickable=\"true\" content-desc=\"Back\" enabled=\"true\" focusable=\"true\" focused=\"false\" index=\"0\" long-clickable=\"false\" package=\"com.instagram.android\" password=\"false\" resource-id=\"com.instagram.android:id/button_back\" scrollable=\"false\" selected=\"false\" text=\"\"/>\\n                    <node bounds=\"[162,42][918,119]\" checkable=\"false\" checked=\"false\" class=\"android.widget.TextView\" clickable=\"false\" content-desc=\"\" enabled=\"true\" focusable=\"false\" focused=\"false\" index=\"1\" long-clickable=\"false\" package=\"com.instagram.android\" password=\"false\" resource-id=\"\" scrollable=\"false\" selected=\"false\" text=\"New Post\"/>\\n                    <node bounds=\"[918,0][1080,162]\" checkable=\"false\" checked=\"false\" class=\"android.widget.ImageView\" clickable=\"true\" content-desc=\"Next\" enabled=\"true\" focusable=\"true\" focused=\"false\" index=\"2\" long-clickable=\"false\" package=\"com.instagram.android\" password=\"false\" resource-id=\"com.instagram.android:id/save\" scrollable=\"false\" selected=\"false\" text=\"\"/>\\n                  </node>\\n                  <node bounds=\"[0,162][1080,2058]\" checkable=\"false\" checked=\"false\" class=\"android.widget.LinearLayout\" clickable=\"false\" content-desc=\"\" enabled=\"true\" focusable=\"false\" focused=\"false\" index=\"1\" long-clickable=\"false\" package=\"com.instagram.android\" password=\"false\" resource-id=\"\" scrollable=\"false\" selected=\"false\" text=\"\">\\n                    <node bounds=\"[0,162][1080,163]\" checkable=\"false\" checked=\"false\" class=\"android.view.View\" clickable=\"false\" content-desc=\"\" enabled=\"true\" focusable=\"false\" focused=\"false\" index=\"0\" long-clickable=\"false\" package=\"com.instagram.android\" password=\"false\" resource-id=\"\" scrollable=\"false\" selected=\"false\" text=\"\"/>\\n                    <node bounds=\"[0,163][1080,1243]\" checkable=\"false\" checked=\"false\" class=\"android.widget.FrameLayout\" clickable=\"false\" content-desc=\"\" enabled=\"true\" focusable=\"false\" focused=\"false\" index=\"1\" long-clickable=\"false\" package=\"com.instagram.android\" password=\"false\" resource-id=\"com.instagram.android:id/preview_container\" scrollable=\"false\" selected=\"false\" text=\"\">\\n                      <node bounds=\"[0,163][1080,1243]\" checkable=\"false\" checked=\"false\" class=\"android.widget.ImageView\" clickable=\"false\" content-desc=\"\" enabled=\"true\" focusable=\"true\" focused=\"false\" index=\"0\" long-clickable=\"false\" package=\"com.instagram.android\" password=\"false\" resource-id=\"com.instagram.android:id/crop_image_view\" scrollable=\"false\" selected=\"false\" text=\"\"/>\\n                      <node NAF=\"true\" bounds=\"[41,1080][163,1202]\" checkable=\"false\" checked=\"false\" class=\"android.widget.ImageView\" clickable=\"true\" content-desc=\"\" enabled=\"true\" focusable=\"true\" focused=\"false\" index=\"1\" long-clickable=\"false\" package=\"com.instagram.android\" password=\"false\" resource-id=\"com.instagram.android:id/croptype_toggle_button\" scrollable=\"false\" selected=\"false\" text=\"\"/>\\n                    </node>\\n                    <node bounds=\"[0,1243][1080,1244]\" checkable=\"false\" checked=\"false\" class=\"android.view.View\" clickable=\"false\" content-desc=\"\" enabled=\"true\" focusable=\"false\" focused=\"false\" index=\"2\" long-clickable=\"false\" package=\"com.instagram.android\" password=\"false\" resource-id=\"\" scrollable=\"false\" selected=\"false\" text=\"\"/>\\n                    <node bounds=\"[0,1244][1080,2058]\" checkable=\"false\" checked=\"false\" class=\"android.widget.TextView\" clickable=\"false\" content-desc=\"\" enabled=\"true\" focusable=\"false\" focused=\"false\" index=\"3\" long-clickable=\"false\" package=\"com.instagram.android\" password=\"false\" resource-id=\"\" scrollable=\"false\" selected=\"false\" text=\"Crop Your Photo\"/>\\n                  </node>\\n                  <node bounds=\"[0,162][1080,186]\" checkable=\"false\" checked=\"false\" class=\"android.view.View\" clickable=\"false\" content-desc=\"\" enabled=\"true\" focusable=\"false\" focused=\"false\" index=\"2\" long-clickable=\"false\" package=\"com.instagram.android\" password=\"false\" resource-id=\"com.instagram.android:id/action_bar_shadow\" scrollable=\"false\" selected=\"false\" text=\"\"/>\\n                </node>\\n              </node>\\n            </node>\\n          </node>\\n        </node>\\n      </node>\\n    </node>\\n  </node>\\n</hierarchy>\\n'"
      ]
     },
     "execution_count": 20,
     "metadata": {},
     "output_type": "execute_result"
    }
   ],
   "source": [
    "d.dump('so4.xml')"
   ]
  },
  {
   "cell_type": "code",
   "execution_count": 21,
   "metadata": {},
   "outputs": [
    {
     "data": {
      "text/plain": [
       "True"
      ]
     },
     "execution_count": 21,
     "metadata": {},
     "output_type": "execute_result"
    }
   ],
   "source": [
    "pp=d(className='android.widget.ImageView',resourceId='com.instagram.android:id/croptype_toggle_button')#,index=\"2\")\n",
    "pp.click()"
   ]
  },
  {
   "cell_type": "code",
   "execution_count": 22,
   "metadata": {},
   "outputs": [
    {
     "data": {
      "text/plain": [
       "True"
      ]
     },
     "execution_count": 22,
     "metadata": {},
     "output_type": "execute_result"
    }
   ],
   "source": [
    "pp=d(className='android.widget.ImageView',resourceId='com.instagram.android:id/save')#,index=\"2\")\n",
    "pp.click()"
   ]
  },
  {
   "cell_type": "code",
   "execution_count": 23,
   "metadata": {},
   "outputs": [
    {
     "data": {
      "text/plain": [
       "True"
      ]
     },
     "execution_count": 23,
     "metadata": {},
     "output_type": "execute_result"
    }
   ],
   "source": [
    "pp=d(className='android.widget.TextView',text='Next')#,index=\"2\")\n",
    "pp.click()"
   ]
  },
  {
   "cell_type": "code",
   "execution_count": 24,
   "metadata": {},
   "outputs": [
    {
     "data": {
      "text/plain": [
       "True"
      ]
     },
     "execution_count": 24,
     "metadata": {},
     "output_type": "execute_result"
    }
   ],
   "source": [
    "pp=d(className='android.widget.EditText')#,index=\"2\")\n",
    "pp.click()"
   ]
  },
  {
   "cell_type": "code",
   "execution_count": 25,
   "metadata": {},
   "outputs": [],
   "source": [
    "textData='#cactus #cactuslover #cactuslove #cactusclub #cactusmagazine #cactusthailand #cactusgram #cactusflower #cactusrepost #CactusGarden #cactusworld #cactuspremium #cactusmania #cactuslovers #cactusaddict #cactusmovement #cactusofinstagram #CactusLife #cactusart #cactuscollection #cactusbloom #cactusysuculentas #cactusplanet #cactustattoo #cactuses #cactusfamily #cactusshop #cactusthai #cactusjungle #CactusFlowers'"
   ]
  },
  {
   "cell_type": "code",
   "execution_count": 26,
   "metadata": {},
   "outputs": [
    {
     "data": {
      "text/plain": [
       "True"
      ]
     },
     "execution_count": 26,
     "metadata": {},
     "output_type": "execute_result"
    }
   ],
   "source": [
    "pp.set_text('Wilhelma Zoo Botonical garden. '+textData)"
   ]
  },
  {
   "cell_type": "code",
   "execution_count": 27,
   "metadata": {},
   "outputs": [],
   "source": [
    "pp=d(className='android.widget.TextView',text='Share')#,index=\"2\")\n",
    "pp.click()\n",
    "\n",
    "for i in range(2):\n",
    "    d.press.back()"
   ]
  },
  {
   "cell_type": "code",
   "execution_count": null,
   "metadata": {
    "scrolled": true
   },
   "outputs": [],
   "source": []
  },
  {
   "cell_type": "code",
   "execution_count": null,
   "metadata": {},
   "outputs": [],
   "source": []
  },
  {
   "cell_type": "code",
   "execution_count": null,
   "metadata": {},
   "outputs": [],
   "source": []
  },
  {
   "cell_type": "code",
   "execution_count": null,
   "metadata": {},
   "outputs": [],
   "source": []
  },
  {
   "cell_type": "code",
   "execution_count": null,
   "metadata": {},
   "outputs": [],
   "source": []
  },
  {
   "cell_type": "code",
   "execution_count": null,
   "metadata": {},
   "outputs": [],
   "source": []
  },
  {
   "cell_type": "code",
   "execution_count": null,
   "metadata": {},
   "outputs": [],
   "source": []
  },
  {
   "cell_type": "code",
   "execution_count": null,
   "metadata": {},
   "outputs": [],
   "source": []
  }
 ],
 "metadata": {
  "kernelspec": {
   "display_name": "Python 3",
   "language": "python",
   "name": "python3"
  },
  "language_info": {
   "codemirror_mode": {
    "name": "ipython",
    "version": 3
   },
   "file_extension": ".py",
   "mimetype": "text/x-python",
   "name": "python",
   "nbconvert_exporter": "python",
   "pygments_lexer": "ipython3",
   "version": "3.6.9"
  }
 },
 "nbformat": 4,
 "nbformat_minor": 2
}
