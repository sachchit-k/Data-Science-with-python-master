{
 "cells": [
  {
   "cell_type": "markdown",
   "metadata": {},
   "source": [
    "## Example"
   ]
  },
  {
   "cell_type": "code",
   "execution_count": 1,
   "metadata": {},
   "outputs": [],
   "source": [
    "varA=list(range(10))\n",
    "varB=list(range(10,20))\n",
    "varC=list(range(20,30))"
   ]
  },
  {
   "cell_type": "code",
   "execution_count": 2,
   "metadata": {},
   "outputs": [
    {
     "name": "stdout",
     "output_type": "stream",
     "text": [
      "[0, 1, 2, 3, 4, 5, 6, 7, 8, 9]\n",
      "[10, 11, 12, 13, 14, 15, 16, 17, 18, 19]\n",
      "[20, 21, 22, 23, 24, 25, 26, 27, 28, 29]\n"
     ]
    }
   ],
   "source": [
    "print (varA)\n",
    "print (varB)\n",
    "print (varC)"
   ]
  },
  {
   "cell_type": "code",
   "execution_count": 3,
   "metadata": {},
   "outputs": [],
   "source": [
    "dataInALl=[varA,varB,varC]"
   ]
  },
  {
   "cell_type": "code",
   "execution_count": 4,
   "metadata": {},
   "outputs": [
    {
     "data": {
      "text/plain": [
       "[[0, 1, 2, 3, 4, 5, 6, 7, 8, 9],\n",
       " [10, 11, 12, 13, 14, 15, 16, 17, 18, 19],\n",
       " [20, 21, 22, 23, 24, 25, 26, 27, 28, 29]]"
      ]
     },
     "execution_count": 4,
     "metadata": {},
     "output_type": "execute_result"
    }
   ],
   "source": [
    "dataInALl"
   ]
  },
  {
   "cell_type": "code",
   "execution_count": 5,
   "metadata": {},
   "outputs": [
    {
     "data": {
      "text/plain": [
       "[45, 145, 245]"
      ]
     },
     "execution_count": 5,
     "metadata": {},
     "output_type": "execute_result"
    }
   ],
   "source": [
    "[sum(i) for i in dataInALl]"
   ]
  },
  {
   "cell_type": "markdown",
   "metadata": {},
   "source": [
    "## Why we dont use the List for numerical data analysis?"
   ]
  },
  {
   "cell_type": "markdown",
   "metadata": {},
   "source": [
    "Python is a slow language and struggles more on complex mathematical operations."
   ]
  },
  {
   "cell_type": "markdown",
   "metadata": {},
   "source": [
    "The values are object and are not the number type or any specific data types, they are pointer to the acutal number in the memory. "
   ]
  },
  {
   "cell_type": "markdown",
   "metadata": {},
   "source": [
    "NumPy’s main object is the homogeneous multidimensional array. It is a table of elements (usually numbers), all of the same type, indexed by a tuple of non-negative integers. In NumPy dimensions are called axes.\n",
    "\n",
    "\n",
    "A numpy array is a single object for all the collection of the array with all numbers. they are much more efficeint on storing and also are faster during computations.\n",
    "\n",
    "source: https://numpy.org/devdocs/user/quickstart.html"
   ]
  },
  {
   "cell_type": "markdown",
   "metadata": {},
   "source": [
    "the core fundamental data type for numpy is an array."
   ]
  },
  {
   "cell_type": "code",
   "execution_count": 6,
   "metadata": {},
   "outputs": [
    {
     "name": "stdout",
     "output_type": "stream",
     "text": [
      "Requirement already satisfied: numpy in c:\\users\\themachine\\.conda\\envs\\python36\\lib\\site-packages (1.18.0)\n"
     ]
    }
   ],
   "source": [
    "!pip install numpy"
   ]
  },
  {
   "cell_type": "code",
   "execution_count": 7,
   "metadata": {},
   "outputs": [],
   "source": [
    "import numpy as np"
   ]
  },
  {
   "cell_type": "code",
   "execution_count": 8,
   "metadata": {},
   "outputs": [
    {
     "data": {
      "text/plain": [
       "[[0, 1, 2, 3, 4, 5, 6, 7, 8, 9],\n",
       " [10, 11, 12, 13, 14, 15, 16, 17, 18, 19],\n",
       " [20, 21, 22, 23, 24, 25, 26, 27, 28, 29]]"
      ]
     },
     "execution_count": 8,
     "metadata": {},
     "output_type": "execute_result"
    }
   ],
   "source": [
    "dataInALl"
   ]
  },
  {
   "cell_type": "code",
   "execution_count": 9,
   "metadata": {},
   "outputs": [
    {
     "data": {
      "text/plain": [
       "array([[ 0,  1,  2,  3,  4,  5,  6,  7,  8,  9],\n",
       "       [10, 11, 12, 13, 14, 15, 16, 17, 18, 19],\n",
       "       [20, 21, 22, 23, 24, 25, 26, 27, 28, 29]])"
      ]
     },
     "execution_count": 9,
     "metadata": {},
     "output_type": "execute_result"
    }
   ],
   "source": [
    "sampeData=np.array(dataInALl)\n",
    "sampeData"
   ]
  },
  {
   "cell_type": "code",
   "execution_count": 10,
   "metadata": {},
   "outputs": [
    {
     "name": "stdout",
     "output_type": "stream",
     "text": [
      "size         30\n",
      "dimension    2\n",
      "shape        (3, 10)\n",
      "dtype        int32\n",
      "flags          C_CONTIGUOUS : True\n",
      "  F_CONTIGUOUS : False\n",
      "  OWNDATA : True\n",
      "  WRITEABLE : True\n",
      "  ALIGNED : True\n",
      "  WRITEBACKIFCOPY : False\n",
      "  UPDATEIFCOPY : False\n",
      "\n",
      "strides      (40, 4)\n"
     ]
    }
   ],
   "source": [
    "print ('size        ',sampeData.size)\n",
    "print ('dimension   ',sampeData.ndim)\n",
    "print ('shape       ',sampeData.shape)\n",
    "print ('dtype       ',sampeData.dtype)\n",
    "print ('flags       ',sampeData.flags)  #C contiguous the rows are stored as contiguous blocks of memory. #Fortran contiguous since the columns are in contiguous blocks of memory:\n",
    "print ('strides     ',sampeData.strides) "
   ]
  },
  {
   "cell_type": "code",
   "execution_count": 11,
   "metadata": {},
   "outputs": [],
   "source": [
    "sampeData2=np.array([[.4,.5,.6],[.4,.5,.6]])"
   ]
  },
  {
   "cell_type": "code",
   "execution_count": 12,
   "metadata": {},
   "outputs": [
    {
     "name": "stdout",
     "output_type": "stream",
     "text": [
      "size         6\n",
      "dimension    2\n",
      "shape        (2, 3)\n",
      "dtype        float64\n",
      "flags          C_CONTIGUOUS : True\n",
      "  F_CONTIGUOUS : False\n",
      "  OWNDATA : True\n",
      "  WRITEABLE : True\n",
      "  ALIGNED : True\n",
      "  WRITEBACKIFCOPY : False\n",
      "  UPDATEIFCOPY : False\n",
      "\n",
      "strides      (24, 8)\n"
     ]
    }
   ],
   "source": [
    "print ('size        ',sampeData2.size)\n",
    "print ('dimension   ',sampeData2.ndim)\n",
    "print ('shape       ',sampeData2.shape)\n",
    "print ('dtype       ',sampeData2.dtype)\n",
    "print ('flags       ',sampeData2.flags)\n",
    "print ('strides     ',sampeData2.strides)"
   ]
  },
  {
   "cell_type": "markdown",
   "metadata": {},
   "source": [
    "Ram does not have concept of row and column\n",
    "\n",
    "strides:  24 bytes jump/skip to reach in row below and 8 bytes to jump in the side column"
   ]
  },
  {
   "cell_type": "markdown",
   "metadata": {},
   "source": [
    "## Transpose"
   ]
  },
  {
   "cell_type": "code",
   "execution_count": 13,
   "metadata": {},
   "outputs": [
    {
     "data": {
      "text/plain": [
       "array([[ 0, 10, 20],\n",
       "       [ 1, 11, 21],\n",
       "       [ 2, 12, 22],\n",
       "       [ 3, 13, 23],\n",
       "       [ 4, 14, 24],\n",
       "       [ 5, 15, 25],\n",
       "       [ 6, 16, 26],\n",
       "       [ 7, 17, 27],\n",
       "       [ 8, 18, 28],\n",
       "       [ 9, 19, 29]])"
      ]
     },
     "execution_count": 13,
     "metadata": {},
     "output_type": "execute_result"
    }
   ],
   "source": [
    "sampeData.T"
   ]
  },
  {
   "cell_type": "code",
   "execution_count": 14,
   "metadata": {},
   "outputs": [
    {
     "data": {
      "text/plain": [
       "  C_CONTIGUOUS : True\n",
       "  F_CONTIGUOUS : False\n",
       "  OWNDATA : True\n",
       "  WRITEABLE : True\n",
       "  ALIGNED : True\n",
       "  WRITEBACKIFCOPY : False\n",
       "  UPDATEIFCOPY : False"
      ]
     },
     "execution_count": 14,
     "metadata": {},
     "output_type": "execute_result"
    }
   ],
   "source": [
    "sampeData.flags"
   ]
  },
  {
   "cell_type": "code",
   "execution_count": 15,
   "metadata": {},
   "outputs": [
    {
     "data": {
      "text/plain": [
       "(40, 4)"
      ]
     },
     "execution_count": 15,
     "metadata": {},
     "output_type": "execute_result"
    }
   ],
   "source": [
    "sampeData.strides"
   ]
  },
  {
   "cell_type": "code",
   "execution_count": 16,
   "metadata": {},
   "outputs": [
    {
     "data": {
      "text/plain": [
       "(4, 40)"
      ]
     },
     "execution_count": 16,
     "metadata": {},
     "output_type": "execute_result"
    }
   ],
   "source": [
    "sampeData.transpose().strides"
   ]
  },
  {
   "cell_type": "markdown",
   "metadata": {},
   "source": [
    "Meaning the transpose is not a new copy they  are looking at the same place, and if you need a transpose just change your stride and no more copying the data or duplicating"
   ]
  },
  {
   "cell_type": "markdown",
   "metadata": {},
   "source": [
    "##  Slicing in Numpy"
   ]
  },
  {
   "cell_type": "code",
   "execution_count": 17,
   "metadata": {},
   "outputs": [
    {
     "data": {
      "text/plain": [
       "array([[ 0,  1,  2,  3,  4,  5,  6,  7,  8,  9],\n",
       "       [10, 11, 12, 13, 14, 15, 16, 17, 18, 19],\n",
       "       [20, 21, 22, 23, 24, 25, 26, 27, 28, 29]])"
      ]
     },
     "execution_count": 17,
     "metadata": {},
     "output_type": "execute_result"
    }
   ],
   "source": [
    "sampeData"
   ]
  },
  {
   "cell_type": "code",
   "execution_count": 18,
   "metadata": {},
   "outputs": [
    {
     "data": {
      "text/plain": [
       "array([[ 0,  1,  2,  3,  4,  5,  6,  7,  8,  9],\n",
       "       [10, 11, 12, 13, 14, 15, 16, 17, 18, 19],\n",
       "       [20, 21, 22, 23, 24, 25, 26, 27, 28, 29]])"
      ]
     },
     "execution_count": 18,
     "metadata": {},
     "output_type": "execute_result"
    }
   ],
   "source": [
    "sampeData[:,:]"
   ]
  },
  {
   "cell_type": "code",
   "execution_count": 19,
   "metadata": {},
   "outputs": [
    {
     "data": {
      "text/plain": [
       "array([[ 0,  1,  2,  3,  4,  5,  6,  7,  8,  9],\n",
       "       [10, 11, 12, 13, 14, 15, 16, 17, 18, 19],\n",
       "       [20, 21, 22, 23, 24, 25, 26, 27, 28, 29]])"
      ]
     },
     "execution_count": 19,
     "metadata": {},
     "output_type": "execute_result"
    }
   ],
   "source": [
    "sampeData[::]"
   ]
  },
  {
   "cell_type": "code",
   "execution_count": 22,
   "metadata": {},
   "outputs": [
    {
     "data": {
      "text/plain": [
       "array([[ 0,  1,  2,  3,  4,  5,  6,  7,  8,  9],\n",
       "       [10, 11, 12, 13, 14, 15, 16, 17, 18, 19]])"
      ]
     },
     "execution_count": 22,
     "metadata": {},
     "output_type": "execute_result"
    }
   ],
   "source": [
    "sampeData[:2]"
   ]
  },
  {
   "cell_type": "code",
   "execution_count": 26,
   "metadata": {},
   "outputs": [
    {
     "data": {
      "text/plain": [
       "array([[13, 14],\n",
       "       [23, 24]])"
      ]
     },
     "execution_count": 26,
     "metadata": {},
     "output_type": "execute_result"
    }
   ],
   "source": [
    "sampeData[1:,3:5]"
   ]
  },
  {
   "cell_type": "code",
   "execution_count": 29,
   "metadata": {},
   "outputs": [
    {
     "data": {
      "text/plain": [
       "29"
      ]
     },
     "execution_count": 29,
     "metadata": {},
     "output_type": "execute_result"
    }
   ],
   "source": [
    "sampeData[2][-1]"
   ]
  },
  {
   "cell_type": "code",
   "execution_count": 31,
   "metadata": {},
   "outputs": [
    {
     "data": {
      "text/plain": [
       "array([[ 0,  1,  2,  3,  4,  5,  6,  7,  8,  9],\n",
       "       [10, 11, 12, 13, 14, 15, 16, 17, 18, 19],\n",
       "       [20, 21, 22, 23, 24, 25, 26, 27, 28, 29]])"
      ]
     },
     "execution_count": 31,
     "metadata": {},
     "output_type": "execute_result"
    }
   ],
   "source": [
    "sampeData"
   ]
  },
  {
   "cell_type": "code",
   "execution_count": 32,
   "metadata": {},
   "outputs": [
    {
     "data": {
      "text/plain": [
       "  C_CONTIGUOUS : True\n",
       "  F_CONTIGUOUS : False\n",
       "  OWNDATA : True\n",
       "  WRITEABLE : True\n",
       "  ALIGNED : True\n",
       "  WRITEBACKIFCOPY : False\n",
       "  UPDATEIFCOPY : False"
      ]
     },
     "execution_count": 32,
     "metadata": {},
     "output_type": "execute_result"
    }
   ],
   "source": [
    "sampeData.flags"
   ]
  },
  {
   "cell_type": "code",
   "execution_count": 33,
   "metadata": {},
   "outputs": [
    {
     "data": {
      "text/plain": [
       "  C_CONTIGUOUS : False\n",
       "  F_CONTIGUOUS : False\n",
       "  OWNDATA : False\n",
       "  WRITEABLE : True\n",
       "  ALIGNED : True\n",
       "  WRITEBACKIFCOPY : False\n",
       "  UPDATEIFCOPY : False"
      ]
     },
     "execution_count": 33,
     "metadata": {},
     "output_type": "execute_result"
    }
   ],
   "source": [
    "sampeData[::2].flags"
   ]
  },
  {
   "cell_type": "code",
   "execution_count": 36,
   "metadata": {},
   "outputs": [
    {
     "data": {
      "text/plain": [
       "(40, 4)"
      ]
     },
     "execution_count": 36,
     "metadata": {},
     "output_type": "execute_result"
    }
   ],
   "source": [
    "sampeData.strides"
   ]
  },
  {
   "cell_type": "code",
   "execution_count": 38,
   "metadata": {},
   "outputs": [
    {
     "data": {
      "text/plain": [
       "array([[ 0,  1,  2,  3,  4,  5,  6,  7,  8,  9],\n",
       "       [10, 11, 12, 13, 14, 15, 16, 17, 18, 19],\n",
       "       [20, 21, 22, 23, 24, 25, 26, 27, 28, 29]])"
      ]
     },
     "execution_count": 38,
     "metadata": {},
     "output_type": "execute_result"
    }
   ],
   "source": [
    "sampeData"
   ]
  },
  {
   "cell_type": "code",
   "execution_count": 40,
   "metadata": {},
   "outputs": [
    {
     "data": {
      "text/plain": [
       "array([[ 0,  1,  2,  3,  4,  5,  6,  7,  8,  9],\n",
       "       [20, 21, 22, 23, 24, 25, 26, 27, 28, 29]])"
      ]
     },
     "execution_count": 40,
     "metadata": {},
     "output_type": "execute_result"
    }
   ],
   "source": [
    "sampeData[::2]"
   ]
  },
  {
   "cell_type": "code",
   "execution_count": 34,
   "metadata": {},
   "outputs": [
    {
     "data": {
      "text/plain": [
       "(80, 4)"
      ]
     },
     "execution_count": 34,
     "metadata": {},
     "output_type": "execute_result"
    }
   ],
   "source": [
    "sampeData[::2].strides"
   ]
  },
  {
   "cell_type": "markdown",
   "metadata": {},
   "source": [
    "doubled the byte skips as now jumping 2 rows and hence also confirming its not copying the data using the same memory as the original data"
   ]
  },
  {
   "cell_type": "code",
   "execution_count": 44,
   "metadata": {},
   "outputs": [
    {
     "data": {
      "text/plain": [
       "array([[ 0,  1,  2,  3,  4,  5,  6,  7,  8,  9],\n",
       "       [20, 21, 22, 23, 24, 25, 26, 27, 28, 29]])"
      ]
     },
     "execution_count": 44,
     "metadata": {},
     "output_type": "execute_result"
    }
   ],
   "source": [
    "sampeData[::2]"
   ]
  },
  {
   "cell_type": "code",
   "execution_count": 45,
   "metadata": {},
   "outputs": [
    {
     "data": {
      "text/plain": [
       "array([[ 0,  1,  2,  3,  4,  5,  6,  7,  8,  9],\n",
       "       [10, 11, 12, 13, 14, 15, 16, 17, 18, 19],\n",
       "       [20, 21, 22, 23, 24, 25, 26, 27, 28, 29]])"
      ]
     },
     "execution_count": 45,
     "metadata": {},
     "output_type": "execute_result"
    }
   ],
   "source": [
    "sampeData[:,:]"
   ]
  },
  {
   "cell_type": "code",
   "execution_count": 46,
   "metadata": {},
   "outputs": [
    {
     "data": {
      "text/plain": [
       "(40, 4)"
      ]
     },
     "execution_count": 46,
     "metadata": {},
     "output_type": "execute_result"
    }
   ],
   "source": [
    "sampeData.strides"
   ]
  },
  {
   "cell_type": "code",
   "execution_count": 50,
   "metadata": {},
   "outputs": [
    {
     "data": {
      "text/plain": [
       "(40, 4)"
      ]
     },
     "execution_count": 50,
     "metadata": {},
     "output_type": "execute_result"
    }
   ],
   "source": [
    "sampeData[:3,:3].strides"
   ]
  },
  {
   "cell_type": "code",
   "execution_count": 51,
   "metadata": {},
   "outputs": [
    {
     "data": {
      "text/plain": [
       "array([[ 0,  1,  2,  3,  4,  5,  6,  7,  8,  9],\n",
       "       [10, 11, 12, 13, 14, 15, 16, 17, 18, 19],\n",
       "       [20, 21, 22, 23, 24, 25, 26, 27, 28, 29]])"
      ]
     },
     "execution_count": 51,
     "metadata": {},
     "output_type": "execute_result"
    }
   ],
   "source": [
    "sampeData"
   ]
  },
  {
   "cell_type": "code",
   "execution_count": 56,
   "metadata": {},
   "outputs": [
    {
     "data": {
      "text/plain": [
       "array([[ 0,  2,  4,  6,  8],\n",
       "       [20, 22, 24, 26, 28]])"
      ]
     },
     "execution_count": 56,
     "metadata": {},
     "output_type": "execute_result"
    }
   ],
   "source": [
    "sampeData[::2,::2]"
   ]
  },
  {
   "cell_type": "code",
   "execution_count": 52,
   "metadata": {},
   "outputs": [
    {
     "data": {
      "text/plain": [
       "array([[ 0,  2,  4,  6,  8],\n",
       "       [20, 22, 24, 26, 28]])"
      ]
     },
     "execution_count": 52,
     "metadata": {},
     "output_type": "execute_result"
    }
   ],
   "source": [
    "sampeData[::2,::2]"
   ]
  },
  {
   "cell_type": "code",
   "execution_count": 57,
   "metadata": {},
   "outputs": [
    {
     "data": {
      "text/plain": [
       "(80, 8)"
      ]
     },
     "execution_count": 57,
     "metadata": {},
     "output_type": "execute_result"
    }
   ],
   "source": [
    "sampeData[::2,::2].strides"
   ]
  },
  {
   "cell_type": "code",
   "execution_count": 58,
   "metadata": {},
   "outputs": [
    {
     "data": {
      "text/plain": [
       "  C_CONTIGUOUS : False\n",
       "  F_CONTIGUOUS : False\n",
       "  OWNDATA : False\n",
       "  WRITEABLE : True\n",
       "  ALIGNED : True\n",
       "  WRITEBACKIFCOPY : False\n",
       "  UPDATEIFCOPY : False"
      ]
     },
     "execution_count": 58,
     "metadata": {},
     "output_type": "execute_result"
    }
   ],
   "source": [
    "sampeData[::2,::2].flags"
   ]
  },
  {
   "cell_type": "markdown",
   "metadata": {},
   "source": [
    "## Copy the data"
   ]
  },
  {
   "cell_type": "code",
   "execution_count": 59,
   "metadata": {},
   "outputs": [],
   "source": [
    "sampeCopyData=sampeData"
   ]
  },
  {
   "cell_type": "code",
   "execution_count": 60,
   "metadata": {},
   "outputs": [
    {
     "data": {
      "text/plain": [
       "array([[ 0,  1,  2,  3,  4,  5,  6,  7,  8,  9],\n",
       "       [10, 11, 12, 13, 14, 15, 16, 17, 18, 19],\n",
       "       [20, 21, 22, 23, 24, 25, 26, 27, 28, 29]])"
      ]
     },
     "execution_count": 60,
     "metadata": {},
     "output_type": "execute_result"
    }
   ],
   "source": [
    "sampeCopyData"
   ]
  },
  {
   "cell_type": "code",
   "execution_count": 61,
   "metadata": {},
   "outputs": [],
   "source": [
    "sampeData[1][3]=15"
   ]
  },
  {
   "cell_type": "code",
   "execution_count": 62,
   "metadata": {},
   "outputs": [
    {
     "data": {
      "text/plain": [
       "array([[ 0,  1,  2,  3,  4,  5,  6,  7,  8,  9],\n",
       "       [10, 11, 12, 15, 14, 15, 16, 17, 18, 19],\n",
       "       [20, 21, 22, 23, 24, 25, 26, 27, 28, 29]])"
      ]
     },
     "execution_count": 62,
     "metadata": {},
     "output_type": "execute_result"
    }
   ],
   "source": [
    "sampeData"
   ]
  },
  {
   "cell_type": "code",
   "execution_count": 63,
   "metadata": {},
   "outputs": [
    {
     "data": {
      "text/plain": [
       "array([[ 0,  1,  2,  3,  4,  5,  6,  7,  8,  9],\n",
       "       [10, 11, 12, 15, 14, 15, 16, 17, 18, 19],\n",
       "       [20, 21, 22, 23, 24, 25, 26, 27, 28, 29]])"
      ]
     },
     "execution_count": 63,
     "metadata": {},
     "output_type": "execute_result"
    }
   ],
   "source": [
    "sampeCopyData"
   ]
  },
  {
   "cell_type": "markdown",
   "metadata": {},
   "source": [
    "the above operation just referred to the same location, to make a true copy we use .copy()"
   ]
  },
  {
   "cell_type": "code",
   "execution_count": 64,
   "metadata": {},
   "outputs": [],
   "source": [
    "sampetrueCopy=sampeData.copy()"
   ]
  },
  {
   "cell_type": "code",
   "execution_count": 65,
   "metadata": {},
   "outputs": [],
   "source": [
    "sampetrueCopy[1][3]=1000"
   ]
  },
  {
   "cell_type": "code",
   "execution_count": 66,
   "metadata": {},
   "outputs": [
    {
     "data": {
      "text/plain": [
       "array([[   0,    1,    2,    3,    4,    5,    6,    7,    8,    9],\n",
       "       [  10,   11,   12, 1000,   14,   15,   16,   17,   18,   19],\n",
       "       [  20,   21,   22,   23,   24,   25,   26,   27,   28,   29]])"
      ]
     },
     "execution_count": 66,
     "metadata": {},
     "output_type": "execute_result"
    }
   ],
   "source": [
    "sampetrueCopy"
   ]
  },
  {
   "cell_type": "code",
   "execution_count": 67,
   "metadata": {},
   "outputs": [
    {
     "data": {
      "text/plain": [
       "array([[ 0,  1,  2,  3,  4,  5,  6,  7,  8,  9],\n",
       "       [10, 11, 12, 15, 14, 15, 16, 17, 18, 19],\n",
       "       [20, 21, 22, 23, 24, 25, 26, 27, 28, 29]])"
      ]
     },
     "execution_count": 67,
     "metadata": {},
     "output_type": "execute_result"
    }
   ],
   "source": [
    "sampeData"
   ]
  },
  {
   "cell_type": "markdown",
   "metadata": {},
   "source": [
    "## Mathematical Operations (Axis Wise Evaluations)"
   ]
  },
  {
   "cell_type": "code",
   "execution_count": 68,
   "metadata": {},
   "outputs": [],
   "source": [
    "varA_1=list(range(0,2000))\n",
    "varA_2=list(range(2000,4000))\n",
    "varA_3=list(range(4000,6000))\n",
    "varACom=[varA_1,varA_2,varA_3]"
   ]
  },
  {
   "cell_type": "code",
   "execution_count": 69,
   "metadata": {},
   "outputs": [],
   "source": [
    "data=np.array(varACom)"
   ]
  },
  {
   "cell_type": "code",
   "execution_count": 70,
   "metadata": {},
   "outputs": [
    {
     "data": {
      "text/plain": [
       "array([[   0,    1,    2, ..., 1997, 1998, 1999],\n",
       "       [2000, 2001, 2002, ..., 3997, 3998, 3999],\n",
       "       [4000, 4001, 4002, ..., 5997, 5998, 5999]])"
      ]
     },
     "execution_count": 70,
     "metadata": {},
     "output_type": "execute_result"
    }
   ],
   "source": [
    "data"
   ]
  },
  {
   "cell_type": "code",
   "execution_count": 71,
   "metadata": {},
   "outputs": [
    {
     "data": {
      "text/plain": [
       "((3, 2000), 6000)"
      ]
     },
     "execution_count": 71,
     "metadata": {},
     "output_type": "execute_result"
    }
   ],
   "source": [
    "data.shape,data.size"
   ]
  },
  {
   "cell_type": "code",
   "execution_count": 72,
   "metadata": {},
   "outputs": [
    {
     "data": {
      "text/plain": [
       "17997000"
      ]
     },
     "execution_count": 72,
     "metadata": {},
     "output_type": "execute_result"
    }
   ],
   "source": [
    "np.sum(data)"
   ]
  },
  {
   "cell_type": "code",
   "execution_count": 73,
   "metadata": {},
   "outputs": [
    {
     "data": {
      "text/plain": [
       "array([ 6000,  6003,  6006, ..., 11991, 11994, 11997])"
      ]
     },
     "execution_count": 73,
     "metadata": {},
     "output_type": "execute_result"
    }
   ],
   "source": [
    "np.sum(data,axis=0)"
   ]
  },
  {
   "cell_type": "code",
   "execution_count": 74,
   "metadata": {},
   "outputs": [
    {
     "data": {
      "text/plain": [
       "array([1999000, 5999000, 9999000])"
      ]
     },
     "execution_count": 74,
     "metadata": {},
     "output_type": "execute_result"
    }
   ],
   "source": [
    "np.sum(data,axis=1)"
   ]
  },
  {
   "cell_type": "markdown",
   "metadata": {},
   "source": [
    "## 1 for rows 0 for columns"
   ]
  },
  {
   "cell_type": "code",
   "execution_count": 75,
   "metadata": {},
   "outputs": [
    {
     "data": {
      "text/plain": [
       "5999"
      ]
     },
     "execution_count": 75,
     "metadata": {},
     "output_type": "execute_result"
    }
   ],
   "source": [
    "np.max(data)"
   ]
  },
  {
   "cell_type": "code",
   "execution_count": 76,
   "metadata": {},
   "outputs": [
    {
     "data": {
      "text/plain": [
       "array([4000, 4001, 4002, ..., 5997, 5998, 5999])"
      ]
     },
     "execution_count": 76,
     "metadata": {},
     "output_type": "execute_result"
    }
   ],
   "source": [
    "np.max(data,axis=0)"
   ]
  },
  {
   "cell_type": "code",
   "execution_count": 77,
   "metadata": {},
   "outputs": [
    {
     "data": {
      "text/plain": [
       "array([1999, 3999, 5999])"
      ]
     },
     "execution_count": 77,
     "metadata": {},
     "output_type": "execute_result"
    }
   ],
   "source": [
    "np.max(data,axis=1)"
   ]
  },
  {
   "cell_type": "markdown",
   "metadata": {},
   "source": [
    "## Random numbers / Reshape"
   ]
  },
  {
   "cell_type": "code",
   "execution_count": 78,
   "metadata": {},
   "outputs": [],
   "source": [
    "randSamData=np.random.random(6000)"
   ]
  },
  {
   "cell_type": "code",
   "execution_count": 80,
   "metadata": {},
   "outputs": [
    {
     "data": {
      "text/plain": [
       "array([0.70784343, 0.44842369, 0.09435078, ..., 0.95360388, 0.2699444 ,\n",
       "       0.83024735])"
      ]
     },
     "execution_count": 80,
     "metadata": {},
     "output_type": "execute_result"
    }
   ],
   "source": [
    "randSamData"
   ]
  },
  {
   "cell_type": "code",
   "execution_count": 81,
   "metadata": {},
   "outputs": [
    {
     "data": {
      "text/plain": [
       "6000"
      ]
     },
     "execution_count": 81,
     "metadata": {},
     "output_type": "execute_result"
    }
   ],
   "source": [
    "randSamData.size"
   ]
  },
  {
   "cell_type": "code",
   "execution_count": 82,
   "metadata": {},
   "outputs": [
    {
     "data": {
      "text/plain": [
       "(6000,)"
      ]
     },
     "execution_count": 82,
     "metadata": {},
     "output_type": "execute_result"
    }
   ],
   "source": [
    "randSamData.shape"
   ]
  },
  {
   "cell_type": "code",
   "execution_count": 83,
   "metadata": {},
   "outputs": [],
   "source": [
    "matrixFromRandom=randSamData.reshape(200,30)"
   ]
  },
  {
   "cell_type": "code",
   "execution_count": 84,
   "metadata": {},
   "outputs": [
    {
     "data": {
      "text/plain": [
       "(200, 30)"
      ]
     },
     "execution_count": 84,
     "metadata": {},
     "output_type": "execute_result"
    }
   ],
   "source": [
    "matrixFromRandom.shape"
   ]
  },
  {
   "cell_type": "code",
   "execution_count": 86,
   "metadata": {},
   "outputs": [
    {
     "data": {
      "text/plain": [
       "2984.260060583704"
      ]
     },
     "execution_count": 86,
     "metadata": {},
     "output_type": "execute_result"
    }
   ],
   "source": [
    "matrixFromRandom.sum()"
   ]
  },
  {
   "cell_type": "code",
   "execution_count": 87,
   "metadata": {},
   "outputs": [
    {
     "data": {
      "text/plain": [
       "2984.260060583704"
      ]
     },
     "execution_count": 87,
     "metadata": {},
     "output_type": "execute_result"
    }
   ],
   "source": [
    "np.sum(matrixFromRandom)"
   ]
  },
  {
   "cell_type": "code",
   "execution_count": 88,
   "metadata": {},
   "outputs": [
    {
     "data": {
      "text/plain": [
       "200"
      ]
     },
     "execution_count": 88,
     "metadata": {},
     "output_type": "execute_result"
    }
   ],
   "source": [
    "np.sum(matrixFromRandom,axis=1).size"
   ]
  },
  {
   "cell_type": "code",
   "execution_count": 89,
   "metadata": {},
   "outputs": [
    {
     "data": {
      "text/plain": [
       "30"
      ]
     },
     "execution_count": 89,
     "metadata": {},
     "output_type": "execute_result"
    }
   ],
   "source": [
    "np.sum(matrixFromRandom,axis=0).size"
   ]
  },
  {
   "cell_type": "code",
   "execution_count": 90,
   "metadata": {},
   "outputs": [
    {
     "data": {
      "text/plain": [
       "(200,)"
      ]
     },
     "execution_count": 90,
     "metadata": {},
     "output_type": "execute_result"
    }
   ],
   "source": [
    "matrixFromRandom.sum(axis=1).shape"
   ]
  },
  {
   "cell_type": "markdown",
   "metadata": {},
   "source": [
    "## Example 1"
   ]
  },
  {
   "cell_type": "markdown",
   "metadata": {},
   "source": [
    "create a numpy array with random numbers and get the numbers closest to .50 "
   ]
  },
  {
   "cell_type": "code",
   "execution_count": 116,
   "metadata": {},
   "outputs": [],
   "source": [
    "sampData=np.random.random(25)"
   ]
  },
  {
   "cell_type": "code",
   "execution_count": 119,
   "metadata": {},
   "outputs": [],
   "source": [
    "sampData=sampData.reshape(5,5)"
   ]
  },
  {
   "cell_type": "code",
   "execution_count": 123,
   "metadata": {},
   "outputs": [],
   "source": [
    "sampData=abs(sampData-.5)"
   ]
  },
  {
   "cell_type": "code",
   "execution_count": 125,
   "metadata": {},
   "outputs": [
    {
     "data": {
      "text/plain": [
       "array([4, 4, 0, 2, 4], dtype=int64)"
      ]
     },
     "execution_count": 125,
     "metadata": {},
     "output_type": "execute_result"
    }
   ],
   "source": [
    "np.argmin(sampData,axis=0)"
   ]
  },
  {
   "cell_type": "code",
   "execution_count": 126,
   "metadata": {},
   "outputs": [
    {
     "data": {
      "text/plain": [
       "array([[0.37609282, 0.18522466, 0.0072835 , 0.48056799, 0.11837508],\n",
       "       [0.14262867, 0.07639713, 0.24717878, 0.05994426, 0.15504751],\n",
       "       [0.42071128, 0.05407246, 0.40153177, 0.00543842, 0.38636348],\n",
       "       [0.20049559, 0.41542032, 0.29069263, 0.33032602, 0.2657806 ],\n",
       "       [0.03660227, 0.00883018, 0.24397658, 0.00677875, 0.11315927]])"
      ]
     },
     "execution_count": 126,
     "metadata": {},
     "output_type": "execute_result"
    }
   ],
   "source": [
    "sampData"
   ]
  },
  {
   "cell_type": "code",
   "execution_count": 127,
   "metadata": {},
   "outputs": [
    {
     "data": {
      "text/plain": [
       "array([2, 3, 3, 0, 3], dtype=int64)"
      ]
     },
     "execution_count": 127,
     "metadata": {},
     "output_type": "execute_result"
    }
   ],
   "source": [
    "np.argmin(sampData,axis=1)"
   ]
  },
  {
   "cell_type": "code",
   "execution_count": null,
   "metadata": {},
   "outputs": [],
   "source": []
  },
  {
   "cell_type": "code",
   "execution_count": null,
   "metadata": {},
   "outputs": [],
   "source": []
  },
  {
   "cell_type": "code",
   "execution_count": null,
   "metadata": {},
   "outputs": [],
   "source": [
    "#np.argmin(abs(matrixFromRandom-.50),axis=1)"
   ]
  },
  {
   "cell_type": "code",
   "execution_count": null,
   "metadata": {},
   "outputs": [],
   "source": [
    "#np.argmin(abs(matrixFromRandom[0]-.50))"
   ]
  },
  {
   "cell_type": "code",
   "execution_count": null,
   "metadata": {},
   "outputs": [],
   "source": [
    "matrixFromRandom[0]"
   ]
  },
  {
   "cell_type": "markdown",
   "metadata": {},
   "source": [
    "## Example 2"
   ]
  },
  {
   "cell_type": "markdown",
   "metadata": {},
   "source": [
    "##### select the top 5 columns on order of highest variance"
   ]
  },
  {
   "cell_type": "code",
   "execution_count": 128,
   "metadata": {},
   "outputs": [],
   "source": [
    "sampData2=np.random.random(6000)"
   ]
  },
  {
   "cell_type": "code",
   "execution_count": 129,
   "metadata": {},
   "outputs": [],
   "source": [
    "sampData2=sampData2.reshape(100,60)"
   ]
  },
  {
   "cell_type": "code",
   "execution_count": 133,
   "metadata": {},
   "outputs": [],
   "source": [
    "varInfo=np.var(sampData2,axis=0)"
   ]
  },
  {
   "cell_type": "code",
   "execution_count": 136,
   "metadata": {},
   "outputs": [],
   "source": [
    "incOrder=np.argsort(varInfo)"
   ]
  },
  {
   "cell_type": "code",
   "execution_count": 138,
   "metadata": {},
   "outputs": [
    {
     "data": {
      "text/plain": [
       "array([55, 41,  7,  2, 11], dtype=int64)"
      ]
     },
     "execution_count": 138,
     "metadata": {},
     "output_type": "execute_result"
    }
   ],
   "source": [
    "incOrder[-5:]"
   ]
  },
  {
   "cell_type": "code",
   "execution_count": 139,
   "metadata": {
    "scrolled": true
   },
   "outputs": [
    {
     "data": {
      "text/plain": [
       "array([[0.01214704, 0.82359552, 0.90264683, 0.28685328, 0.43546362],\n",
       "       [0.71648331, 0.11852289, 0.65192139, 0.12344288, 0.15756078],\n",
       "       [0.65715645, 0.96991868, 0.87298875, 0.48041418, 0.83238623],\n",
       "       [0.13626359, 0.88956302, 0.15339673, 0.1774087 , 0.70025226],\n",
       "       [0.78117465, 0.2061078 , 0.22648194, 0.90363985, 0.74388714],\n",
       "       [0.69568094, 0.21192797, 0.53104763, 0.99884393, 0.19497621],\n",
       "       [0.68642991, 0.75073008, 0.04246502, 0.76235901, 0.10556933],\n",
       "       [0.50560782, 0.01109912, 0.92509633, 0.77497563, 0.14395854],\n",
       "       [0.86419947, 0.74259261, 0.64331297, 0.60602385, 0.44353237],\n",
       "       [0.31858246, 0.06741897, 0.05827218, 0.64680946, 0.32897884],\n",
       "       [0.32042092, 0.60815185, 0.79280807, 0.98168149, 0.34138803],\n",
       "       [0.2119132 , 0.87283273, 0.72717428, 0.96389623, 0.0042365 ],\n",
       "       [0.94705269, 0.43111391, 0.11346899, 0.794883  , 0.89250018],\n",
       "       [0.3000735 , 0.79144073, 0.28317917, 0.25082863, 0.03761744],\n",
       "       [0.03382671, 0.84932845, 0.22578743, 0.30881833, 0.92261418],\n",
       "       [0.63459459, 0.16296818, 0.37575149, 0.06229975, 0.2432589 ],\n",
       "       [0.51244513, 0.80270825, 0.57682125, 0.17802485, 0.34682957],\n",
       "       [0.97826253, 0.73563991, 0.21129199, 0.96514629, 0.87343142],\n",
       "       [0.70151058, 0.67149712, 0.76027642, 0.20033579, 0.74595905],\n",
       "       [0.80166713, 0.53744436, 0.99598182, 0.21494617, 0.0740098 ],\n",
       "       [0.28712129, 0.04989945, 0.85953433, 0.87773425, 0.89232085],\n",
       "       [0.00472143, 0.20385268, 0.99569646, 0.39493815, 0.85472889],\n",
       "       [0.07619193, 0.58669832, 0.13926004, 0.82722711, 0.33187728],\n",
       "       [0.21654128, 0.15951628, 0.56309247, 0.0112944 , 0.52805483],\n",
       "       [0.08388596, 0.90375153, 0.71702557, 0.28227474, 0.30759086],\n",
       "       [0.75361738, 0.88709159, 0.76033631, 0.28444062, 0.99352658],\n",
       "       [0.85516983, 0.06732156, 0.80047148, 0.17070096, 0.49057285],\n",
       "       [0.76605675, 0.60737499, 0.75302906, 0.37494678, 0.09941939],\n",
       "       [0.10478382, 0.0465459 , 0.13261534, 0.30551962, 0.73602214],\n",
       "       [0.47478263, 0.49096179, 0.23055329, 0.35136524, 0.40532713],\n",
       "       [0.96492354, 0.61439378, 0.12348587, 0.60235132, 0.36081057],\n",
       "       [0.69715611, 0.89572638, 0.47176346, 0.772549  , 0.56407118],\n",
       "       [0.33979358, 0.49192397, 0.42493226, 0.9276057 , 0.96546297],\n",
       "       [0.03027106, 0.95031876, 0.88911043, 0.1892102 , 0.7999656 ],\n",
       "       [0.25678478, 0.43087355, 0.05556752, 0.78683079, 0.14449978],\n",
       "       [0.19144687, 0.54787442, 0.72432814, 0.94159976, 0.72514474],\n",
       "       [0.06761858, 0.22535065, 0.79845486, 0.3580303 , 0.57595635],\n",
       "       [0.28522261, 0.3666482 , 0.70495255, 0.38698222, 0.93745258],\n",
       "       [0.7670577 , 0.47600348, 0.92034605, 0.1632812 , 0.78573024],\n",
       "       [0.66935453, 0.97292105, 0.22926675, 0.40693579, 0.22605825],\n",
       "       [0.46531346, 0.76465115, 0.90901019, 0.41497761, 0.10206313],\n",
       "       [0.2881926 , 0.65053448, 0.85728596, 0.59422175, 0.1199337 ],\n",
       "       [0.90536539, 0.94189669, 0.98884828, 0.39117649, 0.14921903],\n",
       "       [0.59974846, 0.75932593, 0.05328295, 0.05008578, 0.92916172],\n",
       "       [0.21653484, 0.75938005, 0.38364207, 0.0060345 , 0.86265319],\n",
       "       [0.99651156, 0.97823934, 0.32859434, 0.49563441, 0.56812579],\n",
       "       [0.76113138, 0.7529939 , 0.90818244, 0.03082869, 0.86305192],\n",
       "       [0.52650675, 0.82100578, 0.8300449 , 0.2747498 , 0.52917904],\n",
       "       [0.85788549, 0.8113961 , 0.84333491, 0.1763771 , 0.82462563],\n",
       "       [0.30221264, 0.37490225, 0.88145995, 0.04473831, 0.60693456],\n",
       "       [0.24485734, 0.23516385, 0.20145081, 0.08632145, 0.02221946],\n",
       "       [0.9498907 , 0.39360917, 0.26865741, 0.09040281, 0.57491621],\n",
       "       [0.09115493, 0.88700601, 0.56580034, 0.64918001, 0.96423149],\n",
       "       [0.01177487, 0.76722937, 0.84802983, 0.43258836, 0.17304824],\n",
       "       [0.9487529 , 0.66538274, 0.5665791 , 0.11004124, 0.98704371],\n",
       "       [0.15114312, 0.61742974, 0.38741076, 0.45232702, 0.99173793],\n",
       "       [0.56810978, 0.03265033, 0.05450078, 0.61722013, 0.33710447],\n",
       "       [0.52651551, 0.23226812, 0.45985724, 0.10210457, 0.45717256],\n",
       "       [0.40329536, 0.06770007, 0.07064413, 0.04822814, 0.31985136],\n",
       "       [0.67284044, 0.23817542, 0.24430974, 0.22381078, 0.83565612],\n",
       "       [0.29560506, 0.92091588, 0.31869862, 0.61599928, 0.89335964],\n",
       "       [0.5614781 , 0.49537052, 0.29141295, 0.19939731, 0.76529947],\n",
       "       [0.5083308 , 0.47776011, 0.16939794, 0.88342002, 0.92021078],\n",
       "       [0.80625846, 0.37999545, 0.30923459, 0.13327814, 0.88401095],\n",
       "       [0.84061467, 0.17000848, 0.37760172, 0.95419664, 0.13627665],\n",
       "       [0.06499199, 0.12144152, 0.76826382, 0.11580907, 0.83156158],\n",
       "       [0.69162496, 0.73904354, 0.79582565, 0.25323932, 0.218     ],\n",
       "       [0.20139205, 0.18111405, 0.83896175, 0.39920061, 0.7899463 ],\n",
       "       [0.33030857, 0.0695957 , 0.73394409, 0.81664391, 0.79515993],\n",
       "       [0.93681629, 0.94196426, 0.28718752, 0.78547995, 0.58965736],\n",
       "       [0.87887373, 0.31711155, 0.50948468, 0.62054169, 0.32124359],\n",
       "       [0.26847698, 0.03639574, 0.63994025, 0.88716373, 0.05169706],\n",
       "       [0.20964606, 0.17559165, 0.09278595, 0.23911943, 0.61734064],\n",
       "       [0.4333413 , 0.25741654, 0.06498948, 0.1813154 , 0.20919315],\n",
       "       [0.91127808, 0.62875305, 0.41314876, 0.7617453 , 0.10639833],\n",
       "       [0.11596585, 0.50264296, 0.24630103, 0.15906977, 0.78130735],\n",
       "       [0.63859336, 0.00315191, 0.49805112, 0.32146265, 0.09761421],\n",
       "       [0.9856349 , 0.32833594, 0.97313201, 0.69256845, 0.89524063],\n",
       "       [0.75561817, 0.32212477, 0.87227561, 0.74890427, 0.32412849],\n",
       "       [0.31220917, 0.03339855, 0.12185941, 0.87150783, 0.1269392 ],\n",
       "       [0.85892213, 0.08314036, 0.0239623 , 0.76190909, 0.26840785],\n",
       "       [0.55442074, 0.12168636, 0.06450561, 0.94709588, 0.85350514],\n",
       "       [0.03792021, 0.67398012, 0.91542129, 0.45692768, 0.64219481],\n",
       "       [0.79770516, 0.81966993, 0.95825566, 0.69997228, 0.23442167],\n",
       "       [0.83939031, 0.82986774, 0.08091166, 0.36684233, 0.14763608],\n",
       "       [0.73671255, 0.6348862 , 0.17324385, 0.85946162, 0.89132828],\n",
       "       [0.76194262, 0.70978825, 0.09323596, 0.38953331, 0.46424304],\n",
       "       [0.14538706, 0.17825055, 0.64429574, 0.15095222, 0.08342378],\n",
       "       [0.63698188, 0.04531475, 0.60820798, 0.22746304, 0.26600418],\n",
       "       [0.57972022, 0.70522672, 0.10588449, 0.28609395, 0.31585711],\n",
       "       [0.03930296, 0.33687032, 0.69715581, 0.7238313 , 0.05933652],\n",
       "       [0.26263409, 0.99613599, 0.07232206, 0.33736152, 0.27219608],\n",
       "       [0.01457578, 0.28287998, 0.17345536, 0.9298509 , 0.15910755],\n",
       "       [0.05628287, 0.59201134, 0.00972388, 0.06059257, 0.69291175],\n",
       "       [0.42119306, 0.40151698, 0.36463065, 0.91224996, 0.99984655],\n",
       "       [0.48810595, 0.61800691, 0.23861538, 0.94107244, 0.46722725],\n",
       "       [0.73629835, 0.23356179, 0.78224946, 0.81117843, 0.00985966],\n",
       "       [0.86202508, 0.04742612, 0.15541301, 0.03561915, 0.9622411 ],\n",
       "       [0.67795033, 0.64812491, 0.62845004, 0.97270083, 0.08942467],\n",
       "       [0.40649759, 0.39092969, 0.36505681, 0.97125707, 0.23067362]])"
      ]
     },
     "execution_count": 139,
     "metadata": {},
     "output_type": "execute_result"
    }
   ],
   "source": [
    "sampData2[:,incOrder[-5:]]"
   ]
  },
  {
   "cell_type": "code",
   "execution_count": null,
   "metadata": {},
   "outputs": [],
   "source": []
  },
  {
   "cell_type": "code",
   "execution_count": null,
   "metadata": {},
   "outputs": [],
   "source": []
  },
  {
   "cell_type": "code",
   "execution_count": null,
   "metadata": {},
   "outputs": [],
   "source": []
  },
  {
   "cell_type": "code",
   "execution_count": null,
   "metadata": {},
   "outputs": [],
   "source": []
  },
  {
   "cell_type": "code",
   "execution_count": null,
   "metadata": {},
   "outputs": [],
   "source": []
  },
  {
   "cell_type": "code",
   "execution_count": null,
   "metadata": {},
   "outputs": [],
   "source": [
    "np.var(sampData,axis=0)"
   ]
  },
  {
   "cell_type": "code",
   "execution_count": null,
   "metadata": {},
   "outputs": [],
   "source": [
    "orderOfCol=np.argsort(np.var(sampData,axis=0))"
   ]
  },
  {
   "cell_type": "code",
   "execution_count": null,
   "metadata": {},
   "outputs": [],
   "source": [
    "orderOfCol[-5:]"
   ]
  },
  {
   "cell_type": "code",
   "execution_count": null,
   "metadata": {},
   "outputs": [],
   "source": [
    "sampData.shape"
   ]
  },
  {
   "cell_type": "code",
   "execution_count": null,
   "metadata": {},
   "outputs": [],
   "source": [
    "sampData[:,orderOfCol[-5:]].shape"
   ]
  },
  {
   "cell_type": "markdown",
   "metadata": {},
   "source": [
    "## Broadcasting"
   ]
  },
  {
   "cell_type": "code",
   "execution_count": 140,
   "metadata": {},
   "outputs": [],
   "source": [
    "sampData4=np.random.random(28).reshape(7,4)"
   ]
  },
  {
   "cell_type": "code",
   "execution_count": 141,
   "metadata": {},
   "outputs": [
    {
     "data": {
      "text/plain": [
       "array([[0.51542328, 0.51272012, 0.2937555 , 0.23571555],\n",
       "       [0.28648584, 0.06866378, 0.19349796, 0.94783924],\n",
       "       [0.48059291, 0.37093744, 0.43790575, 0.8500618 ],\n",
       "       [0.42907618, 0.73157748, 0.86348703, 0.59100341],\n",
       "       [0.90769682, 0.55597197, 0.55318188, 0.69273956],\n",
       "       [0.81342899, 0.61220512, 0.66491307, 0.43160928],\n",
       "       [0.21626311, 0.58514361, 0.60110265, 0.67092123]])"
      ]
     },
     "execution_count": 141,
     "metadata": {},
     "output_type": "execute_result"
    }
   ],
   "source": [
    "sampData4"
   ]
  },
  {
   "cell_type": "code",
   "execution_count": 142,
   "metadata": {},
   "outputs": [
    {
     "data": {
      "text/plain": [
       "array([[5.51542328, 5.51272012, 5.2937555 , 5.23571555],\n",
       "       [5.28648584, 5.06866378, 5.19349796, 5.94783924],\n",
       "       [5.48059291, 5.37093744, 5.43790575, 5.8500618 ],\n",
       "       [5.42907618, 5.73157748, 5.86348703, 5.59100341],\n",
       "       [5.90769682, 5.55597197, 5.55318188, 5.69273956],\n",
       "       [5.81342899, 5.61220512, 5.66491307, 5.43160928],\n",
       "       [5.21626311, 5.58514361, 5.60110265, 5.67092123]])"
      ]
     },
     "execution_count": 142,
     "metadata": {},
     "output_type": "execute_result"
    }
   ],
   "source": [
    "sampData4+5"
   ]
  },
  {
   "cell_type": "code",
   "execution_count": 143,
   "metadata": {},
   "outputs": [
    {
     "data": {
      "text/plain": [
       "array([[1.51542328, 2.51272012, 3.2937555 , 4.23571555],\n",
       "       [1.28648584, 2.06866378, 3.19349796, 4.94783924],\n",
       "       [1.48059291, 2.37093744, 3.43790575, 4.8500618 ],\n",
       "       [1.42907618, 2.73157748, 3.86348703, 4.59100341],\n",
       "       [1.90769682, 2.55597197, 3.55318188, 4.69273956],\n",
       "       [1.81342899, 2.61220512, 3.66491307, 4.43160928],\n",
       "       [1.21626311, 2.58514361, 3.60110265, 4.67092123]])"
      ]
     },
     "execution_count": 143,
     "metadata": {},
     "output_type": "execute_result"
    }
   ],
   "source": [
    "sampData4+np.array([1,2,3,4])"
   ]
  },
  {
   "cell_type": "code",
   "execution_count": 144,
   "metadata": {},
   "outputs": [
    {
     "ename": "ValueError",
     "evalue": "operands could not be broadcast together with shapes (7,4) (3,) ",
     "output_type": "error",
     "traceback": [
      "\u001b[1;31m---------------------------------------------------------------------------\u001b[0m",
      "\u001b[1;31mValueError\u001b[0m                                Traceback (most recent call last)",
      "\u001b[1;32m<ipython-input-144-113b47c4a8fb>\u001b[0m in \u001b[0;36m<module>\u001b[1;34m\u001b[0m\n\u001b[1;32m----> 1\u001b[1;33m \u001b[0msampData4\u001b[0m\u001b[1;33m+\u001b[0m\u001b[0mnp\u001b[0m\u001b[1;33m.\u001b[0m\u001b[0marray\u001b[0m\u001b[1;33m(\u001b[0m\u001b[1;33m[\u001b[0m\u001b[1;36m1\u001b[0m\u001b[1;33m,\u001b[0m\u001b[1;36m2\u001b[0m\u001b[1;33m,\u001b[0m\u001b[1;36m3\u001b[0m\u001b[1;33m]\u001b[0m\u001b[1;33m)\u001b[0m\u001b[1;33m\u001b[0m\u001b[1;33m\u001b[0m\u001b[0m\n\u001b[0m",
      "\u001b[1;31mValueError\u001b[0m: operands could not be broadcast together with shapes (7,4) (3,) "
     ]
    }
   ],
   "source": [
    "sampData4+np.array([1,2,3])"
   ]
  },
  {
   "cell_type": "code",
   "execution_count": 145,
   "metadata": {},
   "outputs": [
    {
     "ename": "ValueError",
     "evalue": "operands could not be broadcast together with shapes (7,4) (7,) ",
     "output_type": "error",
     "traceback": [
      "\u001b[1;31m---------------------------------------------------------------------------\u001b[0m",
      "\u001b[1;31mValueError\u001b[0m                                Traceback (most recent call last)",
      "\u001b[1;32m<ipython-input-145-eda609e13700>\u001b[0m in \u001b[0;36m<module>\u001b[1;34m\u001b[0m\n\u001b[1;32m----> 1\u001b[1;33m \u001b[0msampData4\u001b[0m\u001b[1;33m+\u001b[0m\u001b[0mnp\u001b[0m\u001b[1;33m.\u001b[0m\u001b[0marray\u001b[0m\u001b[1;33m(\u001b[0m\u001b[1;33m[\u001b[0m\u001b[1;36m1\u001b[0m\u001b[1;33m,\u001b[0m\u001b[1;36m2\u001b[0m\u001b[1;33m,\u001b[0m\u001b[1;36m3\u001b[0m\u001b[1;33m,\u001b[0m\u001b[1;36m4\u001b[0m\u001b[1;33m,\u001b[0m\u001b[1;36m5\u001b[0m\u001b[1;33m,\u001b[0m\u001b[1;36m6\u001b[0m\u001b[1;33m,\u001b[0m\u001b[1;36m7\u001b[0m\u001b[1;33m]\u001b[0m\u001b[1;33m)\u001b[0m\u001b[1;33m\u001b[0m\u001b[1;33m\u001b[0m\u001b[0m\n\u001b[0m",
      "\u001b[1;31mValueError\u001b[0m: operands could not be broadcast together with shapes (7,4) (7,) "
     ]
    }
   ],
   "source": [
    "sampData4+np.array([1,2,3,4,5,6,7])"
   ]
  },
  {
   "cell_type": "code",
   "execution_count": 147,
   "metadata": {},
   "outputs": [
    {
     "data": {
      "text/plain": [
       "(7, 1)"
      ]
     },
     "execution_count": 147,
     "metadata": {},
     "output_type": "execute_result"
    }
   ],
   "source": [
    "np.array([[1],[2],[3],[4],[5],[6],[7]]).shape"
   ]
  },
  {
   "cell_type": "code",
   "execution_count": 146,
   "metadata": {},
   "outputs": [
    {
     "data": {
      "text/plain": [
       "array([[1.51542328, 1.51272012, 1.2937555 , 1.23571555],\n",
       "       [2.28648584, 2.06866378, 2.19349796, 2.94783924],\n",
       "       [3.48059291, 3.37093744, 3.43790575, 3.8500618 ],\n",
       "       [4.42907618, 4.73157748, 4.86348703, 4.59100341],\n",
       "       [5.90769682, 5.55597197, 5.55318188, 5.69273956],\n",
       "       [6.81342899, 6.61220512, 6.66491307, 6.43160928],\n",
       "       [7.21626311, 7.58514361, 7.60110265, 7.67092123]])"
      ]
     },
     "execution_count": 146,
     "metadata": {},
     "output_type": "execute_result"
    }
   ],
   "source": [
    "sampData4+np.array([[1],[2],[3],[4],[5],[6],[7]])"
   ]
  },
  {
   "cell_type": "markdown",
   "metadata": {},
   "source": [
    "##  Many matrix languages"
   ]
  },
  {
   "cell_type": "code",
   "execution_count": 148,
   "metadata": {},
   "outputs": [],
   "source": [
    "aMatrix = np.array( [[1,1],[0,1]] )\n",
    "bMatrix = np.array( [[2,0],[3,4]] )"
   ]
  },
  {
   "cell_type": "code",
   "execution_count": 149,
   "metadata": {},
   "outputs": [
    {
     "data": {
      "text/plain": [
       "array([[1, 1],\n",
       "       [0, 1]])"
      ]
     },
     "execution_count": 149,
     "metadata": {},
     "output_type": "execute_result"
    }
   ],
   "source": [
    "aMatrix"
   ]
  },
  {
   "cell_type": "code",
   "execution_count": 150,
   "metadata": {},
   "outputs": [
    {
     "data": {
      "text/plain": [
       "array([[2, 0],\n",
       "       [3, 4]])"
      ]
     },
     "execution_count": 150,
     "metadata": {},
     "output_type": "execute_result"
    }
   ],
   "source": [
    "bMatrix"
   ]
  },
  {
   "cell_type": "code",
   "execution_count": 151,
   "metadata": {},
   "outputs": [
    {
     "data": {
      "text/plain": [
       "array([[2, 0],\n",
       "       [0, 4]])"
      ]
     },
     "execution_count": 151,
     "metadata": {},
     "output_type": "execute_result"
    }
   ],
   "source": [
    "aMatrix * bMatrix  #elementwise  multiplication"
   ]
  },
  {
   "cell_type": "code",
   "execution_count": 152,
   "metadata": {},
   "outputs": [
    {
     "data": {
      "text/plain": [
       "array([[5, 4],\n",
       "       [3, 4]])"
      ]
     },
     "execution_count": 152,
     "metadata": {},
     "output_type": "execute_result"
    }
   ],
   "source": [
    "aMatrix.dot(bMatrix) # matrix product"
   ]
  },
  {
   "cell_type": "code",
   "execution_count": 153,
   "metadata": {},
   "outputs": [
    {
     "data": {
      "text/plain": [
       "array([[5, 4],\n",
       "       [3, 4]])"
      ]
     },
     "execution_count": 153,
     "metadata": {},
     "output_type": "execute_result"
    }
   ],
   "source": [
    "np.dot(aMatrix,bMatrix)"
   ]
  },
  {
   "cell_type": "code",
   "execution_count": 155,
   "metadata": {},
   "outputs": [
    {
     "data": {
      "text/plain": [
       "array([[5, 4],\n",
       "       [3, 4]])"
      ]
     },
     "execution_count": 155,
     "metadata": {},
     "output_type": "execute_result"
    }
   ],
   "source": [
    "aMatrix @ bMatrix  # matrix product"
   ]
  },
  {
   "cell_type": "markdown",
   "metadata": {},
   "source": [
    "## Handy functions"
   ]
  },
  {
   "cell_type": "code",
   "execution_count": 156,
   "metadata": {},
   "outputs": [
    {
     "data": {
      "text/plain": [
       "array([[1., 1., 1., 1., 1.],\n",
       "       [1., 1., 1., 1., 1.],\n",
       "       [1., 1., 1., 1., 1.],\n",
       "       [1., 1., 1., 1., 1.],\n",
       "       [1., 1., 1., 1., 1.]])"
      ]
     },
     "execution_count": 156,
     "metadata": {},
     "output_type": "execute_result"
    }
   ],
   "source": [
    "np.ones((5,5))"
   ]
  },
  {
   "cell_type": "code",
   "execution_count": 157,
   "metadata": {},
   "outputs": [
    {
     "data": {
      "text/plain": [
       "numpy.ndarray"
      ]
     },
     "execution_count": 157,
     "metadata": {},
     "output_type": "execute_result"
    }
   ],
   "source": [
    "type(np.ones((5,5)))"
   ]
  },
  {
   "cell_type": "code",
   "execution_count": 158,
   "metadata": {},
   "outputs": [],
   "source": [
    "arrayOf1s=np.ones((5,5))"
   ]
  },
  {
   "cell_type": "code",
   "execution_count": 159,
   "metadata": {},
   "outputs": [
    {
     "data": {
      "text/plain": [
       "dtype('float64')"
      ]
     },
     "execution_count": 159,
     "metadata": {},
     "output_type": "execute_result"
    }
   ],
   "source": [
    "arrayOf1s.dtype"
   ]
  },
  {
   "cell_type": "code",
   "execution_count": 160,
   "metadata": {},
   "outputs": [
    {
     "data": {
      "text/plain": [
       "array([[1, 1, 1, 1, 1],\n",
       "       [1, 1, 1, 1, 1],\n",
       "       [1, 1, 1, 1, 1],\n",
       "       [1, 1, 1, 1, 1],\n",
       "       [1, 1, 1, 1, 1]])"
      ]
     },
     "execution_count": 160,
     "metadata": {},
     "output_type": "execute_result"
    }
   ],
   "source": [
    "np.ones((5,5),dtype='int32')"
   ]
  },
  {
   "cell_type": "code",
   "execution_count": 161,
   "metadata": {},
   "outputs": [],
   "source": [
    "exqualSpacedArray = np.linspace(0,10,30)"
   ]
  },
  {
   "cell_type": "code",
   "execution_count": 162,
   "metadata": {},
   "outputs": [
    {
     "data": {
      "text/plain": [
       "array([ 0.        ,  0.34482759,  0.68965517,  1.03448276,  1.37931034,\n",
       "        1.72413793,  2.06896552,  2.4137931 ,  2.75862069,  3.10344828,\n",
       "        3.44827586,  3.79310345,  4.13793103,  4.48275862,  4.82758621,\n",
       "        5.17241379,  5.51724138,  5.86206897,  6.20689655,  6.55172414,\n",
       "        6.89655172,  7.24137931,  7.5862069 ,  7.93103448,  8.27586207,\n",
       "        8.62068966,  8.96551724,  9.31034483,  9.65517241, 10.        ])"
      ]
     },
     "execution_count": 162,
     "metadata": {},
     "output_type": "execute_result"
    }
   ],
   "source": [
    "exqualSpacedArray"
   ]
  },
  {
   "cell_type": "code",
   "execution_count": 163,
   "metadata": {},
   "outputs": [
    {
     "data": {
      "text/plain": [
       "array([1.00000000e+00, 1.41174649e+00, 1.99302816e+00, 2.81365052e+00,\n",
       "       3.97216126e+00, 5.60768473e+00, 7.91662926e+00, 1.11762736e+01,\n",
       "       1.57780651e+01, 2.22746281e+01, 3.14461281e+01, 4.43939611e+01,\n",
       "       6.26730189e+01, 8.84784147e+01, 1.24909092e+02, 1.76339972e+02,\n",
       "       2.48947338e+02, 3.51450531e+02, 4.96159055e+02, 7.00450807e+02,\n",
       "       9.88858971e+02, 1.39601819e+03, 1.97082378e+03, 2.78230356e+03,\n",
       "       3.92790730e+03, 5.54520936e+03, 7.82842987e+03, 1.10517584e+04,\n",
       "       1.56022812e+04, 2.20264658e+04])"
      ]
     },
     "execution_count": 163,
     "metadata": {},
     "output_type": "execute_result"
    }
   ],
   "source": [
    "np.exp(exqualSpacedArray)  #e^x"
   ]
  },
  {
   "cell_type": "markdown",
   "metadata": {},
   "source": [
    "## np.arange"
   ]
  },
  {
   "cell_type": "code",
   "execution_count": 164,
   "metadata": {},
   "outputs": [
    {
     "data": {
      "text/plain": [
       "array([ 0,  1,  2,  3,  4,  5,  6,  7,  8,  9, 10, 11])"
      ]
     },
     "execution_count": 164,
     "metadata": {},
     "output_type": "execute_result"
    }
   ],
   "source": [
    "np.arange(12)"
   ]
  },
  {
   "cell_type": "code",
   "execution_count": 165,
   "metadata": {},
   "outputs": [
    {
     "data": {
      "text/plain": [
       "array([[ 0,  1,  2,  3],\n",
       "       [ 4,  5,  6,  7],\n",
       "       [ 8,  9, 10, 11]])"
      ]
     },
     "execution_count": 165,
     "metadata": {},
     "output_type": "execute_result"
    }
   ],
   "source": [
    "np.arange(12).reshape(3,4)"
   ]
  },
  {
   "cell_type": "markdown",
   "metadata": {},
   "source": [
    "## Other useful functions"
   ]
  },
  {
   "cell_type": "code",
   "execution_count": 166,
   "metadata": {},
   "outputs": [],
   "source": [
    "simpleArray=np.arange(12)"
   ]
  },
  {
   "cell_type": "code",
   "execution_count": 167,
   "metadata": {},
   "outputs": [
    {
     "data": {
      "text/plain": [
       "array([1.00000000e+00, 2.71828183e+00, 7.38905610e+00, 2.00855369e+01,\n",
       "       5.45981500e+01, 1.48413159e+02, 4.03428793e+02, 1.09663316e+03,\n",
       "       2.98095799e+03, 8.10308393e+03, 2.20264658e+04, 5.98741417e+04])"
      ]
     },
     "execution_count": 167,
     "metadata": {},
     "output_type": "execute_result"
    }
   ],
   "source": [
    "np.exp(simpleArray)"
   ]
  },
  {
   "cell_type": "code",
   "execution_count": 168,
   "metadata": {},
   "outputs": [
    {
     "data": {
      "text/plain": [
       "66"
      ]
     },
     "execution_count": 168,
     "metadata": {},
     "output_type": "execute_result"
    }
   ],
   "source": [
    "np.sum(simpleArray)"
   ]
  },
  {
   "cell_type": "code",
   "execution_count": 169,
   "metadata": {},
   "outputs": [
    {
     "data": {
      "text/plain": [
       "array([0.        , 1.        , 1.41421356, 1.73205081, 2.        ,\n",
       "       2.23606798, 2.44948974, 2.64575131, 2.82842712, 3.        ,\n",
       "       3.16227766, 3.31662479])"
      ]
     },
     "execution_count": 169,
     "metadata": {},
     "output_type": "execute_result"
    }
   ],
   "source": [
    "np.sqrt(simpleArray)"
   ]
  },
  {
   "cell_type": "code",
   "execution_count": 170,
   "metadata": {},
   "outputs": [],
   "source": [
    "simpleArraySq=np.sqrt(simpleArray)"
   ]
  },
  {
   "cell_type": "code",
   "execution_count": 171,
   "metadata": {},
   "outputs": [
    {
     "data": {
      "text/plain": [
       "array([ 0.        ,  2.        ,  3.41421356,  4.73205081,  6.        ,\n",
       "        7.23606798,  8.44948974,  9.64575131, 10.82842712, 12.        ,\n",
       "       13.16227766, 14.31662479])"
      ]
     },
     "execution_count": 171,
     "metadata": {},
     "output_type": "execute_result"
    }
   ],
   "source": [
    "np.add(simpleArray,simpleArraySq)"
   ]
  },
  {
   "cell_type": "markdown",
   "metadata": {},
   "source": [
    "## What if some non supported operations"
   ]
  },
  {
   "cell_type": "code",
   "execution_count": null,
   "metadata": {},
   "outputs": [],
   "source": [
    "import numpy as np"
   ]
  },
  {
   "cell_type": "code",
   "execution_count": 172,
   "metadata": {},
   "outputs": [
    {
     "data": {
      "text/plain": [
       "array([[ 0,  1,  2,  3],\n",
       "       [ 1,  2,  3,  4],\n",
       "       [ 2,  3,  4,  5],\n",
       "       [ 3,  4,  5,  6],\n",
       "       [ 4,  5,  6,  7],\n",
       "       [ 5,  6,  7,  8],\n",
       "       [ 6,  7,  8,  9],\n",
       "       [ 7,  8,  9, 10],\n",
       "       [ 8,  9, 10, 11],\n",
       "       [ 9, 10, 11, 12],\n",
       "       [10, 11, 12, 13],\n",
       "       [11, 12, 13, 14],\n",
       "       [12, 13, 14, 15],\n",
       "       [13, 14, 15, 16],\n",
       "       [14, 15, 16, 17]])"
      ]
     },
     "execution_count": 172,
     "metadata": {},
     "output_type": "execute_result"
    }
   ],
   "source": [
    "def funcArray(x,y):\n",
    "    return x+y\n",
    "\n",
    "functionCreatedArray = np.fromfunction(funcArray,(15,4),dtype=int)\n",
    "functionCreatedArray"
   ]
  },
  {
   "cell_type": "markdown",
   "metadata": {},
   "source": [
    "### Flat the array"
   ]
  },
  {
   "cell_type": "code",
   "execution_count": 173,
   "metadata": {},
   "outputs": [
    {
     "data": {
      "text/plain": [
       "array([ 0,  1,  2,  3,  1,  2,  3,  4,  2,  3,  4,  5,  3,  4,  5,  6,  4,\n",
       "        5,  6,  7,  5,  6,  7,  8,  6,  7,  8,  9,  7,  8,  9, 10,  8,  9,\n",
       "       10, 11,  9, 10, 11, 12, 10, 11, 12, 13, 11, 12, 13, 14, 12, 13, 14,\n",
       "       15, 13, 14, 15, 16, 14, 15, 16, 17])"
      ]
     },
     "execution_count": 173,
     "metadata": {},
     "output_type": "execute_result"
    }
   ],
   "source": [
    "functionCreatedArray.ravel()"
   ]
  },
  {
   "cell_type": "code",
   "execution_count": 174,
   "metadata": {},
   "outputs": [
    {
     "data": {
      "text/plain": [
       "(15, 4)"
      ]
     },
     "execution_count": 174,
     "metadata": {},
     "output_type": "execute_result"
    }
   ],
   "source": [
    "functionCreatedArray.shape"
   ]
  },
  {
   "cell_type": "code",
   "execution_count": 175,
   "metadata": {},
   "outputs": [],
   "source": [
    "reshapedArray=functionCreatedArray.reshape((15,4,1))"
   ]
  },
  {
   "cell_type": "code",
   "execution_count": 177,
   "metadata": {},
   "outputs": [
    {
     "data": {
      "text/plain": [
       "(15, 4, 1)"
      ]
     },
     "execution_count": 177,
     "metadata": {},
     "output_type": "execute_result"
    }
   ],
   "source": [
    "reshapedArray.shape"
   ]
  },
  {
   "cell_type": "code",
   "execution_count": 178,
   "metadata": {},
   "outputs": [
    {
     "data": {
      "text/plain": [
       "array([ 0,  1,  2,  3,  1,  2,  3,  4,  2,  3,  4,  5,  3,  4,  5,  6,  4,\n",
       "        5,  6,  7,  5,  6,  7,  8,  6,  7,  8,  9,  7,  8,  9, 10,  8,  9,\n",
       "       10, 11,  9, 10, 11, 12, 10, 11, 12, 13, 11, 12, 13, 14, 12, 13, 14,\n",
       "       15, 13, 14, 15, 16, 14, 15, 16, 17])"
      ]
     },
     "execution_count": 178,
     "metadata": {},
     "output_type": "execute_result"
    }
   ],
   "source": [
    "reshapedArray.ravel()"
   ]
  },
  {
   "cell_type": "markdown",
   "metadata": {},
   "source": [
    "## Reshape in new form"
   ]
  },
  {
   "cell_type": "code",
   "execution_count": 179,
   "metadata": {},
   "outputs": [],
   "source": [
    "newArr=np.arange(640)"
   ]
  },
  {
   "cell_type": "code",
   "execution_count": 180,
   "metadata": {},
   "outputs": [],
   "source": [
    "multiDimArr=newArr.reshape(40,4,4)"
   ]
  },
  {
   "cell_type": "code",
   "execution_count": 181,
   "metadata": {},
   "outputs": [
    {
     "data": {
      "text/plain": [
       "(640,)"
      ]
     },
     "execution_count": 181,
     "metadata": {},
     "output_type": "execute_result"
    }
   ],
   "source": [
    "newArr.shape"
   ]
  },
  {
   "cell_type": "code",
   "execution_count": 182,
   "metadata": {},
   "outputs": [
    {
     "data": {
      "text/plain": [
       "(40, 4, 4)"
      ]
     },
     "execution_count": 182,
     "metadata": {},
     "output_type": "execute_result"
    }
   ],
   "source": [
    "multiDimArr.shape"
   ]
  },
  {
   "cell_type": "code",
   "execution_count": null,
   "metadata": {},
   "outputs": [],
   "source": [
    "multiDimArr[0]"
   ]
  },
  {
   "cell_type": "markdown",
   "metadata": {},
   "source": [
    "#### make it as row vector by inserting an axis along first dimension"
   ]
  },
  {
   "cell_type": "code",
   "execution_count": 183,
   "metadata": {},
   "outputs": [
    {
     "data": {
      "text/plain": [
       "array([  0,   1,   2,   3,   4,   5,   6,   7,   8,   9,  10,  11,  12,\n",
       "        13,  14,  15,  16,  17,  18,  19,  20,  21,  22,  23,  24,  25,\n",
       "        26,  27,  28,  29,  30,  31,  32,  33,  34,  35,  36,  37,  38,\n",
       "        39,  40,  41,  42,  43,  44,  45,  46,  47,  48,  49,  50,  51,\n",
       "        52,  53,  54,  55,  56,  57,  58,  59,  60,  61,  62,  63,  64,\n",
       "        65,  66,  67,  68,  69,  70,  71,  72,  73,  74,  75,  76,  77,\n",
       "        78,  79,  80,  81,  82,  83,  84,  85,  86,  87,  88,  89,  90,\n",
       "        91,  92,  93,  94,  95,  96,  97,  98,  99, 100, 101, 102, 103,\n",
       "       104, 105, 106, 107, 108, 109, 110, 111, 112, 113, 114, 115, 116,\n",
       "       117, 118, 119, 120, 121, 122, 123, 124, 125, 126, 127, 128, 129,\n",
       "       130, 131, 132, 133, 134, 135, 136, 137, 138, 139, 140, 141, 142,\n",
       "       143, 144, 145, 146, 147, 148, 149, 150, 151, 152, 153, 154, 155,\n",
       "       156, 157, 158, 159, 160, 161, 162, 163, 164, 165, 166, 167, 168,\n",
       "       169, 170, 171, 172, 173, 174, 175, 176, 177, 178, 179, 180, 181,\n",
       "       182, 183, 184, 185, 186, 187, 188, 189, 190, 191, 192, 193, 194,\n",
       "       195, 196, 197, 198, 199, 200, 201, 202, 203, 204, 205, 206, 207,\n",
       "       208, 209, 210, 211, 212, 213, 214, 215, 216, 217, 218, 219, 220,\n",
       "       221, 222, 223, 224, 225, 226, 227, 228, 229, 230, 231, 232, 233,\n",
       "       234, 235, 236, 237, 238, 239, 240, 241, 242, 243, 244, 245, 246,\n",
       "       247, 248, 249, 250, 251, 252, 253, 254, 255, 256, 257, 258, 259,\n",
       "       260, 261, 262, 263, 264, 265, 266, 267, 268, 269, 270, 271, 272,\n",
       "       273, 274, 275, 276, 277, 278, 279, 280, 281, 282, 283, 284, 285,\n",
       "       286, 287, 288, 289, 290, 291, 292, 293, 294, 295, 296, 297, 298,\n",
       "       299, 300, 301, 302, 303, 304, 305, 306, 307, 308, 309, 310, 311,\n",
       "       312, 313, 314, 315, 316, 317, 318, 319, 320, 321, 322, 323, 324,\n",
       "       325, 326, 327, 328, 329, 330, 331, 332, 333, 334, 335, 336, 337,\n",
       "       338, 339, 340, 341, 342, 343, 344, 345, 346, 347, 348, 349, 350,\n",
       "       351, 352, 353, 354, 355, 356, 357, 358, 359, 360, 361, 362, 363,\n",
       "       364, 365, 366, 367, 368, 369, 370, 371, 372, 373, 374, 375, 376,\n",
       "       377, 378, 379, 380, 381, 382, 383, 384, 385, 386, 387, 388, 389,\n",
       "       390, 391, 392, 393, 394, 395, 396, 397, 398, 399, 400, 401, 402,\n",
       "       403, 404, 405, 406, 407, 408, 409, 410, 411, 412, 413, 414, 415,\n",
       "       416, 417, 418, 419, 420, 421, 422, 423, 424, 425, 426, 427, 428,\n",
       "       429, 430, 431, 432, 433, 434, 435, 436, 437, 438, 439, 440, 441,\n",
       "       442, 443, 444, 445, 446, 447, 448, 449, 450, 451, 452, 453, 454,\n",
       "       455, 456, 457, 458, 459, 460, 461, 462, 463, 464, 465, 466, 467,\n",
       "       468, 469, 470, 471, 472, 473, 474, 475, 476, 477, 478, 479, 480,\n",
       "       481, 482, 483, 484, 485, 486, 487, 488, 489, 490, 491, 492, 493,\n",
       "       494, 495, 496, 497, 498, 499, 500, 501, 502, 503, 504, 505, 506,\n",
       "       507, 508, 509, 510, 511, 512, 513, 514, 515, 516, 517, 518, 519,\n",
       "       520, 521, 522, 523, 524, 525, 526, 527, 528, 529, 530, 531, 532,\n",
       "       533, 534, 535, 536, 537, 538, 539, 540, 541, 542, 543, 544, 545,\n",
       "       546, 547, 548, 549, 550, 551, 552, 553, 554, 555, 556, 557, 558,\n",
       "       559, 560, 561, 562, 563, 564, 565, 566, 567, 568, 569, 570, 571,\n",
       "       572, 573, 574, 575, 576, 577, 578, 579, 580, 581, 582, 583, 584,\n",
       "       585, 586, 587, 588, 589, 590, 591, 592, 593, 594, 595, 596, 597,\n",
       "       598, 599, 600, 601, 602, 603, 604, 605, 606, 607, 608, 609, 610,\n",
       "       611, 612, 613, 614, 615, 616, 617, 618, 619, 620, 621, 622, 623,\n",
       "       624, 625, 626, 627, 628, 629, 630, 631, 632, 633, 634, 635, 636,\n",
       "       637, 638, 639])"
      ]
     },
     "execution_count": 183,
     "metadata": {},
     "output_type": "execute_result"
    }
   ],
   "source": [
    "newArr"
   ]
  },
  {
   "cell_type": "code",
   "execution_count": 184,
   "metadata": {
    "scrolled": true
   },
   "outputs": [
    {
     "data": {
      "text/plain": [
       "array([[  0,   1,   2,   3,   4,   5,   6,   7,   8,   9,  10,  11,  12,\n",
       "         13,  14,  15,  16,  17,  18,  19,  20,  21,  22,  23,  24,  25,\n",
       "         26,  27,  28,  29,  30,  31,  32,  33,  34,  35,  36,  37,  38,\n",
       "         39,  40,  41,  42,  43,  44,  45,  46,  47,  48,  49,  50,  51,\n",
       "         52,  53,  54,  55,  56,  57,  58,  59,  60,  61,  62,  63,  64,\n",
       "         65,  66,  67,  68,  69,  70,  71,  72,  73,  74,  75,  76,  77,\n",
       "         78,  79,  80,  81,  82,  83,  84,  85,  86,  87,  88,  89,  90,\n",
       "         91,  92,  93,  94,  95,  96,  97,  98,  99, 100, 101, 102, 103,\n",
       "        104, 105, 106, 107, 108, 109, 110, 111, 112, 113, 114, 115, 116,\n",
       "        117, 118, 119, 120, 121, 122, 123, 124, 125, 126, 127, 128, 129,\n",
       "        130, 131, 132, 133, 134, 135, 136, 137, 138, 139, 140, 141, 142,\n",
       "        143, 144, 145, 146, 147, 148, 149, 150, 151, 152, 153, 154, 155,\n",
       "        156, 157, 158, 159, 160, 161, 162, 163, 164, 165, 166, 167, 168,\n",
       "        169, 170, 171, 172, 173, 174, 175, 176, 177, 178, 179, 180, 181,\n",
       "        182, 183, 184, 185, 186, 187, 188, 189, 190, 191, 192, 193, 194,\n",
       "        195, 196, 197, 198, 199, 200, 201, 202, 203, 204, 205, 206, 207,\n",
       "        208, 209, 210, 211, 212, 213, 214, 215, 216, 217, 218, 219, 220,\n",
       "        221, 222, 223, 224, 225, 226, 227, 228, 229, 230, 231, 232, 233,\n",
       "        234, 235, 236, 237, 238, 239, 240, 241, 242, 243, 244, 245, 246,\n",
       "        247, 248, 249, 250, 251, 252, 253, 254, 255, 256, 257, 258, 259,\n",
       "        260, 261, 262, 263, 264, 265, 266, 267, 268, 269, 270, 271, 272,\n",
       "        273, 274, 275, 276, 277, 278, 279, 280, 281, 282, 283, 284, 285,\n",
       "        286, 287, 288, 289, 290, 291, 292, 293, 294, 295, 296, 297, 298,\n",
       "        299, 300, 301, 302, 303, 304, 305, 306, 307, 308, 309, 310, 311,\n",
       "        312, 313, 314, 315, 316, 317, 318, 319, 320, 321, 322, 323, 324,\n",
       "        325, 326, 327, 328, 329, 330, 331, 332, 333, 334, 335, 336, 337,\n",
       "        338, 339, 340, 341, 342, 343, 344, 345, 346, 347, 348, 349, 350,\n",
       "        351, 352, 353, 354, 355, 356, 357, 358, 359, 360, 361, 362, 363,\n",
       "        364, 365, 366, 367, 368, 369, 370, 371, 372, 373, 374, 375, 376,\n",
       "        377, 378, 379, 380, 381, 382, 383, 384, 385, 386, 387, 388, 389,\n",
       "        390, 391, 392, 393, 394, 395, 396, 397, 398, 399, 400, 401, 402,\n",
       "        403, 404, 405, 406, 407, 408, 409, 410, 411, 412, 413, 414, 415,\n",
       "        416, 417, 418, 419, 420, 421, 422, 423, 424, 425, 426, 427, 428,\n",
       "        429, 430, 431, 432, 433, 434, 435, 436, 437, 438, 439, 440, 441,\n",
       "        442, 443, 444, 445, 446, 447, 448, 449, 450, 451, 452, 453, 454,\n",
       "        455, 456, 457, 458, 459, 460, 461, 462, 463, 464, 465, 466, 467,\n",
       "        468, 469, 470, 471, 472, 473, 474, 475, 476, 477, 478, 479, 480,\n",
       "        481, 482, 483, 484, 485, 486, 487, 488, 489, 490, 491, 492, 493,\n",
       "        494, 495, 496, 497, 498, 499, 500, 501, 502, 503, 504, 505, 506,\n",
       "        507, 508, 509, 510, 511, 512, 513, 514, 515, 516, 517, 518, 519,\n",
       "        520, 521, 522, 523, 524, 525, 526, 527, 528, 529, 530, 531, 532,\n",
       "        533, 534, 535, 536, 537, 538, 539, 540, 541, 542, 543, 544, 545,\n",
       "        546, 547, 548, 549, 550, 551, 552, 553, 554, 555, 556, 557, 558,\n",
       "        559, 560, 561, 562, 563, 564, 565, 566, 567, 568, 569, 570, 571,\n",
       "        572, 573, 574, 575, 576, 577, 578, 579, 580, 581, 582, 583, 584,\n",
       "        585, 586, 587, 588, 589, 590, 591, 592, 593, 594, 595, 596, 597,\n",
       "        598, 599, 600, 601, 602, 603, 604, 605, 606, 607, 608, 609, 610,\n",
       "        611, 612, 613, 614, 615, 616, 617, 618, 619, 620, 621, 622, 623,\n",
       "        624, 625, 626, 627, 628, 629, 630, 631, 632, 633, 634, 635, 636,\n",
       "        637, 638, 639]])"
      ]
     },
     "execution_count": 184,
     "metadata": {},
     "output_type": "execute_result"
    }
   ],
   "source": [
    "newArr[np.newaxis,:]"
   ]
  },
  {
   "cell_type": "code",
   "execution_count": 185,
   "metadata": {},
   "outputs": [
    {
     "data": {
      "text/plain": [
       "(1, 640)"
      ]
     },
     "execution_count": 185,
     "metadata": {},
     "output_type": "execute_result"
    }
   ],
   "source": [
    "newArr[np.newaxis,:].shape"
   ]
  },
  {
   "cell_type": "code",
   "execution_count": 186,
   "metadata": {},
   "outputs": [
    {
     "data": {
      "text/plain": [
       "array([[  0],\n",
       "       [  1],\n",
       "       [  2],\n",
       "       [  3],\n",
       "       [  4],\n",
       "       [  5],\n",
       "       [  6],\n",
       "       [  7],\n",
       "       [  8],\n",
       "       [  9],\n",
       "       [ 10],\n",
       "       [ 11],\n",
       "       [ 12],\n",
       "       [ 13],\n",
       "       [ 14],\n",
       "       [ 15],\n",
       "       [ 16],\n",
       "       [ 17],\n",
       "       [ 18],\n",
       "       [ 19],\n",
       "       [ 20],\n",
       "       [ 21],\n",
       "       [ 22],\n",
       "       [ 23],\n",
       "       [ 24],\n",
       "       [ 25],\n",
       "       [ 26],\n",
       "       [ 27],\n",
       "       [ 28],\n",
       "       [ 29],\n",
       "       [ 30],\n",
       "       [ 31],\n",
       "       [ 32],\n",
       "       [ 33],\n",
       "       [ 34],\n",
       "       [ 35],\n",
       "       [ 36],\n",
       "       [ 37],\n",
       "       [ 38],\n",
       "       [ 39],\n",
       "       [ 40],\n",
       "       [ 41],\n",
       "       [ 42],\n",
       "       [ 43],\n",
       "       [ 44],\n",
       "       [ 45],\n",
       "       [ 46],\n",
       "       [ 47],\n",
       "       [ 48],\n",
       "       [ 49],\n",
       "       [ 50],\n",
       "       [ 51],\n",
       "       [ 52],\n",
       "       [ 53],\n",
       "       [ 54],\n",
       "       [ 55],\n",
       "       [ 56],\n",
       "       [ 57],\n",
       "       [ 58],\n",
       "       [ 59],\n",
       "       [ 60],\n",
       "       [ 61],\n",
       "       [ 62],\n",
       "       [ 63],\n",
       "       [ 64],\n",
       "       [ 65],\n",
       "       [ 66],\n",
       "       [ 67],\n",
       "       [ 68],\n",
       "       [ 69],\n",
       "       [ 70],\n",
       "       [ 71],\n",
       "       [ 72],\n",
       "       [ 73],\n",
       "       [ 74],\n",
       "       [ 75],\n",
       "       [ 76],\n",
       "       [ 77],\n",
       "       [ 78],\n",
       "       [ 79],\n",
       "       [ 80],\n",
       "       [ 81],\n",
       "       [ 82],\n",
       "       [ 83],\n",
       "       [ 84],\n",
       "       [ 85],\n",
       "       [ 86],\n",
       "       [ 87],\n",
       "       [ 88],\n",
       "       [ 89],\n",
       "       [ 90],\n",
       "       [ 91],\n",
       "       [ 92],\n",
       "       [ 93],\n",
       "       [ 94],\n",
       "       [ 95],\n",
       "       [ 96],\n",
       "       [ 97],\n",
       "       [ 98],\n",
       "       [ 99],\n",
       "       [100],\n",
       "       [101],\n",
       "       [102],\n",
       "       [103],\n",
       "       [104],\n",
       "       [105],\n",
       "       [106],\n",
       "       [107],\n",
       "       [108],\n",
       "       [109],\n",
       "       [110],\n",
       "       [111],\n",
       "       [112],\n",
       "       [113],\n",
       "       [114],\n",
       "       [115],\n",
       "       [116],\n",
       "       [117],\n",
       "       [118],\n",
       "       [119],\n",
       "       [120],\n",
       "       [121],\n",
       "       [122],\n",
       "       [123],\n",
       "       [124],\n",
       "       [125],\n",
       "       [126],\n",
       "       [127],\n",
       "       [128],\n",
       "       [129],\n",
       "       [130],\n",
       "       [131],\n",
       "       [132],\n",
       "       [133],\n",
       "       [134],\n",
       "       [135],\n",
       "       [136],\n",
       "       [137],\n",
       "       [138],\n",
       "       [139],\n",
       "       [140],\n",
       "       [141],\n",
       "       [142],\n",
       "       [143],\n",
       "       [144],\n",
       "       [145],\n",
       "       [146],\n",
       "       [147],\n",
       "       [148],\n",
       "       [149],\n",
       "       [150],\n",
       "       [151],\n",
       "       [152],\n",
       "       [153],\n",
       "       [154],\n",
       "       [155],\n",
       "       [156],\n",
       "       [157],\n",
       "       [158],\n",
       "       [159],\n",
       "       [160],\n",
       "       [161],\n",
       "       [162],\n",
       "       [163],\n",
       "       [164],\n",
       "       [165],\n",
       "       [166],\n",
       "       [167],\n",
       "       [168],\n",
       "       [169],\n",
       "       [170],\n",
       "       [171],\n",
       "       [172],\n",
       "       [173],\n",
       "       [174],\n",
       "       [175],\n",
       "       [176],\n",
       "       [177],\n",
       "       [178],\n",
       "       [179],\n",
       "       [180],\n",
       "       [181],\n",
       "       [182],\n",
       "       [183],\n",
       "       [184],\n",
       "       [185],\n",
       "       [186],\n",
       "       [187],\n",
       "       [188],\n",
       "       [189],\n",
       "       [190],\n",
       "       [191],\n",
       "       [192],\n",
       "       [193],\n",
       "       [194],\n",
       "       [195],\n",
       "       [196],\n",
       "       [197],\n",
       "       [198],\n",
       "       [199],\n",
       "       [200],\n",
       "       [201],\n",
       "       [202],\n",
       "       [203],\n",
       "       [204],\n",
       "       [205],\n",
       "       [206],\n",
       "       [207],\n",
       "       [208],\n",
       "       [209],\n",
       "       [210],\n",
       "       [211],\n",
       "       [212],\n",
       "       [213],\n",
       "       [214],\n",
       "       [215],\n",
       "       [216],\n",
       "       [217],\n",
       "       [218],\n",
       "       [219],\n",
       "       [220],\n",
       "       [221],\n",
       "       [222],\n",
       "       [223],\n",
       "       [224],\n",
       "       [225],\n",
       "       [226],\n",
       "       [227],\n",
       "       [228],\n",
       "       [229],\n",
       "       [230],\n",
       "       [231],\n",
       "       [232],\n",
       "       [233],\n",
       "       [234],\n",
       "       [235],\n",
       "       [236],\n",
       "       [237],\n",
       "       [238],\n",
       "       [239],\n",
       "       [240],\n",
       "       [241],\n",
       "       [242],\n",
       "       [243],\n",
       "       [244],\n",
       "       [245],\n",
       "       [246],\n",
       "       [247],\n",
       "       [248],\n",
       "       [249],\n",
       "       [250],\n",
       "       [251],\n",
       "       [252],\n",
       "       [253],\n",
       "       [254],\n",
       "       [255],\n",
       "       [256],\n",
       "       [257],\n",
       "       [258],\n",
       "       [259],\n",
       "       [260],\n",
       "       [261],\n",
       "       [262],\n",
       "       [263],\n",
       "       [264],\n",
       "       [265],\n",
       "       [266],\n",
       "       [267],\n",
       "       [268],\n",
       "       [269],\n",
       "       [270],\n",
       "       [271],\n",
       "       [272],\n",
       "       [273],\n",
       "       [274],\n",
       "       [275],\n",
       "       [276],\n",
       "       [277],\n",
       "       [278],\n",
       "       [279],\n",
       "       [280],\n",
       "       [281],\n",
       "       [282],\n",
       "       [283],\n",
       "       [284],\n",
       "       [285],\n",
       "       [286],\n",
       "       [287],\n",
       "       [288],\n",
       "       [289],\n",
       "       [290],\n",
       "       [291],\n",
       "       [292],\n",
       "       [293],\n",
       "       [294],\n",
       "       [295],\n",
       "       [296],\n",
       "       [297],\n",
       "       [298],\n",
       "       [299],\n",
       "       [300],\n",
       "       [301],\n",
       "       [302],\n",
       "       [303],\n",
       "       [304],\n",
       "       [305],\n",
       "       [306],\n",
       "       [307],\n",
       "       [308],\n",
       "       [309],\n",
       "       [310],\n",
       "       [311],\n",
       "       [312],\n",
       "       [313],\n",
       "       [314],\n",
       "       [315],\n",
       "       [316],\n",
       "       [317],\n",
       "       [318],\n",
       "       [319],\n",
       "       [320],\n",
       "       [321],\n",
       "       [322],\n",
       "       [323],\n",
       "       [324],\n",
       "       [325],\n",
       "       [326],\n",
       "       [327],\n",
       "       [328],\n",
       "       [329],\n",
       "       [330],\n",
       "       [331],\n",
       "       [332],\n",
       "       [333],\n",
       "       [334],\n",
       "       [335],\n",
       "       [336],\n",
       "       [337],\n",
       "       [338],\n",
       "       [339],\n",
       "       [340],\n",
       "       [341],\n",
       "       [342],\n",
       "       [343],\n",
       "       [344],\n",
       "       [345],\n",
       "       [346],\n",
       "       [347],\n",
       "       [348],\n",
       "       [349],\n",
       "       [350],\n",
       "       [351],\n",
       "       [352],\n",
       "       [353],\n",
       "       [354],\n",
       "       [355],\n",
       "       [356],\n",
       "       [357],\n",
       "       [358],\n",
       "       [359],\n",
       "       [360],\n",
       "       [361],\n",
       "       [362],\n",
       "       [363],\n",
       "       [364],\n",
       "       [365],\n",
       "       [366],\n",
       "       [367],\n",
       "       [368],\n",
       "       [369],\n",
       "       [370],\n",
       "       [371],\n",
       "       [372],\n",
       "       [373],\n",
       "       [374],\n",
       "       [375],\n",
       "       [376],\n",
       "       [377],\n",
       "       [378],\n",
       "       [379],\n",
       "       [380],\n",
       "       [381],\n",
       "       [382],\n",
       "       [383],\n",
       "       [384],\n",
       "       [385],\n",
       "       [386],\n",
       "       [387],\n",
       "       [388],\n",
       "       [389],\n",
       "       [390],\n",
       "       [391],\n",
       "       [392],\n",
       "       [393],\n",
       "       [394],\n",
       "       [395],\n",
       "       [396],\n",
       "       [397],\n",
       "       [398],\n",
       "       [399],\n",
       "       [400],\n",
       "       [401],\n",
       "       [402],\n",
       "       [403],\n",
       "       [404],\n",
       "       [405],\n",
       "       [406],\n",
       "       [407],\n",
       "       [408],\n",
       "       [409],\n",
       "       [410],\n",
       "       [411],\n",
       "       [412],\n",
       "       [413],\n",
       "       [414],\n",
       "       [415],\n",
       "       [416],\n",
       "       [417],\n",
       "       [418],\n",
       "       [419],\n",
       "       [420],\n",
       "       [421],\n",
       "       [422],\n",
       "       [423],\n",
       "       [424],\n",
       "       [425],\n",
       "       [426],\n",
       "       [427],\n",
       "       [428],\n",
       "       [429],\n",
       "       [430],\n",
       "       [431],\n",
       "       [432],\n",
       "       [433],\n",
       "       [434],\n",
       "       [435],\n",
       "       [436],\n",
       "       [437],\n",
       "       [438],\n",
       "       [439],\n",
       "       [440],\n",
       "       [441],\n",
       "       [442],\n",
       "       [443],\n",
       "       [444],\n",
       "       [445],\n",
       "       [446],\n",
       "       [447],\n",
       "       [448],\n",
       "       [449],\n",
       "       [450],\n",
       "       [451],\n",
       "       [452],\n",
       "       [453],\n",
       "       [454],\n",
       "       [455],\n",
       "       [456],\n",
       "       [457],\n",
       "       [458],\n",
       "       [459],\n",
       "       [460],\n",
       "       [461],\n",
       "       [462],\n",
       "       [463],\n",
       "       [464],\n",
       "       [465],\n",
       "       [466],\n",
       "       [467],\n",
       "       [468],\n",
       "       [469],\n",
       "       [470],\n",
       "       [471],\n",
       "       [472],\n",
       "       [473],\n",
       "       [474],\n",
       "       [475],\n",
       "       [476],\n",
       "       [477],\n",
       "       [478],\n",
       "       [479],\n",
       "       [480],\n",
       "       [481],\n",
       "       [482],\n",
       "       [483],\n",
       "       [484],\n",
       "       [485],\n",
       "       [486],\n",
       "       [487],\n",
       "       [488],\n",
       "       [489],\n",
       "       [490],\n",
       "       [491],\n",
       "       [492],\n",
       "       [493],\n",
       "       [494],\n",
       "       [495],\n",
       "       [496],\n",
       "       [497],\n",
       "       [498],\n",
       "       [499],\n",
       "       [500],\n",
       "       [501],\n",
       "       [502],\n",
       "       [503],\n",
       "       [504],\n",
       "       [505],\n",
       "       [506],\n",
       "       [507],\n",
       "       [508],\n",
       "       [509],\n",
       "       [510],\n",
       "       [511],\n",
       "       [512],\n",
       "       [513],\n",
       "       [514],\n",
       "       [515],\n",
       "       [516],\n",
       "       [517],\n",
       "       [518],\n",
       "       [519],\n",
       "       [520],\n",
       "       [521],\n",
       "       [522],\n",
       "       [523],\n",
       "       [524],\n",
       "       [525],\n",
       "       [526],\n",
       "       [527],\n",
       "       [528],\n",
       "       [529],\n",
       "       [530],\n",
       "       [531],\n",
       "       [532],\n",
       "       [533],\n",
       "       [534],\n",
       "       [535],\n",
       "       [536],\n",
       "       [537],\n",
       "       [538],\n",
       "       [539],\n",
       "       [540],\n",
       "       [541],\n",
       "       [542],\n",
       "       [543],\n",
       "       [544],\n",
       "       [545],\n",
       "       [546],\n",
       "       [547],\n",
       "       [548],\n",
       "       [549],\n",
       "       [550],\n",
       "       [551],\n",
       "       [552],\n",
       "       [553],\n",
       "       [554],\n",
       "       [555],\n",
       "       [556],\n",
       "       [557],\n",
       "       [558],\n",
       "       [559],\n",
       "       [560],\n",
       "       [561],\n",
       "       [562],\n",
       "       [563],\n",
       "       [564],\n",
       "       [565],\n",
       "       [566],\n",
       "       [567],\n",
       "       [568],\n",
       "       [569],\n",
       "       [570],\n",
       "       [571],\n",
       "       [572],\n",
       "       [573],\n",
       "       [574],\n",
       "       [575],\n",
       "       [576],\n",
       "       [577],\n",
       "       [578],\n",
       "       [579],\n",
       "       [580],\n",
       "       [581],\n",
       "       [582],\n",
       "       [583],\n",
       "       [584],\n",
       "       [585],\n",
       "       [586],\n",
       "       [587],\n",
       "       [588],\n",
       "       [589],\n",
       "       [590],\n",
       "       [591],\n",
       "       [592],\n",
       "       [593],\n",
       "       [594],\n",
       "       [595],\n",
       "       [596],\n",
       "       [597],\n",
       "       [598],\n",
       "       [599],\n",
       "       [600],\n",
       "       [601],\n",
       "       [602],\n",
       "       [603],\n",
       "       [604],\n",
       "       [605],\n",
       "       [606],\n",
       "       [607],\n",
       "       [608],\n",
       "       [609],\n",
       "       [610],\n",
       "       [611],\n",
       "       [612],\n",
       "       [613],\n",
       "       [614],\n",
       "       [615],\n",
       "       [616],\n",
       "       [617],\n",
       "       [618],\n",
       "       [619],\n",
       "       [620],\n",
       "       [621],\n",
       "       [622],\n",
       "       [623],\n",
       "       [624],\n",
       "       [625],\n",
       "       [626],\n",
       "       [627],\n",
       "       [628],\n",
       "       [629],\n",
       "       [630],\n",
       "       [631],\n",
       "       [632],\n",
       "       [633],\n",
       "       [634],\n",
       "       [635],\n",
       "       [636],\n",
       "       [637],\n",
       "       [638],\n",
       "       [639]])"
      ]
     },
     "execution_count": 186,
     "metadata": {},
     "output_type": "execute_result"
    }
   ],
   "source": [
    "newArr[:,np.newaxis]"
   ]
  },
  {
   "cell_type": "code",
   "execution_count": 187,
   "metadata": {},
   "outputs": [
    {
     "data": {
      "text/plain": [
       "(640, 1)"
      ]
     },
     "execution_count": 187,
     "metadata": {},
     "output_type": "execute_result"
    }
   ],
   "source": [
    "newArr[:,np.newaxis].shape"
   ]
  },
  {
   "cell_type": "markdown",
   "metadata": {},
   "source": [
    "Np.newaxis uses the slicing operator to recreate the array, while np.reshape reshapes the array to the desired layout (assuming that the dimensions match, this is must for a reshape to happen).\n",
    "\n",
    "Np.newaxis just add another dimension where it has been specified, but reshape changes the entire data in valid computation and rearrangement."
   ]
  },
  {
   "cell_type": "markdown",
   "metadata": {},
   "source": [
    "## Numpy Where"
   ]
  },
  {
   "cell_type": "code",
   "execution_count": 188,
   "metadata": {},
   "outputs": [],
   "source": [
    "cExampleData=np.arange(100,500,50)"
   ]
  },
  {
   "cell_type": "code",
   "execution_count": 189,
   "metadata": {},
   "outputs": [
    {
     "data": {
      "text/plain": [
       "array([100, 150, 200, 250, 300, 350, 400, 450])"
      ]
     },
     "execution_count": 189,
     "metadata": {},
     "output_type": "execute_result"
    }
   ],
   "source": [
    "cExampleData"
   ]
  },
  {
   "cell_type": "code",
   "execution_count": 190,
   "metadata": {},
   "outputs": [
    {
     "data": {
      "text/plain": [
       "(array([0, 1, 2, 3], dtype=int64),)"
      ]
     },
     "execution_count": 190,
     "metadata": {},
     "output_type": "execute_result"
    }
   ],
   "source": [
    "np.where(cExampleData <300)"
   ]
  },
  {
   "cell_type": "code",
   "execution_count": 191,
   "metadata": {},
   "outputs": [
    {
     "data": {
      "text/plain": [
       "array([100, 150, 200, 250])"
      ]
     },
     "execution_count": 191,
     "metadata": {},
     "output_type": "execute_result"
    }
   ],
   "source": [
    "cExampleData[np.where(cExampleData <300)]"
   ]
  },
  {
   "cell_type": "markdown",
   "metadata": {},
   "source": [
    "## Dense layer calculation using numpy"
   ]
  },
  {
   "cell_type": "code",
   "execution_count": 192,
   "metadata": {},
   "outputs": [],
   "source": [
    "import numpy as np"
   ]
  },
  {
   "cell_type": "code",
   "execution_count": 193,
   "metadata": {},
   "outputs": [],
   "source": [
    "inputLayer=np.random.random(20)"
   ]
  },
  {
   "cell_type": "code",
   "execution_count": 194,
   "metadata": {},
   "outputs": [
    {
     "data": {
      "text/plain": [
       "array([0.78229819, 0.41882911, 0.14823117, 0.58730289, 0.64734792,\n",
       "       0.68039767, 0.92582305, 0.01789098, 0.14918419, 0.03827061,\n",
       "       0.84756232, 0.08741965, 0.41770567, 0.88405216, 0.65808049,\n",
       "       0.88296135, 0.09907694, 0.1167629 , 0.68329897, 0.87594509])"
      ]
     },
     "execution_count": 194,
     "metadata": {},
     "output_type": "execute_result"
    }
   ],
   "source": [
    "inputLayer"
   ]
  },
  {
   "cell_type": "code",
   "execution_count": 195,
   "metadata": {},
   "outputs": [],
   "source": [
    "hiddenLayer=np.random.randn(500,20)"
   ]
  },
  {
   "cell_type": "code",
   "execution_count": 196,
   "metadata": {},
   "outputs": [],
   "source": [
    "biasLayer=np.random.random(500)"
   ]
  },
  {
   "cell_type": "code",
   "execution_count": 197,
   "metadata": {},
   "outputs": [
    {
     "data": {
      "text/plain": [
       "((20,), (500, 20), (500,))"
      ]
     },
     "execution_count": 197,
     "metadata": {},
     "output_type": "execute_result"
    }
   ],
   "source": [
    "inputLayer.shape, hiddenLayer.shape,biasLayer.shape"
   ]
  },
  {
   "cell_type": "code",
   "execution_count": 198,
   "metadata": {},
   "outputs": [],
   "source": [
    "outputL=np.dot(hiddenLayer,inputLayer)+biasLayer"
   ]
  },
  {
   "cell_type": "code",
   "execution_count": 200,
   "metadata": {},
   "outputs": [
    {
     "data": {
      "text/plain": [
       "(500,)"
      ]
     },
     "execution_count": 200,
     "metadata": {},
     "output_type": "execute_result"
    }
   ],
   "source": [
    "outputL.shape"
   ]
  },
  {
   "cell_type": "code",
   "execution_count": 201,
   "metadata": {
    "scrolled": true
   },
   "outputs": [
    {
     "data": {
      "text/plain": [
       "array([0.00000000e+00, 4.09293249e+00, 0.00000000e+00, 0.00000000e+00,\n",
       "       4.81268902e+00, 2.76360385e+00, 0.00000000e+00, 2.72644382e+00,\n",
       "       0.00000000e+00, 0.00000000e+00, 0.00000000e+00, 1.65591123e+00,\n",
       "       0.00000000e+00, 2.00583890e+00, 0.00000000e+00, 0.00000000e+00,\n",
       "       1.29607326e+00, 0.00000000e+00, 0.00000000e+00, 2.45720653e+00,\n",
       "       4.40431500e+00, 0.00000000e+00, 2.80632553e+00, 0.00000000e+00,\n",
       "       0.00000000e+00, 3.54960351e+00, 6.57224915e+00, 4.85467633e-03,\n",
       "       0.00000000e+00, 2.57976916e+00, 7.03988148e+00, 3.01541599e+00,\n",
       "       0.00000000e+00, 0.00000000e+00, 0.00000000e+00, 0.00000000e+00,\n",
       "       6.50900448e-01, 0.00000000e+00, 1.15352058e+00, 2.74336706e+00,\n",
       "       3.80829779e+00, 6.53158701e+00, 0.00000000e+00, 0.00000000e+00,\n",
       "       0.00000000e+00, 1.71125197e+00, 0.00000000e+00, 7.51761770e-01,\n",
       "       0.00000000e+00, 2.32432261e+00, 3.66854252e+00, 3.81600965e-01,\n",
       "       7.99193511e+00, 0.00000000e+00, 0.00000000e+00, 0.00000000e+00,\n",
       "       3.43226831e+00, 4.43401666e-01, 2.36456545e+00, 2.58377241e+00,\n",
       "       0.00000000e+00, 8.30470318e-01, 5.50272220e-01, 0.00000000e+00,\n",
       "       8.53213050e-01, 1.24041124e+00, 5.45973414e-01, 2.29574230e+00,\n",
       "       0.00000000e+00, 0.00000000e+00, 0.00000000e+00, 0.00000000e+00,\n",
       "       0.00000000e+00, 4.62370867e-01, 1.62444478e+00, 1.48221665e+00,\n",
       "       3.46746838e+00, 1.65053184e+00, 0.00000000e+00, 0.00000000e+00,\n",
       "       0.00000000e+00, 0.00000000e+00, 1.89934585e+00, 5.25380584e-01,\n",
       "       0.00000000e+00, 0.00000000e+00, 2.70237360e+00, 2.12090244e-01,\n",
       "       5.01530563e+00, 0.00000000e+00, 5.07902020e+00, 0.00000000e+00,\n",
       "       0.00000000e+00, 9.56243617e-01, 0.00000000e+00, 0.00000000e+00,\n",
       "       2.11800180e+00, 2.60624162e+00, 0.00000000e+00, 1.14975714e-01,\n",
       "       2.71707903e+00, 0.00000000e+00, 2.45140631e+00, 0.00000000e+00,\n",
       "       3.76909595e+00, 2.03174601e+00, 0.00000000e+00, 3.34932211e+00,\n",
       "       0.00000000e+00, 0.00000000e+00, 0.00000000e+00, 3.41721263e-01,\n",
       "       7.56490867e-01, 0.00000000e+00, 0.00000000e+00, 0.00000000e+00,\n",
       "       3.13655862e+00, 0.00000000e+00, 9.90544948e-01, 5.86930066e-01,\n",
       "       0.00000000e+00, 8.39767773e-01, 4.17446327e-01, 0.00000000e+00,\n",
       "       2.37440477e+00, 2.40033857e+00, 4.91041197e+00, 3.81559225e+00,\n",
       "       0.00000000e+00, 1.92348386e+00, 9.01272736e-01, 0.00000000e+00,\n",
       "       2.96219486e+00, 1.70945742e+00, 1.47953580e+00, 0.00000000e+00,\n",
       "       1.84371788e+00, 0.00000000e+00, 0.00000000e+00, 1.92127198e+00,\n",
       "       0.00000000e+00, 0.00000000e+00, 2.45096516e+00, 2.92100866e+00,\n",
       "       1.92961561e+00, 0.00000000e+00, 1.22531500e+00, 0.00000000e+00,\n",
       "       0.00000000e+00, 8.10007516e-01, 7.38984463e+00, 5.34416063e-01,\n",
       "       1.75166462e+00, 1.92941847e+00, 5.00101643e-01, 0.00000000e+00,\n",
       "       0.00000000e+00, 1.19887664e+00, 2.57465316e+00, 1.35158379e+00,\n",
       "       0.00000000e+00, 0.00000000e+00, 3.28193522e+00, 0.00000000e+00,\n",
       "       0.00000000e+00, 2.26756511e+00, 0.00000000e+00, 3.76428904e+00,\n",
       "       0.00000000e+00, 1.26202147e+00, 2.00183601e+00, 0.00000000e+00,\n",
       "       1.87937288e+00, 1.51680444e+00, 0.00000000e+00, 2.91775129e+00,\n",
       "       5.54250001e+00, 2.33520257e+00, 3.09723360e-01, 1.62463492e+00,\n",
       "       1.70769278e+00, 8.08820105e-01, 3.50961022e+00, 7.27035512e+00,\n",
       "       1.58698602e+00, 0.00000000e+00, 4.70202854e+00, 9.94014857e-01,\n",
       "       3.57067417e+00, 1.62803998e+00, 0.00000000e+00, 2.08819995e+00,\n",
       "       4.20013600e+00, 7.22703750e-01, 2.95314580e+00, 3.60872305e+00,\n",
       "       1.28650530e+00, 2.19146635e+00, 0.00000000e+00, 1.45403516e+00,\n",
       "       0.00000000e+00, 0.00000000e+00, 3.67124579e+00, 1.75421768e+00,\n",
       "       2.73001688e+00, 7.93165945e-01, 0.00000000e+00, 3.84974092e+00,\n",
       "       2.13028713e+00, 3.50880550e+00, 2.34149198e+00, 4.02960771e+00,\n",
       "       1.08022384e+00, 2.06806926e+00, 0.00000000e+00, 3.40057738e+00,\n",
       "       0.00000000e+00, 2.12801839e+00, 2.65457403e+00, 0.00000000e+00,\n",
       "       0.00000000e+00, 0.00000000e+00, 2.34629096e+00, 0.00000000e+00,\n",
       "       4.59291197e+00, 0.00000000e+00, 4.56824924e+00, 7.27994869e+00,\n",
       "       1.13281214e+00, 0.00000000e+00, 0.00000000e+00, 1.87308884e+00,\n",
       "       0.00000000e+00, 1.40728172e+00, 8.94172879e-01, 0.00000000e+00,\n",
       "       6.32417755e-01, 0.00000000e+00, 4.55219877e+00, 0.00000000e+00,\n",
       "       1.73511847e+00, 3.51134681e+00, 4.05264160e+00, 0.00000000e+00,\n",
       "       0.00000000e+00, 1.92279022e+00, 1.05061386e+00, 2.38806669e-01,\n",
       "       0.00000000e+00, 7.82702247e-01, 0.00000000e+00, 0.00000000e+00,\n",
       "       1.48264698e+00, 0.00000000e+00, 0.00000000e+00, 5.09361340e+00,\n",
       "       3.21636435e+00, 1.02837559e+00, 0.00000000e+00, 0.00000000e+00,\n",
       "       3.46007761e+00, 4.61179527e+00, 4.63810965e+00, 0.00000000e+00,\n",
       "       0.00000000e+00, 7.44776645e-01, 0.00000000e+00, 0.00000000e+00,\n",
       "       6.23022164e+00, 1.33765329e+00, 2.82257469e+00, 5.95796759e+00,\n",
       "       2.88192599e+00, 0.00000000e+00, 0.00000000e+00, 5.69123853e+00,\n",
       "       4.34516129e-01, 3.13581701e+00, 1.56909836e+00, 3.24077719e+00,\n",
       "       4.06127683e-01, 0.00000000e+00, 8.44090162e-02, 0.00000000e+00,\n",
       "       2.43161417e+00, 5.04117359e+00, 9.45388143e-01, 3.05651302e+00,\n",
       "       0.00000000e+00, 3.33734774e+00, 0.00000000e+00, 2.35329193e+00,\n",
       "       0.00000000e+00, 4.06371423e+00, 2.45187412e+00, 2.40254559e+00,\n",
       "       6.13008919e+00, 0.00000000e+00, 4.61754928e+00, 0.00000000e+00,\n",
       "       0.00000000e+00, 0.00000000e+00, 1.28816173e+00, 7.27822492e-01,\n",
       "       0.00000000e+00, 0.00000000e+00, 2.60777517e+00, 5.01473689e+00,\n",
       "       6.03325913e-02, 3.05511872e+00, 0.00000000e+00, 1.76660629e+00,\n",
       "       0.00000000e+00, 5.45341415e+00, 0.00000000e+00, 0.00000000e+00,\n",
       "       1.92406306e+00, 1.80409344e+00, 5.55682378e+00, 0.00000000e+00,\n",
       "       5.80284450e-01, 3.17138907e+00, 6.68543818e+00, 6.62403662e-01,\n",
       "       2.97952506e-01, 0.00000000e+00, 0.00000000e+00, 3.90422175e+00,\n",
       "       7.58334647e-01, 0.00000000e+00, 0.00000000e+00, 3.70633003e+00,\n",
       "       1.32817179e+00, 1.45163957e+00, 3.10374224e+00, 2.41394889e+00,\n",
       "       0.00000000e+00, 0.00000000e+00, 0.00000000e+00, 2.39025002e+00,\n",
       "       6.47025044e-01, 1.83299666e+00, 9.55399059e-01, 4.90403826e+00,\n",
       "       0.00000000e+00, 0.00000000e+00, 1.75840639e+00, 8.78317534e-01,\n",
       "       0.00000000e+00, 0.00000000e+00, 0.00000000e+00, 4.81268916e+00,\n",
       "       0.00000000e+00, 8.62576661e-01, 4.47460472e+00, 0.00000000e+00,\n",
       "       0.00000000e+00, 5.52094310e+00, 0.00000000e+00, 0.00000000e+00,\n",
       "       0.00000000e+00, 7.41140524e-01, 2.19990241e+00, 0.00000000e+00,\n",
       "       1.41610929e+00, 0.00000000e+00, 3.18357750e+00, 4.27854961e-01,\n",
       "       0.00000000e+00, 0.00000000e+00, 3.85905372e-01, 6.18427532e-01,\n",
       "       4.74473160e+00, 0.00000000e+00, 0.00000000e+00, 2.99261777e+00,\n",
       "       2.58077673e+00, 0.00000000e+00, 2.63786929e+00, 1.94009500e+00,\n",
       "       1.30013813e+00, 2.18805759e+00, 0.00000000e+00, 0.00000000e+00,\n",
       "       0.00000000e+00, 0.00000000e+00, 0.00000000e+00, 2.99765842e-01,\n",
       "       0.00000000e+00, 0.00000000e+00, 0.00000000e+00, 9.19573667e-01,\n",
       "       1.96737071e+00, 0.00000000e+00, 0.00000000e+00, 2.70521320e+00,\n",
       "       0.00000000e+00, 1.97864841e+00, 1.14362237e+00, 5.93104694e-01,\n",
       "       2.78555778e+00, 1.92029791e+00, 2.21295719e+00, 2.07133279e+00,\n",
       "       3.00675880e+00, 0.00000000e+00, 1.62717007e-01, 8.14687402e-01,\n",
       "       1.25875154e+00, 2.89431322e+00, 0.00000000e+00, 3.57261478e+00,\n",
       "       6.55772859e-02, 0.00000000e+00, 7.57472797e-01, 0.00000000e+00,\n",
       "       3.84298717e+00, 3.85797883e+00, 5.65150137e+00, 1.84996342e+00,\n",
       "       1.27442031e+00, 4.76563567e-01, 0.00000000e+00, 0.00000000e+00,\n",
       "       0.00000000e+00, 5.00289207e+00, 1.99605657e-01, 0.00000000e+00,\n",
       "       1.64373547e+00, 1.61302686e+00, 2.93061655e+00, 0.00000000e+00,\n",
       "       2.74431137e+00, 0.00000000e+00, 3.35880448e+00, 2.02673601e+00,\n",
       "       0.00000000e+00, 1.26829111e+00, 0.00000000e+00, 3.02879770e+00,\n",
       "       3.86332724e-02, 0.00000000e+00, 5.70198888e+00, 5.37174116e+00,\n",
       "       2.42499400e+00, 0.00000000e+00, 9.86172373e-01, 3.28375171e-01,\n",
       "       0.00000000e+00, 0.00000000e+00, 0.00000000e+00, 0.00000000e+00,\n",
       "       0.00000000e+00, 1.59577932e+00, 0.00000000e+00, 0.00000000e+00,\n",
       "       0.00000000e+00, 0.00000000e+00, 3.26508063e-01, 5.62298652e-01,\n",
       "       0.00000000e+00, 0.00000000e+00, 4.27188082e+00, 3.71638928e+00,\n",
       "       0.00000000e+00, 0.00000000e+00, 8.72637868e-01, 5.04341646e+00,\n",
       "       0.00000000e+00, 1.48812458e+00, 1.90468562e+00, 3.77260806e+00,\n",
       "       0.00000000e+00, 0.00000000e+00, 6.60177095e-01, 0.00000000e+00,\n",
       "       1.15619025e+00, 1.45748621e+00, 7.41137922e-01, 2.08201303e+00,\n",
       "       3.74382907e+00, 0.00000000e+00, 7.79295176e-01, 1.65339946e+00,\n",
       "       1.44492050e+00, 0.00000000e+00, 0.00000000e+00, 9.33295577e-01,\n",
       "       5.19198789e+00, 3.96748267e+00, 2.48096718e+00, 0.00000000e+00,\n",
       "       0.00000000e+00, 1.18419306e+00, 0.00000000e+00, 8.82170098e-01,\n",
       "       2.00877025e+00, 2.28814451e+00, 3.72840226e+00, 0.00000000e+00])"
      ]
     },
     "execution_count": 201,
     "metadata": {},
     "output_type": "execute_result"
    }
   ],
   "source": [
    "np.maximum(0,outputL)"
   ]
  },
  {
   "cell_type": "markdown",
   "metadata": {},
   "source": [
    "## Convolution layer using Numpy"
   ]
  },
  {
   "cell_type": "code",
   "execution_count": 203,
   "metadata": {},
   "outputs": [
    {
     "data": {
      "text/plain": [
       "675"
      ]
     },
     "execution_count": 203,
     "metadata": {},
     "output_type": "execute_result"
    }
   ],
   "source": [
    "15*15*3"
   ]
  },
  {
   "cell_type": "code",
   "execution_count": 204,
   "metadata": {},
   "outputs": [],
   "source": [
    "imageData=np.random.rand(225).reshape(15,15)"
   ]
  },
  {
   "cell_type": "code",
   "execution_count": 206,
   "metadata": {},
   "outputs": [
    {
     "data": {
      "text/plain": [
       "(15, 15)"
      ]
     },
     "execution_count": 206,
     "metadata": {},
     "output_type": "execute_result"
    }
   ],
   "source": [
    "imageData.shape"
   ]
  },
  {
   "cell_type": "code",
   "execution_count": 207,
   "metadata": {},
   "outputs": [
    {
     "data": {
      "text/plain": [
       "array([[0.58070931, 0.04129778, 0.22491425],\n",
       "       [0.44145991, 0.60076949, 0.8138688 ],\n",
       "       [0.37609149, 0.29936256, 0.43903443]])"
      ]
     },
     "execution_count": 207,
     "metadata": {},
     "output_type": "execute_result"
    }
   ],
   "source": [
    "imageData[0:3,1:4]"
   ]
  },
  {
   "cell_type": "code",
   "execution_count": null,
   "metadata": {},
   "outputs": [],
   "source": [
    "imageData[:5,:5]"
   ]
  },
  {
   "cell_type": "code",
   "execution_count": 208,
   "metadata": {},
   "outputs": [],
   "source": [
    "filterSize=np.array([[1,0,0],[0,1,0],[0,0,1]])"
   ]
  },
  {
   "cell_type": "code",
   "execution_count": 209,
   "metadata": {},
   "outputs": [
    {
     "data": {
      "text/plain": [
       "(3, 3)"
      ]
     },
     "execution_count": 209,
     "metadata": {},
     "output_type": "execute_result"
    }
   ],
   "source": [
    "filterSize.shape"
   ]
  },
  {
   "cell_type": "code",
   "execution_count": 212,
   "metadata": {},
   "outputs": [
    {
     "name": "stdout",
     "output_type": "stream",
     "text": [
      "0 row  (0, 3) (0, 3)\n",
      "0 row  (0, 3) (1, 4)\n",
      "0 row  (0, 3) (2, 5)\n",
      "0 row  (0, 3) (3, 6)\n",
      "0 row  (0, 3) (4, 7)\n",
      "0 row  (0, 3) (5, 8)\n",
      "0 row  (0, 3) (6, 9)\n",
      "0 row  (0, 3) (7, 10)\n",
      "0 row  (0, 3) (8, 11)\n",
      "0 row  (0, 3) (9, 12)\n",
      "0 row  (0, 3) (10, 13)\n",
      "0 row  (0, 3) (11, 14)\n",
      "0 row  (0, 3) (12, 15)\n",
      "1 row  (1, 4) (0, 3)\n",
      "1 row  (1, 4) (1, 4)\n",
      "1 row  (1, 4) (2, 5)\n",
      "1 row  (1, 4) (3, 6)\n",
      "1 row  (1, 4) (4, 7)\n",
      "1 row  (1, 4) (5, 8)\n",
      "1 row  (1, 4) (6, 9)\n",
      "1 row  (1, 4) (7, 10)\n",
      "1 row  (1, 4) (8, 11)\n",
      "1 row  (1, 4) (9, 12)\n",
      "1 row  (1, 4) (10, 13)\n",
      "1 row  (1, 4) (11, 14)\n",
      "1 row  (1, 4) (12, 15)\n",
      "2 row  (2, 5) (0, 3)\n",
      "2 row  (2, 5) (1, 4)\n",
      "2 row  (2, 5) (2, 5)\n",
      "2 row  (2, 5) (3, 6)\n",
      "2 row  (2, 5) (4, 7)\n",
      "2 row  (2, 5) (5, 8)\n",
      "2 row  (2, 5) (6, 9)\n",
      "2 row  (2, 5) (7, 10)\n",
      "2 row  (2, 5) (8, 11)\n",
      "2 row  (2, 5) (9, 12)\n",
      "2 row  (2, 5) (10, 13)\n",
      "2 row  (2, 5) (11, 14)\n",
      "2 row  (2, 5) (12, 15)\n",
      "3 row  (3, 6) (0, 3)\n",
      "3 row  (3, 6) (1, 4)\n",
      "3 row  (3, 6) (2, 5)\n",
      "3 row  (3, 6) (3, 6)\n",
      "3 row  (3, 6) (4, 7)\n",
      "3 row  (3, 6) (5, 8)\n",
      "3 row  (3, 6) (6, 9)\n",
      "3 row  (3, 6) (7, 10)\n",
      "3 row  (3, 6) (8, 11)\n",
      "3 row  (3, 6) (9, 12)\n",
      "3 row  (3, 6) (10, 13)\n",
      "3 row  (3, 6) (11, 14)\n",
      "3 row  (3, 6) (12, 15)\n",
      "4 row  (4, 7) (0, 3)\n",
      "4 row  (4, 7) (1, 4)\n",
      "4 row  (4, 7) (2, 5)\n",
      "4 row  (4, 7) (3, 6)\n",
      "4 row  (4, 7) (4, 7)\n",
      "4 row  (4, 7) (5, 8)\n",
      "4 row  (4, 7) (6, 9)\n",
      "4 row  (4, 7) (7, 10)\n",
      "4 row  (4, 7) (8, 11)\n",
      "4 row  (4, 7) (9, 12)\n",
      "4 row  (4, 7) (10, 13)\n",
      "4 row  (4, 7) (11, 14)\n",
      "4 row  (4, 7) (12, 15)\n",
      "5 row  (5, 8) (0, 3)\n",
      "5 row  (5, 8) (1, 4)\n",
      "5 row  (5, 8) (2, 5)\n",
      "5 row  (5, 8) (3, 6)\n",
      "5 row  (5, 8) (4, 7)\n",
      "5 row  (5, 8) (5, 8)\n",
      "5 row  (5, 8) (6, 9)\n",
      "5 row  (5, 8) (7, 10)\n",
      "5 row  (5, 8) (8, 11)\n",
      "5 row  (5, 8) (9, 12)\n",
      "5 row  (5, 8) (10, 13)\n",
      "5 row  (5, 8) (11, 14)\n",
      "5 row  (5, 8) (12, 15)\n",
      "6 row  (6, 9) (0, 3)\n",
      "6 row  (6, 9) (1, 4)\n",
      "6 row  (6, 9) (2, 5)\n",
      "6 row  (6, 9) (3, 6)\n",
      "6 row  (6, 9) (4, 7)\n",
      "6 row  (6, 9) (5, 8)\n",
      "6 row  (6, 9) (6, 9)\n",
      "6 row  (6, 9) (7, 10)\n",
      "6 row  (6, 9) (8, 11)\n",
      "6 row  (6, 9) (9, 12)\n",
      "6 row  (6, 9) (10, 13)\n",
      "6 row  (6, 9) (11, 14)\n",
      "6 row  (6, 9) (12, 15)\n",
      "7 row  (7, 10) (0, 3)\n",
      "7 row  (7, 10) (1, 4)\n",
      "7 row  (7, 10) (2, 5)\n",
      "7 row  (7, 10) (3, 6)\n",
      "7 row  (7, 10) (4, 7)\n",
      "7 row  (7, 10) (5, 8)\n",
      "7 row  (7, 10) (6, 9)\n",
      "7 row  (7, 10) (7, 10)\n",
      "7 row  (7, 10) (8, 11)\n",
      "7 row  (7, 10) (9, 12)\n",
      "7 row  (7, 10) (10, 13)\n",
      "7 row  (7, 10) (11, 14)\n",
      "7 row  (7, 10) (12, 15)\n",
      "8 row  (8, 11) (0, 3)\n",
      "8 row  (8, 11) (1, 4)\n",
      "8 row  (8, 11) (2, 5)\n",
      "8 row  (8, 11) (3, 6)\n",
      "8 row  (8, 11) (4, 7)\n",
      "8 row  (8, 11) (5, 8)\n",
      "8 row  (8, 11) (6, 9)\n",
      "8 row  (8, 11) (7, 10)\n",
      "8 row  (8, 11) (8, 11)\n",
      "8 row  (8, 11) (9, 12)\n",
      "8 row  (8, 11) (10, 13)\n",
      "8 row  (8, 11) (11, 14)\n",
      "8 row  (8, 11) (12, 15)\n",
      "9 row  (9, 12) (0, 3)\n",
      "9 row  (9, 12) (1, 4)\n",
      "9 row  (9, 12) (2, 5)\n",
      "9 row  (9, 12) (3, 6)\n",
      "9 row  (9, 12) (4, 7)\n",
      "9 row  (9, 12) (5, 8)\n",
      "9 row  (9, 12) (6, 9)\n",
      "9 row  (9, 12) (7, 10)\n",
      "9 row  (9, 12) (8, 11)\n",
      "9 row  (9, 12) (9, 12)\n",
      "9 row  (9, 12) (10, 13)\n",
      "9 row  (9, 12) (11, 14)\n",
      "9 row  (9, 12) (12, 15)\n",
      "10 row  (10, 13) (0, 3)\n",
      "10 row  (10, 13) (1, 4)\n",
      "10 row  (10, 13) (2, 5)\n",
      "10 row  (10, 13) (3, 6)\n",
      "10 row  (10, 13) (4, 7)\n",
      "10 row  (10, 13) (5, 8)\n",
      "10 row  (10, 13) (6, 9)\n",
      "10 row  (10, 13) (7, 10)\n",
      "10 row  (10, 13) (8, 11)\n",
      "10 row  (10, 13) (9, 12)\n",
      "10 row  (10, 13) (10, 13)\n",
      "10 row  (10, 13) (11, 14)\n",
      "10 row  (10, 13) (12, 15)\n",
      "11 row  (11, 14) (0, 3)\n",
      "11 row  (11, 14) (1, 4)\n",
      "11 row  (11, 14) (2, 5)\n",
      "11 row  (11, 14) (3, 6)\n",
      "11 row  (11, 14) (4, 7)\n",
      "11 row  (11, 14) (5, 8)\n",
      "11 row  (11, 14) (6, 9)\n",
      "11 row  (11, 14) (7, 10)\n",
      "11 row  (11, 14) (8, 11)\n",
      "11 row  (11, 14) (9, 12)\n",
      "11 row  (11, 14) (10, 13)\n",
      "11 row  (11, 14) (11, 14)\n",
      "11 row  (11, 14) (12, 15)\n",
      "12 row  (12, 15) (0, 3)\n",
      "12 row  (12, 15) (1, 4)\n",
      "12 row  (12, 15) (2, 5)\n",
      "12 row  (12, 15) (3, 6)\n",
      "12 row  (12, 15) (4, 7)\n",
      "12 row  (12, 15) (5, 8)\n",
      "12 row  (12, 15) (6, 9)\n",
      "12 row  (12, 15) (7, 10)\n",
      "12 row  (12, 15) (8, 11)\n",
      "12 row  (12, 15) (9, 12)\n",
      "12 row  (12, 15) (10, 13)\n",
      "12 row  (12, 15) (11, 14)\n",
      "12 row  (12, 15) (12, 15)\n"
     ]
    }
   ],
   "source": [
    "for k in range(13):\n",
    "    for j in range(13):\n",
    "        print (k,'row ',(k,k+3),(j,j+3))"
   ]
  },
  {
   "cell_type": "code",
   "execution_count": 214,
   "metadata": {},
   "outputs": [],
   "source": [
    "filSize=3\n",
    "outputVal=[]\n",
    "for k in range(13):\n",
    "    for j in range(13):\n",
    "        sampD=imageData[k:k+filSize,j:j+filSize]\n",
    "        outputVal.append(np.sum(sampD*filterSize))\n",
    "#         print (k,'row ',(k,k+3),(j,j+3))"
   ]
  },
  {
   "cell_type": "code",
   "execution_count": 215,
   "metadata": {},
   "outputs": [
    {
     "data": {
      "text/plain": [
       "169"
      ]
     },
     "execution_count": 215,
     "metadata": {},
     "output_type": "execute_result"
    }
   ],
   "source": [
    "len(outputVal)"
   ]
  },
  {
   "cell_type": "code",
   "execution_count": 216,
   "metadata": {},
   "outputs": [],
   "source": [
    "outputFinal2=np.array(outputVal).reshape(13,13)"
   ]
  },
  {
   "cell_type": "code",
   "execution_count": 217,
   "metadata": {},
   "outputs": [
    {
     "data": {
      "text/plain": [
       "array([[1.0495371 , 1.62051323, 1.36326517, 0.91646237, 1.71875153,\n",
       "        1.67074834, 2.71697971, 1.6912632 , 1.13366638, 2.04604664,\n",
       "        1.43654909, 2.14876681, 1.878898  ],\n",
       "       [1.57153447, 0.76550287, 1.07396812, 2.31744917, 1.15597923,\n",
       "        1.51379036, 1.12099391, 2.5734717 , 1.24828424, 1.80346968,\n",
       "        1.78734261, 1.01922192, 1.73783694],\n",
       "       [1.64705099, 1.50713875, 0.38507759, 1.03620949, 1.67632773,\n",
       "        1.13629366, 1.11367707, 1.02898951, 2.62844197, 1.74430282,\n",
       "        1.94416258, 2.20916818, 1.07549053],\n",
       "       [1.33505349, 1.67551555, 1.50177349, 0.37326999, 1.54713535,\n",
       "        1.78851346, 1.01939233, 0.94988304, 1.60554458, 2.1981238 ,\n",
       "        1.05950386, 2.21927968, 1.54866125],\n",
       "       [1.34342432, 1.26388449, 1.68990795, 1.5040302 , 1.25616543,\n",
       "        1.88934888, 1.4596106 , 1.4678751 , 1.85893118, 2.52640345,\n",
       "        1.61745832, 1.02418836, 2.09583061],\n",
       "       [0.96374296, 1.32861408, 1.22439521, 1.09616967, 1.35444114,\n",
       "        1.32496959, 1.34372838, 1.40254098, 1.38106199, 2.10725613,\n",
       "        2.53895162, 1.49973399, 0.7061494 ],\n",
       "       [1.5592798 , 1.54436606, 0.949289  , 1.13743115, 0.58255944,\n",
       "        1.15290357, 1.40298179, 1.05938322, 1.44978567, 1.24922326,\n",
       "        1.51330505, 2.38082856, 1.60678634],\n",
       "       [1.67022182, 1.28287383, 1.33215947, 1.08651057, 1.46110882,\n",
       "        0.77350685, 1.41445899, 1.11787509, 0.84040404, 0.94392442,\n",
       "        1.25491768, 1.02011911, 1.87567917],\n",
       "       [2.35166902, 1.66150164, 2.08306   , 2.01610566, 1.75418041,\n",
       "        1.58959219, 1.00009041, 1.70732253, 1.00753756, 0.90959684,\n",
       "        1.67919507, 1.84058826, 0.59554229],\n",
       "       [1.91028463, 2.46636022, 1.03496276, 1.2086656 , 1.70468911,\n",
       "        1.75005146, 1.53598921, 0.98651313, 1.85133519, 1.56825358,\n",
       "        0.92812262, 1.26221165, 1.8080013 ],\n",
       "       [1.91080443, 1.01547658, 2.11445816, 1.27246074, 1.56814069,\n",
       "        1.55656663, 1.90407528, 1.204976  , 1.22542249, 1.82392662,\n",
       "        1.47021276, 1.23069867, 1.58968355],\n",
       "       [2.900379  , 2.33588037, 1.33346125, 2.2307078 , 1.58626793,\n",
       "        0.77703389, 1.38892089, 1.70556799, 1.36199063, 1.08902564,\n",
       "        1.67695746, 1.70087832, 1.65203799],\n",
       "       [1.94150387, 2.52945033, 1.79500024, 0.74947119, 1.65899736,\n",
       "        1.68540559, 1.06060962, 1.83381236, 2.3623148 , 1.34732407,\n",
       "        1.38982471, 1.87772104, 1.76584021]])"
      ]
     },
     "execution_count": 217,
     "metadata": {},
     "output_type": "execute_result"
    }
   ],
   "source": [
    "outputFinal2"
   ]
  },
  {
   "cell_type": "code",
   "execution_count": 218,
   "metadata": {},
   "outputs": [],
   "source": [
    "sampD=imageData[:3,:3]"
   ]
  },
  {
   "cell_type": "code",
   "execution_count": 220,
   "metadata": {},
   "outputs": [],
   "source": [
    "# ((N-f)/s)+1"
   ]
  },
  {
   "cell_type": "code",
   "execution_count": 221,
   "metadata": {},
   "outputs": [
    {
     "data": {
      "text/plain": [
       "13"
      ]
     },
     "execution_count": 221,
     "metadata": {},
     "output_type": "execute_result"
    }
   ],
   "source": [
    "(15-3)+1"
   ]
  },
  {
   "cell_type": "code",
   "execution_count": null,
   "metadata": {},
   "outputs": [],
   "source": []
  },
  {
   "cell_type": "markdown",
   "metadata": {},
   "source": [
    "## Function to try in numpy"
   ]
  },
  {
   "cell_type": "markdown",
   "metadata": {},
   "source": [
    " -  np.newaxis\n",
    " -  np.matrix\n",
    " -  np.tanh\tCompute hyperbolic tangent element-wise.\n",
    " -  np.arcsinh\tInverse hyperbolic sine element-wise.\n",
    " -  np.arccosh\tInverse hyperbolic cosine, element-wise.\n",
    " -  np.arctanh\tInverse hyperbolic tangent element-wise.\n",
    " -  np.expm1\tCalculate exp(x) – 1 for all elements in the array.\n",
    " -  np.exp2\tCalculate 2**p for all p in the input array.\n",
    " -  np.log10\tReturn the base 10 logarithm of the input array, element-wise.\n",
    " -  np.log2\tBase-2 logarithm of x.\n",
    " -  np.log1p\tReturn the natural logarithm of one plus the input array, element-wise.\n",
    " -  np.logaddexp\tLogarithm of the sum of exponentiations of the inputs.\n",
    " -  np.logaddexp2\tLogarithm of the sum of exponentiations of the inputs in base-2.\n",
    " -  np.add\tAdd arguments element-wise.\n",
    " -  np.positive\tNumerical positive, element-wise.\n",
    " -  np.negative\tNumerical negative, element-wise.\n",
    " -  np.multiply\tMultiply arguments element-wise.\n",
    " -  np.power\tFirst array elements raised to powers from second array, element-wise.\n",
    " -  np.subtract\tSubtract arguments, element-wise.\n",
    " -  np.true_divide\tReturns a true division of the inputs, element-wise.\n",
    " -  np.floor_divide\tReturn the largest integer smaller or equal to the division of the inputs.\n",
    " -  np.float_power\tFirst array elements raised to powers from second array, element-wise.\n",
    " -  np.mod\tReturn the element-wise remainder of division.\n",
    " -  np.remainder\tReturn element-wise remainder of division.\n",
    " -  np.divmod\tReturn element-wise quotient and remainder simultaneously."
   ]
  },
  {
   "cell_type": "markdown",
   "metadata": {},
   "source": [
    "source:\n",
    " - https://www.youtube.com/watch?v=poD8ud4MxOY\n",
    " -      :https://numpy.org/\n",
    " -    :https://numpy.org/devdocs/user/quickstart.html"
   ]
  },
  {
   "cell_type": "code",
   "execution_count": null,
   "metadata": {},
   "outputs": [],
   "source": []
  }
 ],
 "metadata": {
  "kernelspec": {
   "display_name": "Python 3",
   "language": "python",
   "name": "python3"
  },
  "language_info": {
   "codemirror_mode": {
    "name": "ipython",
    "version": 3
   },
   "file_extension": ".py",
   "mimetype": "text/x-python",
   "name": "python",
   "nbconvert_exporter": "python",
   "pygments_lexer": "ipython3",
   "version": "3.6.9"
  }
 },
 "nbformat": 4,
 "nbformat_minor": 2
}
