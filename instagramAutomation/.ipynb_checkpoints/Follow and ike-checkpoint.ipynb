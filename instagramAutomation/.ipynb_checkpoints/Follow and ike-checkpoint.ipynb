{
 "cells": [
  {
   "cell_type": "code",
   "execution_count": 1,
   "metadata": {},
   "outputs": [
    {
     "data": {
      "text/plain": [
       "{'currentPackageName': 'com.sec.android.app.launcher',\n",
       " 'displayHeight': 2058,\n",
       " 'displayRotation': 0,\n",
       " 'displaySizeDpX': 320,\n",
       " 'displaySizeDpY': 658,\n",
       " 'displayWidth': 1080,\n",
       " 'productName': 'starqlteue',\n",
       " 'screenOn': True,\n",
       " 'sdkInt': 29,\n",
       " 'naturalOrientation': True}"
      ]
     },
     "execution_count": 1,
     "metadata": {},
     "output_type": "execute_result"
    }
   ],
   "source": [
    "from uiautomator import device as d\n",
    "from uiautomator import Device\n",
    "from time import sleep\n",
    "import os\n",
    "\n",
    "d.infod = Device('375637504c583398')\n",
    "\n",
    "d.info"
   ]
  },
  {
   "cell_type": "code",
   "execution_count": 2,
   "metadata": {},
   "outputs": [
    {
     "data": {
      "text/plain": [
       "True"
      ]
     },
     "execution_count": 2,
     "metadata": {},
     "output_type": "execute_result"
    }
   ],
   "source": [
    "d.press.home()\n",
    "sx, sy, ex, ey= 100 ,150,100,450\n",
    "d.swipe(sx, sy, ex, ey, steps=5)"
   ]
  },
  {
   "cell_type": "code",
   "execution_count": 3,
   "metadata": {},
   "outputs": [
    {
     "data": {
      "text/plain": [
       "True"
      ]
     },
     "execution_count": 3,
     "metadata": {},
     "output_type": "execute_result"
    }
   ],
   "source": [
    "instaVal=d(text='Instagram', className='android.widget.TextView')\n",
    "instaVal.click()"
   ]
  },
  {
   "cell_type": "code",
   "execution_count": 4,
   "metadata": {},
   "outputs": [
    {
     "data": {
      "text/plain": [
       "True"
      ]
     },
     "execution_count": 4,
     "metadata": {},
     "output_type": "execute_result"
    }
   ],
   "source": [
    "d(className='android.widget.FrameLayout',description='Search and Explore').click()"
   ]
  },
  {
   "cell_type": "code",
   "execution_count": 5,
   "metadata": {},
   "outputs": [
    {
     "data": {
      "text/plain": [
       "True"
      ]
     },
     "execution_count": 5,
     "metadata": {},
     "output_type": "execute_result"
    }
   ],
   "source": [
    "kk=d(className='android.widget.EditText',resourceId='com.instagram.android:id/action_bar_search_edit_text')\n",
    "kk.click()"
   ]
  },
  {
   "cell_type": "code",
   "execution_count": 6,
   "metadata": {},
   "outputs": [
    {
     "data": {
      "text/plain": [
       "True"
      ]
     },
     "execution_count": 6,
     "metadata": {},
     "output_type": "execute_result"
    }
   ],
   "source": [
    "kk.set_text('flower')"
   ]
  },
  {
   "cell_type": "code",
   "execution_count": 7,
   "metadata": {},
   "outputs": [
    {
     "data": {
      "text/plain": [
       "True"
      ]
     },
     "execution_count": 7,
     "metadata": {},
     "output_type": "execute_result"
    }
   ],
   "source": [
    "d.press.back()"
   ]
  },
  {
   "cell_type": "code",
   "execution_count": 8,
   "metadata": {},
   "outputs": [
    {
     "data": {
      "text/plain": [
       "'<?xml version=\"1.0\" ?>\\n<hierarchy rotation=\"0\">\\n  <node bounds=\"[0,0][1080,2058]\" checkable=\"false\" checked=\"false\" class=\"android.widget.FrameLayout\" clickable=\"false\" content-desc=\"\" enabled=\"true\" focusable=\"false\" focused=\"false\" index=\"0\" long-clickable=\"false\" package=\"com.instagram.android\" password=\"false\" resource-id=\"\" scrollable=\"false\" selected=\"false\" text=\"\">\\n    <node bounds=\"[0,0][1080,2058]\" checkable=\"false\" checked=\"false\" class=\"android.widget.LinearLayout\" clickable=\"false\" content-desc=\"\" enabled=\"true\" focusable=\"false\" focused=\"false\" index=\"0\" long-clickable=\"false\" package=\"com.instagram.android\" password=\"false\" resource-id=\"\" scrollable=\"false\" selected=\"false\" text=\"\">\\n      <node bounds=\"[0,0][1080,2058]\" checkable=\"false\" checked=\"false\" class=\"android.widget.FrameLayout\" clickable=\"false\" content-desc=\"\" enabled=\"true\" focusable=\"false\" focused=\"false\" index=\"0\" long-clickable=\"false\" package=\"com.instagram.android\" password=\"false\" resource-id=\"\" scrollable=\"false\" selected=\"false\" text=\"\">\\n        <node bounds=\"[0,0][1080,2058]\" checkable=\"false\" checked=\"false\" class=\"android.widget.LinearLayout\" clickable=\"false\" content-desc=\"\" enabled=\"true\" focusable=\"false\" focused=\"false\" index=\"0\" long-clickable=\"false\" package=\"com.instagram.android\" password=\"false\" resource-id=\"com.instagram.android:id/action_bar_root\" scrollable=\"false\" selected=\"false\" text=\"\">\\n          <node bounds=\"[0,0][1080,2058]\" checkable=\"false\" checked=\"false\" class=\"android.widget.FrameLayout\" clickable=\"false\" content-desc=\"\" enabled=\"true\" focusable=\"false\" focused=\"false\" index=\"0\" long-clickable=\"false\" package=\"com.instagram.android\" password=\"false\" resource-id=\"android:id/content\" scrollable=\"false\" selected=\"false\" text=\"\">\\n            <node bounds=\"[0,0][1080,2058]\" checkable=\"false\" checked=\"false\" class=\"android.widget.FrameLayout\" clickable=\"false\" content-desc=\"\" enabled=\"true\" focusable=\"false\" focused=\"false\" index=\"0\" long-clickable=\"false\" package=\"com.instagram.android\" password=\"false\" resource-id=\"com.instagram.android:id/swipe_navigation_container\" scrollable=\"false\" selected=\"false\" text=\"\">\\n              <node bounds=\"[0,0][1080,2058]\" checkable=\"false\" checked=\"false\" class=\"android.widget.FrameLayout\" clickable=\"false\" content-desc=\"\" enabled=\"true\" focusable=\"false\" focused=\"false\" index=\"1\" long-clickable=\"false\" package=\"com.instagram.android\" password=\"false\" resource-id=\"\" scrollable=\"false\" selected=\"false\" text=\"\">\\n                <node bounds=\"[0,81][1080,2058]\" checkable=\"false\" checked=\"false\" class=\"android.widget.FrameLayout\" clickable=\"false\" content-desc=\"\" enabled=\"true\" focusable=\"false\" focused=\"false\" index=\"1\" long-clickable=\"false\" package=\"com.instagram.android\" password=\"false\" resource-id=\"com.instagram.android:id/bottom_sheet_container\" scrollable=\"false\" selected=\"false\" text=\"\"/>\\n                <node bounds=\"[0,81][1080,2058]\" checkable=\"false\" checked=\"false\" class=\"android.widget.FrameLayout\" clickable=\"false\" content-desc=\"\" enabled=\"true\" focusable=\"false\" focused=\"false\" index=\"2\" long-clickable=\"false\" package=\"com.instagram.android\" password=\"false\" resource-id=\"com.instagram.android:id/layout_container_main_panel\" scrollable=\"false\" selected=\"false\" text=\"\">\\n                  <node bounds=\"[0,81][1080,1896]\" checkable=\"false\" checked=\"false\" class=\"android.widget.FrameLayout\" clickable=\"false\" content-desc=\"\" enabled=\"true\" focusable=\"false\" focused=\"false\" index=\"0\" long-clickable=\"false\" package=\"com.instagram.android\" password=\"false\" resource-id=\"com.instagram.android:id/layout_container_main\" scrollable=\"false\" selected=\"false\" text=\"\">\\n                    <node bounds=\"[0,243][1080,1896]\" checkable=\"false\" checked=\"false\" class=\"android.widget.FrameLayout\" clickable=\"false\" content-desc=\"\" enabled=\"true\" focusable=\"false\" focused=\"false\" index=\"0\" long-clickable=\"false\" package=\"com.instagram.android\" password=\"false\" resource-id=\"\" scrollable=\"false\" selected=\"false\" text=\"\">\\n                      <node bounds=\"[0,243][1080,1896]\" checkable=\"false\" checked=\"false\" class=\"androidx.viewpager.widget.ViewPager\" clickable=\"false\" content-desc=\"\" enabled=\"true\" focusable=\"true\" focused=\"false\" index=\"0\" long-clickable=\"false\" package=\"com.instagram.android\" password=\"false\" resource-id=\"com.instagram.android:id/tabbed_explore_pager\" scrollable=\"true\" selected=\"false\" text=\"\">\\n                        <node bounds=\"[0,392][1080,1896]\" checkable=\"false\" checked=\"false\" class=\"android.widget.FrameLayout\" clickable=\"false\" content-desc=\"\" enabled=\"true\" focusable=\"false\" focused=\"false\" index=\"0\" long-clickable=\"false\" package=\"com.instagram.android\" password=\"false\" resource-id=\"\" scrollable=\"false\" selected=\"false\" text=\"\">\\n                          <node bounds=\"[0,392][1080,1896]\" checkable=\"false\" checked=\"false\" class=\"android.widget.ListView\" clickable=\"false\" content-desc=\"\" enabled=\"true\" focusable=\"true\" focused=\"false\" index=\"0\" long-clickable=\"false\" package=\"com.instagram.android\" password=\"false\" resource-id=\"android:id/list\" scrollable=\"true\" selected=\"false\" text=\"\">\\n                            <node bounds=\"[0,392][1080,635]\" checkable=\"false\" checked=\"false\" class=\"android.widget.FrameLayout\" clickable=\"true\" content-desc=\"\" enabled=\"false\" focusable=\"true\" focused=\"false\" index=\"0\" long-clickable=\"false\" package=\"com.instagram.android\" password=\"false\" resource-id=\"com.instagram.android:id/row_hashtag_container\" scrollable=\"false\" selected=\"false\" text=\"\">\\n                              <node bounds=\"[54,392][1026,635]\" checkable=\"false\" checked=\"false\" class=\"android.widget.LinearLayout\" clickable=\"false\" content-desc=\"\" enabled=\"true\" focusable=\"false\" focused=\"false\" index=\"0\" long-clickable=\"false\" package=\"com.instagram.android\" password=\"false\" resource-id=\"\" scrollable=\"false\" selected=\"false\" text=\"\">\\n                                <node bounds=\"[54,392][311,635]\" checkable=\"false\" checked=\"false\" class=\"android.widget.FrameLayout\" clickable=\"false\" content-desc=\"\" enabled=\"true\" focusable=\"false\" focused=\"false\" index=\"0\" long-clickable=\"false\" package=\"com.instagram.android\" password=\"false\" resource-id=\"\" scrollable=\"false\" selected=\"false\" text=\"\">\\n                                  <node bounds=\"[68,419][257,608]\" checkable=\"false\" checked=\"false\" class=\"android.widget.ImageView\" clickable=\"false\" content-desc=\"\" enabled=\"true\" focusable=\"false\" focused=\"false\" index=\"0\" long-clickable=\"false\" package=\"com.instagram.android\" password=\"false\" resource-id=\"com.instagram.android:id/row_search_profile_image\" scrollable=\"false\" selected=\"false\" text=\"\"/>\\n                                </node>\\n                                <node bounds=\"[311,455][1026,571]\" checkable=\"false\" checked=\"false\" class=\"android.widget.LinearLayout\" clickable=\"false\" content-desc=\"\" enabled=\"true\" focusable=\"false\" focused=\"false\" index=\"1\" long-clickable=\"false\" package=\"com.instagram.android\" password=\"false\" resource-id=\"\" scrollable=\"false\" selected=\"false\" text=\"\">\\n                                  <node bounds=\"[311,455][478,513]\" checkable=\"false\" checked=\"false\" class=\"android.widget.TextView\" clickable=\"false\" content-desc=\"\" enabled=\"true\" focusable=\"false\" focused=\"false\" index=\"0\" long-clickable=\"false\" package=\"com.instagram.android\" password=\"false\" resource-id=\"com.instagram.android:id/row_hashtag_textview_tag_name\" scrollable=\"false\" selected=\"false\" text=\"#flowers\"/>\\n                                  <node bounds=\"[311,513][538,571]\" checkable=\"false\" checked=\"false\" class=\"android.widget.TextView\" clickable=\"false\" content-desc=\"\" enabled=\"true\" focusable=\"false\" focused=\"false\" index=\"1\" long-clickable=\"false\" package=\"com.instagram.android\" password=\"false\" resource-id=\"com.instagram.android:id/row_hashtag_textview_tag_subtitle\" scrollable=\"false\" selected=\"false\" text=\"175M posts\"/>\\n                                </node>\\n                              </node>\\n                            </node>\\n                            <node bounds=\"[0,635][1080,878]\" checkable=\"false\" checked=\"false\" class=\"android.widget.FrameLayout\" clickable=\"true\" content-desc=\"\" enabled=\"false\" focusable=\"true\" focused=\"false\" index=\"1\" long-clickable=\"false\" package=\"com.instagram.android\" password=\"false\" resource-id=\"com.instagram.android:id/row_hashtag_container\" scrollable=\"false\" selected=\"false\" text=\"\">\\n                              <node bounds=\"[54,635][1026,878]\" checkable=\"false\" checked=\"false\" class=\"android.widget.LinearLayout\" clickable=\"false\" content-desc=\"\" enabled=\"true\" focusable=\"false\" focused=\"false\" index=\"0\" long-clickable=\"false\" package=\"com.instagram.android\" password=\"false\" resource-id=\"\" scrollable=\"false\" selected=\"false\" text=\"\">\\n                                <node bounds=\"[54,635][311,878]\" checkable=\"false\" checked=\"false\" class=\"android.widget.FrameLayout\" clickable=\"false\" content-desc=\"\" enabled=\"true\" focusable=\"false\" focused=\"false\" index=\"0\" long-clickable=\"false\" package=\"com.instagram.android\" password=\"false\" resource-id=\"\" scrollable=\"false\" selected=\"false\" text=\"\">\\n                                  <node bounds=\"[68,662][257,851]\" checkable=\"false\" checked=\"false\" class=\"android.widget.ImageView\" clickable=\"false\" content-desc=\"\" enabled=\"true\" focusable=\"false\" focused=\"false\" index=\"0\" long-clickable=\"false\" package=\"com.instagram.android\" password=\"false\" resource-id=\"com.instagram.android:id/row_search_profile_image\" scrollable=\"false\" selected=\"false\" text=\"\"/>\\n                                </node>\\n                                <node bounds=\"[311,698][1026,814]\" checkable=\"false\" checked=\"false\" class=\"android.widget.LinearLayout\" clickable=\"false\" content-desc=\"\" enabled=\"true\" focusable=\"false\" focused=\"false\" index=\"1\" long-clickable=\"false\" package=\"com.instagram.android\" password=\"false\" resource-id=\"\" scrollable=\"false\" selected=\"false\" text=\"\">\\n                                  <node bounds=\"[311,698][456,756]\" checkable=\"false\" checked=\"false\" class=\"android.widget.TextView\" clickable=\"false\" content-desc=\"\" enabled=\"true\" focusable=\"false\" focused=\"false\" index=\"0\" long-clickable=\"false\" package=\"com.instagram.android\" password=\"false\" resource-id=\"com.instagram.android:id/row_hashtag_textview_tag_name\" scrollable=\"false\" selected=\"false\" text=\"#flower\"/>\\n                                  <node bounds=\"[311,756][550,814]\" checkable=\"false\" checked=\"false\" class=\"android.widget.TextView\" clickable=\"false\" content-desc=\"\" enabled=\"true\" focusable=\"false\" focused=\"false\" index=\"1\" long-clickable=\"false\" package=\"com.instagram.android\" password=\"false\" resource-id=\"com.instagram.android:id/row_hashtag_textview_tag_subtitle\" scrollable=\"false\" selected=\"false\" text=\"84.3M posts\"/>\\n                                </node>\\n                              </node>\\n                            </node>\\n                            <node bounds=\"[0,878][1080,1121]\" checkable=\"false\" checked=\"false\" class=\"android.widget.FrameLayout\" clickable=\"true\" content-desc=\"\" enabled=\"false\" focusable=\"true\" focused=\"false\" index=\"2\" long-clickable=\"false\" package=\"com.instagram.android\" password=\"false\" resource-id=\"com.instagram.android:id/row_search_user_container\" scrollable=\"false\" selected=\"false\" text=\"\">\\n                              <node bounds=\"[0,891][1080,1107]\" checkable=\"false\" checked=\"false\" class=\"android.widget.LinearLayout\" clickable=\"false\" content-desc=\"\" enabled=\"true\" focusable=\"false\" focused=\"false\" index=\"0\" long-clickable=\"false\" package=\"com.instagram.android\" password=\"false\" resource-id=\"com.instagram.android:id/row_search_user_info_container\" scrollable=\"false\" selected=\"false\" text=\"\">\\n                                <node bounds=\"[54,891][311,1107]\" checkable=\"false\" checked=\"false\" class=\"android.widget.FrameLayout\" clickable=\"true\" content-desc=\"Open story\" enabled=\"true\" focusable=\"true\" focused=\"false\" index=\"0\" long-clickable=\"false\" package=\"com.instagram.android\" password=\"false\" resource-id=\"com.instagram.android:id/row_search_avatar_with_ring\" scrollable=\"false\" selected=\"false\" text=\"\">\\n                                  <node bounds=\"[54,891][270,1107]\" checkable=\"false\" checked=\"false\" class=\"android.view.View\" clickable=\"false\" content-desc=\"\" enabled=\"true\" focusable=\"false\" focused=\"false\" index=\"0\" long-clickable=\"false\" package=\"com.instagram.android\" password=\"false\" resource-id=\"com.instagram.android:id/reel_seen_state\" scrollable=\"false\" selected=\"false\" text=\"\"/>\\n                                  <node bounds=\"[67,904][256,1093]\" checkable=\"false\" checked=\"false\" class=\"android.widget.ImageView\" clickable=\"false\" content-desc=\"\" enabled=\"true\" focusable=\"false\" focused=\"false\" index=\"1\" long-clickable=\"false\" package=\"com.instagram.android\" password=\"false\" resource-id=\"com.instagram.android:id/row_search_avatar_in_ring\" scrollable=\"false\" selected=\"false\" text=\"\"/>\\n                                </node>\\n                                <node bounds=\"[311,941][1026,1057]\" checkable=\"false\" checked=\"false\" class=\"android.widget.LinearLayout\" clickable=\"false\" content-desc=\"\" enabled=\"true\" focusable=\"false\" focused=\"false\" index=\"1\" long-clickable=\"false\" package=\"com.instagram.android\" password=\"false\" resource-id=\"\" scrollable=\"false\" selected=\"false\" text=\"\">\\n                                  <node bounds=\"[311,941][712,999]\" checkable=\"false\" checked=\"false\" class=\"android.widget.TextView\" clickable=\"false\" content-desc=\"\" enabled=\"true\" focusable=\"false\" focused=\"false\" index=\"0\" long-clickable=\"false\" package=\"com.instagram.android\" password=\"false\" resource-id=\"com.instagram.android:id/row_search_user_username\" scrollable=\"false\" selected=\"false\" text=\"flowershopcafelagos\"/>\\n                                  <node bounds=\"[311,999][633,1057]\" checkable=\"false\" checked=\"false\" class=\"android.widget.TextView\" clickable=\"false\" content-desc=\"\" enabled=\"true\" focusable=\"false\" focused=\"false\" index=\"1\" long-clickable=\"false\" package=\"com.instagram.android\" password=\"false\" resource-id=\"com.instagram.android:id/row_search_user_fullname\" scrollable=\"false\" selected=\"false\" text=\"Flowershop Cafe\"/>\\n                                </node>\\n                              </node>\\n                            </node>\\n                            <node bounds=\"[0,1121][1080,1364]\" checkable=\"false\" checked=\"false\" class=\"android.widget.FrameLayout\" clickable=\"true\" content-desc=\"\" enabled=\"false\" focusable=\"true\" focused=\"false\" index=\"3\" long-clickable=\"false\" package=\"com.instagram.android\" password=\"false\" resource-id=\"com.instagram.android:id/row_search_user_container\" scrollable=\"false\" selected=\"false\" text=\"\">\\n                              <node bounds=\"[0,1134][1080,1350]\" checkable=\"false\" checked=\"false\" class=\"android.widget.LinearLayout\" clickable=\"false\" content-desc=\"\" enabled=\"true\" focusable=\"false\" focused=\"false\" index=\"0\" long-clickable=\"false\" package=\"com.instagram.android\" password=\"false\" resource-id=\"com.instagram.android:id/row_search_user_info_container\" scrollable=\"false\" selected=\"false\" text=\"\">\\n                                <node bounds=\"[54,1134][311,1350]\" checkable=\"false\" checked=\"false\" class=\"android.widget.FrameLayout\" clickable=\"true\" content-desc=\"Open story\" enabled=\"true\" focusable=\"true\" focused=\"false\" index=\"0\" long-clickable=\"false\" package=\"com.instagram.android\" password=\"false\" resource-id=\"com.instagram.android:id/row_search_avatar_with_ring\" scrollable=\"false\" selected=\"false\" text=\"\">\\n                                  <node bounds=\"[54,1134][270,1350]\" checkable=\"false\" checked=\"false\" class=\"android.view.View\" clickable=\"false\" content-desc=\"\" enabled=\"true\" focusable=\"false\" focused=\"false\" index=\"0\" long-clickable=\"false\" package=\"com.instagram.android\" password=\"false\" resource-id=\"com.instagram.android:id/reel_seen_state\" scrollable=\"false\" selected=\"false\" text=\"\"/>\\n                                  <node bounds=\"[67,1147][256,1336]\" checkable=\"false\" checked=\"false\" class=\"android.widget.ImageView\" clickable=\"false\" content-desc=\"\" enabled=\"true\" focusable=\"false\" focused=\"false\" index=\"1\" long-clickable=\"false\" package=\"com.instagram.android\" password=\"false\" resource-id=\"com.instagram.android:id/row_search_avatar_in_ring\" scrollable=\"false\" selected=\"false\" text=\"\"/>\\n                                </node>\\n                                <node bounds=\"[311,1184][1026,1300]\" checkable=\"false\" checked=\"false\" class=\"android.widget.LinearLayout\" clickable=\"false\" content-desc=\"\" enabled=\"true\" focusable=\"false\" focused=\"false\" index=\"1\" long-clickable=\"false\" package=\"com.instagram.android\" password=\"false\" resource-id=\"\" scrollable=\"false\" selected=\"false\" text=\"\">\\n                                  <node bounds=\"[311,1184][615,1242]\" checkable=\"false\" checked=\"false\" class=\"android.widget.TextView\" clickable=\"false\" content-desc=\"\" enabled=\"true\" focusable=\"false\" focused=\"false\" index=\"0\" long-clickable=\"false\" package=\"com.instagram.android\" password=\"false\" resource-id=\"com.instagram.android:id/row_search_user_username\" scrollable=\"false\" selected=\"false\" text=\"flower_mania12\"/>\\n                                  <node bounds=\"[311,1242][593,1300]\" checkable=\"false\" checked=\"false\" class=\"android.widget.TextView\" clickable=\"false\" content-desc=\"\" enabled=\"true\" focusable=\"false\" focused=\"false\" index=\"1\" long-clickable=\"false\" package=\"com.instagram.android\" password=\"false\" resource-id=\"com.instagram.android:id/row_search_user_fullname\" scrollable=\"false\" selected=\"false\" text=\"Flower_m@nia\"/>\\n                                </node>\\n                              </node>\\n                            </node>\\n                            <node bounds=\"[0,1364][1080,1607]\" checkable=\"false\" checked=\"false\" class=\"android.widget.FrameLayout\" clickable=\"true\" content-desc=\"\" enabled=\"false\" focusable=\"true\" focused=\"false\" index=\"4\" long-clickable=\"false\" package=\"com.instagram.android\" password=\"false\" resource-id=\"com.instagram.android:id/row_search_user_container\" scrollable=\"false\" selected=\"false\" text=\"\">\\n                              <node bounds=\"[0,1377][1080,1593]\" checkable=\"false\" checked=\"false\" class=\"android.widget.LinearLayout\" clickable=\"false\" content-desc=\"\" enabled=\"true\" focusable=\"false\" focused=\"false\" index=\"0\" long-clickable=\"false\" package=\"com.instagram.android\" password=\"false\" resource-id=\"com.instagram.android:id/row_search_user_info_container\" scrollable=\"false\" selected=\"false\" text=\"\">\\n                                <node bounds=\"[54,1377][311,1593]\" checkable=\"false\" checked=\"false\" class=\"android.widget.FrameLayout\" clickable=\"true\" content-desc=\"Open story\" enabled=\"true\" focusable=\"true\" focused=\"false\" index=\"0\" long-clickable=\"false\" package=\"com.instagram.android\" password=\"false\" resource-id=\"com.instagram.android:id/row_search_avatar_with_ring\" scrollable=\"false\" selected=\"false\" text=\"\">\\n                                  <node bounds=\"[54,1377][270,1593]\" checkable=\"false\" checked=\"false\" class=\"android.view.View\" clickable=\"false\" content-desc=\"\" enabled=\"true\" focusable=\"false\" focused=\"false\" index=\"0\" long-clickable=\"false\" package=\"com.instagram.android\" password=\"false\" resource-id=\"com.instagram.android:id/reel_seen_state\" scrollable=\"false\" selected=\"false\" text=\"\"/>\\n                                  <node bounds=\"[67,1390][256,1579]\" checkable=\"false\" checked=\"false\" class=\"android.widget.ImageView\" clickable=\"false\" content-desc=\"\" enabled=\"true\" focusable=\"false\" focused=\"false\" index=\"1\" long-clickable=\"false\" package=\"com.instagram.android\" password=\"false\" resource-id=\"com.instagram.android:id/row_search_avatar_in_ring\" scrollable=\"false\" selected=\"false\" text=\"\"/>\\n                                </node>\\n                                <node bounds=\"[311,1427][1026,1543]\" checkable=\"false\" checked=\"false\" class=\"android.widget.LinearLayout\" clickable=\"false\" content-desc=\"\" enabled=\"true\" focusable=\"false\" focused=\"false\" index=\"1\" long-clickable=\"false\" package=\"com.instagram.android\" password=\"false\" resource-id=\"\" scrollable=\"false\" selected=\"false\" text=\"\">\\n                                  <node bounds=\"[311,1427][585,1485]\" checkable=\"false\" checked=\"false\" class=\"android.widget.TextView\" clickable=\"false\" content-desc=\"\" enabled=\"true\" focusable=\"false\" focused=\"false\" index=\"0\" long-clickable=\"false\" package=\"com.instagram.android\" password=\"false\" resource-id=\"com.instagram.android:id/row_search_user_username\" scrollable=\"false\" selected=\"false\" text=\"floretflower\"/>\\n                                  <node bounds=\"[311,1485][742,1543]\" checkable=\"false\" checked=\"false\" class=\"android.widget.TextView\" clickable=\"false\" content-desc=\"\" enabled=\"true\" focusable=\"false\" focused=\"false\" index=\"1\" long-clickable=\"false\" package=\"com.instagram.android\" password=\"false\" resource-id=\"com.instagram.android:id/row_search_user_fullname\" scrollable=\"false\" selected=\"false\" text=\"Erin Benzakein - Floret\"/>\\n                                </node>\\n                              </node>\\n                            </node>\\n                            <node bounds=\"[0,1607][1080,1850]\" checkable=\"false\" checked=\"false\" class=\"android.widget.FrameLayout\" clickable=\"true\" content-desc=\"\" enabled=\"false\" focusable=\"true\" focused=\"false\" index=\"5\" long-clickable=\"false\" package=\"com.instagram.android\" password=\"false\" resource-id=\"com.instagram.android:id/row_search_user_container\" scrollable=\"false\" selected=\"false\" text=\"\">\\n                              <node bounds=\"[0,1620][1080,1836]\" checkable=\"false\" checked=\"false\" class=\"android.widget.LinearLayout\" clickable=\"false\" content-desc=\"\" enabled=\"true\" focusable=\"false\" focused=\"false\" index=\"0\" long-clickable=\"false\" package=\"com.instagram.android\" password=\"false\" resource-id=\"com.instagram.android:id/row_search_user_info_container\" scrollable=\"false\" selected=\"false\" text=\"\">\\n                                <node bounds=\"[54,1620][311,1836]\" checkable=\"false\" checked=\"false\" class=\"android.widget.FrameLayout\" clickable=\"true\" content-desc=\"Open story\" enabled=\"true\" focusable=\"true\" focused=\"false\" index=\"0\" long-clickable=\"false\" package=\"com.instagram.android\" password=\"false\" resource-id=\"com.instagram.android:id/row_search_avatar_with_ring\" scrollable=\"false\" selected=\"false\" text=\"\">\\n                                  <node bounds=\"[54,1620][270,1836]\" checkable=\"false\" checked=\"false\" class=\"android.view.View\" clickable=\"false\" content-desc=\"\" enabled=\"true\" focusable=\"false\" focused=\"false\" index=\"0\" long-clickable=\"false\" package=\"com.instagram.android\" password=\"false\" resource-id=\"com.instagram.android:id/reel_seen_state\" scrollable=\"false\" selected=\"false\" text=\"\"/>\\n                                  <node bounds=\"[67,1633][256,1822]\" checkable=\"false\" checked=\"false\" class=\"android.widget.ImageView\" clickable=\"false\" content-desc=\"\" enabled=\"true\" focusable=\"false\" focused=\"false\" index=\"1\" long-clickable=\"false\" package=\"com.instagram.android\" password=\"false\" resource-id=\"com.instagram.android:id/row_search_avatar_in_ring\" scrollable=\"false\" selected=\"false\" text=\"\"/>\\n                                </node>\\n                                <node bounds=\"[311,1670][1026,1786]\" checkable=\"false\" checked=\"false\" class=\"android.widget.LinearLayout\" clickable=\"false\" content-desc=\"\" enabled=\"true\" focusable=\"false\" focused=\"false\" index=\"1\" long-clickable=\"false\" package=\"com.instagram.android\" password=\"false\" resource-id=\"\" scrollable=\"false\" selected=\"false\" text=\"\">\\n                                  <node bounds=\"[311,1670][648,1728]\" checkable=\"false\" checked=\"false\" class=\"android.widget.TextView\" clickable=\"false\" content-desc=\"\" enabled=\"true\" focusable=\"false\" focused=\"false\" index=\"0\" long-clickable=\"false\" package=\"com.instagram.android\" password=\"false\" resource-id=\"com.instagram.android:id/row_search_user_username\" scrollable=\"false\" selected=\"false\" text=\"ponyfony_flowers\"/>\\n                                  <node bounds=\"[311,1728][896,1786]\" checkable=\"false\" checked=\"false\" class=\"android.widget.TextView\" clickable=\"false\" content-desc=\"\" enabled=\"true\" focusable=\"false\" focused=\"false\" index=\"1\" long-clickable=\"false\" package=\"com.instagram.android\" password=\"false\" resource-id=\"com.instagram.android:id/row_search_user_fullname\" scrollable=\"false\" selected=\"false\" text=\"Flowers from around the world\"/>\\n                                </node>\\n                              </node>\\n                            </node>\\n                            <node bounds=\"[0,1850][1080,1896]\" checkable=\"false\" checked=\"false\" class=\"android.widget.FrameLayout\" clickable=\"true\" content-desc=\"\" enabled=\"false\" focusable=\"true\" focused=\"false\" index=\"6\" long-clickable=\"false\" package=\"com.instagram.android\" password=\"false\" resource-id=\"com.instagram.android:id/row_search_user_container\" scrollable=\"false\" selected=\"false\" text=\"\">\\n                              <node bounds=\"[0,1863][1080,1896]\" checkable=\"false\" checked=\"false\" class=\"android.widget.LinearLayout\" clickable=\"false\" content-desc=\"\" enabled=\"true\" focusable=\"false\" focused=\"false\" index=\"0\" long-clickable=\"false\" package=\"com.instagram.android\" password=\"false\" resource-id=\"com.instagram.android:id/row_search_user_info_container\" scrollable=\"false\" selected=\"false\" text=\"\">\\n                                <node bounds=\"[54,1863][311,1896]\" checkable=\"false\" checked=\"false\" class=\"android.widget.FrameLayout\" clickable=\"true\" content-desc=\"Open story\" enabled=\"true\" focusable=\"true\" focused=\"false\" index=\"0\" long-clickable=\"false\" package=\"com.instagram.android\" password=\"false\" resource-id=\"com.instagram.android:id/row_search_avatar_with_ring\" scrollable=\"false\" selected=\"false\" text=\"\">\\n                                  <node bounds=\"[54,1863][270,1896]\" checkable=\"false\" checked=\"false\" class=\"android.view.View\" clickable=\"false\" content-desc=\"\" enabled=\"true\" focusable=\"false\" focused=\"false\" index=\"0\" long-clickable=\"false\" package=\"com.instagram.android\" password=\"false\" resource-id=\"com.instagram.android:id/reel_seen_state\" scrollable=\"false\" selected=\"false\" text=\"\"/>\\n                                  <node bounds=\"[67,1876][256,1896]\" checkable=\"false\" checked=\"false\" class=\"android.widget.ImageView\" clickable=\"false\" content-desc=\"\" enabled=\"true\" focusable=\"false\" focused=\"false\" index=\"1\" long-clickable=\"false\" package=\"com.instagram.android\" password=\"false\" resource-id=\"com.instagram.android:id/row_search_avatar_in_ring\" scrollable=\"false\" selected=\"false\" text=\"\"/>\\n                                </node>\\n                              </node>\\n                            </node>\\n                          </node>\\n                        </node>\\n                      </node>\\n                      <node bounds=\"[0,243][1080,416]\" checkable=\"false\" checked=\"false\" class=\"android.widget.LinearLayout\" clickable=\"false\" content-desc=\"\" enabled=\"true\" focusable=\"false\" focused=\"false\" index=\"1\" long-clickable=\"false\" package=\"com.instagram.android\" password=\"false\" resource-id=\"com.instagram.android:id/view_switcher_container\" scrollable=\"false\" selected=\"false\" text=\"\">\\n                        <node bounds=\"[0,243][1080,392]\" checkable=\"false\" checked=\"false\" class=\"android.widget.FrameLayout\" clickable=\"false\" content-desc=\"\" enabled=\"true\" focusable=\"false\" focused=\"false\" index=\"0\" long-clickable=\"false\" package=\"com.instagram.android\" password=\"false\" resource-id=\"com.instagram.android:id/fixed_tabbar_view\" scrollable=\"false\" selected=\"false\" text=\"\">\\n                          <node bounds=\"[0,243][1080,392]\" checkable=\"false\" checked=\"false\" class=\"android.widget.LinearLayout\" clickable=\"false\" content-desc=\"\" enabled=\"true\" focusable=\"false\" focused=\"false\" index=\"0\" long-clickable=\"false\" package=\"com.instagram.android\" password=\"false\" resource-id=\"com.instagram.android:id/fixed_tabbar_tabs_container\" scrollable=\"false\" selected=\"false\" text=\"\">\\n                            <node bounds=\"[0,243][270,392]\" checkable=\"false\" checked=\"false\" class=\"android.widget.FrameLayout\" clickable=\"true\" content-desc=\"\" enabled=\"true\" focusable=\"true\" focused=\"false\" index=\"0\" long-clickable=\"false\" package=\"com.instagram.android\" password=\"false\" resource-id=\"\" scrollable=\"false\" selected=\"true\" text=\"\">\\n                              <node bounds=\"[94,289][175,346]\" checkable=\"false\" checked=\"false\" class=\"android.widget.TextView\" clickable=\"false\" content-desc=\"\" enabled=\"true\" focusable=\"false\" focused=\"false\" index=\"0\" long-clickable=\"false\" package=\"com.instagram.android\" password=\"false\" resource-id=\"com.instagram.android:id/tab_button_name_text\" scrollable=\"false\" selected=\"true\" text=\"TOP\"/>\\n                            </node>\\n                            <node bounds=\"[270,243][540,392]\" checkable=\"false\" checked=\"false\" class=\"android.widget.FrameLayout\" clickable=\"true\" content-desc=\"\" enabled=\"true\" focusable=\"true\" focused=\"false\" index=\"1\" long-clickable=\"false\" package=\"com.instagram.android\" password=\"false\" resource-id=\"\" scrollable=\"false\" selected=\"false\" text=\"\">\\n                              <node bounds=\"[296,289][514,346]\" checkable=\"false\" checked=\"false\" class=\"android.widget.TextView\" clickable=\"false\" content-desc=\"\" enabled=\"true\" focusable=\"false\" focused=\"false\" index=\"0\" long-clickable=\"false\" package=\"com.instagram.android\" password=\"false\" resource-id=\"com.instagram.android:id/tab_button_name_text\" scrollable=\"false\" selected=\"false\" text=\"ACCOUNTS\"/>\\n                            </node>\\n                            <node bounds=\"[540,243][810,392]\" checkable=\"false\" checked=\"false\" class=\"android.widget.FrameLayout\" clickable=\"true\" content-desc=\"\" enabled=\"true\" focusable=\"true\" focused=\"false\" index=\"2\" long-clickable=\"false\" package=\"com.instagram.android\" password=\"false\" resource-id=\"\" scrollable=\"false\" selected=\"false\" text=\"\">\\n                              <node bounds=\"[622,289][728,346]\" checkable=\"false\" checked=\"false\" class=\"android.widget.TextView\" clickable=\"false\" content-desc=\"\" enabled=\"true\" focusable=\"false\" focused=\"false\" index=\"0\" long-clickable=\"false\" package=\"com.instagram.android\" password=\"false\" resource-id=\"com.instagram.android:id/tab_button_name_text\" scrollable=\"false\" selected=\"false\" text=\"TAGS\"/>\\n                            </node>\\n                            <node bounds=\"[810,243][1080,392]\" checkable=\"false\" checked=\"false\" class=\"android.widget.FrameLayout\" clickable=\"true\" content-desc=\"\" enabled=\"true\" focusable=\"true\" focused=\"false\" index=\"3\" long-clickable=\"false\" package=\"com.instagram.android\" password=\"false\" resource-id=\"\" scrollable=\"false\" selected=\"false\" text=\"\">\\n                              <node bounds=\"[868,289][1022,346]\" checkable=\"false\" checked=\"false\" class=\"android.widget.TextView\" clickable=\"false\" content-desc=\"\" enabled=\"true\" focusable=\"false\" focused=\"false\" index=\"0\" long-clickable=\"false\" package=\"com.instagram.android\" password=\"false\" resource-id=\"com.instagram.android:id/tab_button_name_text\" scrollable=\"false\" selected=\"false\" text=\"PLACES\"/>\\n                            </node>\\n                          </node>\\n                          <node bounds=\"[0,389][1080,392]\" checkable=\"false\" checked=\"false\" class=\"android.view.View\" clickable=\"false\" content-desc=\"\" enabled=\"true\" focusable=\"false\" focused=\"false\" index=\"1\" long-clickable=\"false\" package=\"com.instagram.android\" password=\"false\" resource-id=\"com.instagram.android:id/selected_tab_indicator\" scrollable=\"false\" selected=\"false\" text=\"\"/>\\n                        </node>\\n                        <node bounds=\"[0,392][1080,416]\" checkable=\"false\" checked=\"false\" class=\"android.view.View\" clickable=\"false\" content-desc=\"\" enabled=\"true\" focusable=\"false\" focused=\"false\" index=\"1\" long-clickable=\"false\" package=\"com.instagram.android\" password=\"false\" resource-id=\"com.instagram.android:id/view_switcher_shadow\" scrollable=\"false\" selected=\"false\" text=\"\"/>\\n                      </node>\\n                    </node>\\n                  </node>\\n                  <node bounds=\"[0,81][1080,243]\" checkable=\"false\" checked=\"false\" class=\"android.widget.FrameLayout\" clickable=\"false\" content-desc=\"\" enabled=\"true\" focusable=\"false\" focused=\"false\" index=\"1\" long-clickable=\"false\" package=\"com.instagram.android\" password=\"false\" resource-id=\"com.instagram.android:id/action_bar_container\" scrollable=\"false\" selected=\"false\" text=\"\">\\n                    <node bounds=\"[0,81][1080,243]\" checkable=\"false\" checked=\"false\" class=\"android.widget.FrameLayout\" clickable=\"false\" content-desc=\"\" enabled=\"true\" focusable=\"false\" focused=\"false\" index=\"0\" long-clickable=\"false\" package=\"com.instagram.android\" password=\"false\" resource-id=\"com.instagram.android:id/action_bar_wrapper\" scrollable=\"false\" selected=\"false\" text=\"\">\\n                      <node bounds=\"[0,81][1080,243]\" checkable=\"false\" checked=\"false\" class=\"android.widget.LinearLayout\" clickable=\"true\" content-desc=\"\" enabled=\"true\" focusable=\"true\" focused=\"false\" index=\"0\" long-clickable=\"false\" package=\"com.instagram.android\" password=\"false\" resource-id=\"com.instagram.android:id/action_bar\" scrollable=\"false\" selected=\"false\" text=\"\">\\n                        <node bounds=\"[0,81][162,243]\" checkable=\"false\" checked=\"false\" class=\"android.widget.ImageView\" clickable=\"true\" content-desc=\"Back\" enabled=\"true\" focusable=\"true\" focused=\"false\" index=\"0\" long-clickable=\"false\" package=\"com.instagram.android\" password=\"false\" resource-id=\"com.instagram.android:id/action_bar_button_back\" scrollable=\"false\" selected=\"false\" text=\"\"/>\\n                        <node bounds=\"[162,81][1080,243]\" checkable=\"false\" checked=\"false\" class=\"android.widget.FrameLayout\" clickable=\"false\" content-desc=\"\" enabled=\"true\" focusable=\"false\" focused=\"false\" index=\"1\" long-clickable=\"false\" package=\"com.instagram.android\" password=\"false\" resource-id=\"com.instagram.android:id/action_bar_textview_custom_title_container\" scrollable=\"false\" selected=\"false\" text=\"\">\\n                          <node bounds=\"[203,101][1039,223]\" checkable=\"false\" checked=\"false\" class=\"android.widget.LinearLayout\" clickable=\"false\" content-desc=\"\" enabled=\"true\" focusable=\"false\" focused=\"false\" index=\"0\" long-clickable=\"false\" package=\"com.instagram.android\" password=\"false\" resource-id=\"\" scrollable=\"false\" selected=\"false\" text=\"\">\\n                            <node bounds=\"[203,101][958,223]\" checkable=\"false\" checked=\"false\" class=\"android.widget.EditText\" clickable=\"true\" content-desc=\"\" enabled=\"true\" focusable=\"true\" focused=\"true\" index=\"0\" long-clickable=\"true\" package=\"com.instagram.android\" password=\"false\" resource-id=\"com.instagram.android:id/action_bar_search_edit_text\" scrollable=\"false\" selected=\"false\" text=\"flower\"/>\\n                            <node bounds=\"[958,101][1039,223]\" checkable=\"false\" checked=\"false\" class=\"android.widget.ImageButton\" clickable=\"true\" content-desc=\"Clear\" enabled=\"true\" focusable=\"true\" focused=\"false\" index=\"1\" long-clickable=\"false\" package=\"com.instagram.android\" password=\"false\" resource-id=\"com.instagram.android:id/action_bar_search_clear\" scrollable=\"false\" selected=\"false\" text=\"\"/>\\n                          </node>\\n                        </node>\\n                      </node>\\n                    </node>\\n                  </node>\\n                  <node bounds=\"[0,1872][1080,1896]\" checkable=\"false\" checked=\"false\" class=\"android.view.View\" clickable=\"false\" content-desc=\"\" enabled=\"true\" focusable=\"false\" focused=\"false\" index=\"2\" long-clickable=\"false\" package=\"com.instagram.android\" password=\"false\" resource-id=\"com.instagram.android:id/tab_bar_shadow\" scrollable=\"false\" selected=\"false\" text=\"\"/>\\n                  <node bounds=\"[0,1896][1080,2058]\" checkable=\"false\" checked=\"false\" class=\"android.widget.LinearLayout\" clickable=\"false\" content-desc=\"\" enabled=\"true\" focusable=\"false\" focused=\"false\" index=\"3\" long-clickable=\"false\" package=\"com.instagram.android\" password=\"false\" resource-id=\"com.instagram.android:id/tab_bar\" scrollable=\"false\" selected=\"false\" text=\"\">\\n                    <node bounds=\"[0,1896][216,2058]\" checkable=\"false\" checked=\"false\" class=\"android.widget.FrameLayout\" clickable=\"true\" content-desc=\"Home\" enabled=\"true\" focusable=\"true\" focused=\"false\" index=\"0\" long-clickable=\"false\" package=\"com.instagram.android\" password=\"false\" resource-id=\"\" scrollable=\"false\" selected=\"false\" text=\"\">\\n                      <node bounds=\"[67,1936][148,2017]\" checkable=\"false\" checked=\"false\" class=\"android.widget.ImageView\" clickable=\"false\" content-desc=\"\" enabled=\"true\" focusable=\"false\" focused=\"false\" index=\"0\" long-clickable=\"false\" package=\"com.instagram.android\" password=\"false\" resource-id=\"com.instagram.android:id/tab_icon\" scrollable=\"false\" selected=\"false\" text=\"\"/>\\n                    </node>\\n                    <node bounds=\"[216,1896][432,2058]\" checkable=\"false\" checked=\"false\" class=\"android.widget.FrameLayout\" clickable=\"true\" content-desc=\"Search and Explore\" enabled=\"true\" focusable=\"true\" focused=\"false\" index=\"1\" long-clickable=\"true\" package=\"com.instagram.android\" password=\"false\" resource-id=\"\" scrollable=\"false\" selected=\"true\" text=\"\">\\n                      <node bounds=\"[283,1936][364,2017]\" checkable=\"false\" checked=\"false\" class=\"android.widget.ImageView\" clickable=\"false\" content-desc=\"\" enabled=\"true\" focusable=\"false\" focused=\"false\" index=\"0\" long-clickable=\"false\" package=\"com.instagram.android\" password=\"false\" resource-id=\"com.instagram.android:id/tab_icon\" scrollable=\"false\" selected=\"true\" text=\"\"/>\\n                    </node>\\n                    <node bounds=\"[432,1896][648,2058]\" checkable=\"false\" checked=\"false\" class=\"android.widget.FrameLayout\" clickable=\"true\" content-desc=\"Camera\" enabled=\"true\" focusable=\"true\" focused=\"false\" index=\"2\" long-clickable=\"true\" package=\"com.instagram.android\" password=\"false\" resource-id=\"\" scrollable=\"false\" selected=\"false\" text=\"\">\\n                      <node bounds=\"[499,1936][580,2017]\" checkable=\"false\" checked=\"false\" class=\"android.widget.ImageView\" clickable=\"false\" content-desc=\"\" enabled=\"true\" focusable=\"false\" focused=\"false\" index=\"0\" long-clickable=\"false\" package=\"com.instagram.android\" password=\"false\" resource-id=\"com.instagram.android:id/tab_icon\" scrollable=\"false\" selected=\"false\" text=\"\"/>\\n                    </node>\\n                    <node bounds=\"[648,1896][864,2058]\" checkable=\"false\" checked=\"false\" class=\"android.widget.FrameLayout\" clickable=\"true\" content-desc=\"Activity\" enabled=\"true\" focusable=\"true\" focused=\"false\" index=\"3\" long-clickable=\"false\" package=\"com.instagram.android\" password=\"false\" resource-id=\"\" scrollable=\"false\" selected=\"false\" text=\"\">\\n                      <node bounds=\"[715,1936][796,2017]\" checkable=\"false\" checked=\"false\" class=\"android.widget.ImageView\" clickable=\"false\" content-desc=\"\" enabled=\"true\" focusable=\"false\" focused=\"false\" index=\"0\" long-clickable=\"false\" package=\"com.instagram.android\" password=\"false\" resource-id=\"com.instagram.android:id/tab_icon\" scrollable=\"false\" selected=\"false\" text=\"\"/>\\n                    </node>\\n                    <node bounds=\"[864,1896][1080,2058]\" checkable=\"false\" checked=\"false\" class=\"android.widget.FrameLayout\" clickable=\"true\" content-desc=\"Profile\" enabled=\"true\" focusable=\"true\" focused=\"false\" index=\"4\" long-clickable=\"false\" package=\"com.instagram.android\" password=\"false\" resource-id=\"com.instagram.android:id/profile_tab\" scrollable=\"false\" selected=\"false\" text=\"\">\\n                      <node bounds=\"[931,1936][1012,2017]\" checkable=\"false\" checked=\"false\" class=\"android.widget.ImageView\" clickable=\"false\" content-desc=\"\" enabled=\"true\" focusable=\"false\" focused=\"false\" index=\"0\" long-clickable=\"false\" package=\"com.instagram.android\" password=\"false\" resource-id=\"com.instagram.android:id/tab_icon\" scrollable=\"false\" selected=\"false\" text=\"\"/>\\n                    </node>\\n                  </node>\\n                </node>\\n              </node>\\n            </node>\\n          </node>\\n        </node>\\n      </node>\\n    </node>\\n  </node>\\n</hierarchy>\\n'"
      ]
     },
     "execution_count": 8,
     "metadata": {},
     "output_type": "execute_result"
    }
   ],
   "source": [
    "d.dump('ssadhv.xml')"
   ]
  },
  {
   "cell_type": "code",
   "execution_count": 9,
   "metadata": {},
   "outputs": [
    {
     "data": {
      "text/plain": [
       "True"
      ]
     },
     "execution_count": 9,
     "metadata": {},
     "output_type": "execute_result"
    }
   ],
   "source": [
    "d(resourceId='com.instagram.android:id/row_hashtag_textview_tag_name',index='0',className='android.widget.TextView').click()"
   ]
  },
  {
   "cell_type": "code",
   "execution_count": 10,
   "metadata": {},
   "outputs": [
    {
     "data": {
      "text/plain": [
       "True"
      ]
     },
     "execution_count": 10,
     "metadata": {},
     "output_type": "execute_result"
    }
   ],
   "source": [
    "d(resourceId='com.instagram.android:id/image_button',index='4').click()"
   ]
  },
  {
   "cell_type": "code",
   "execution_count": 11,
   "metadata": {},
   "outputs": [
    {
     "data": {
      "text/plain": [
       "True"
      ]
     },
     "execution_count": 11,
     "metadata": {},
     "output_type": "execute_result"
    }
   ],
   "source": [
    "d(className='android.widget.ImageView',resourceId='com.instagram.android:id/row_feed_button_like').click()\n",
    "d(className='android.widget.TextView',text='Follow').click()"
   ]
  },
  {
   "cell_type": "code",
   "execution_count": 12,
   "metadata": {},
   "outputs": [],
   "source": [
    "import time"
   ]
  },
  {
   "cell_type": "code",
   "execution_count": 13,
   "metadata": {},
   "outputs": [
    {
     "name": "stdout",
     "output_type": "stream",
     "text": [
      "Click and follow happened\n",
      "Click and follow happened\n",
      "Click and follow happened\n",
      "Click and follow happened\n",
      "Click and follow happened\n",
      "Click and follow happened\n",
      "Click and follow happened\n",
      "Click and follow happened\n",
      "Click and follow happened\n",
      "Click and follow happened\n",
      "Click and follow happened\n",
      "Click and follow happened\n",
      "Click and follow happened\n",
      "Click and follow happened\n",
      "Click and follow happened\n",
      "Click and follow happened\n",
      "Click and follow happened\n"
     ]
    }
   ],
   "source": [
    "for k in range(20):\n",
    "    time.sleep(5)\n",
    "    for i in range(3):\n",
    "        time.sleep(3)\n",
    "        sx, sy, ex, ey= 560,800,560 ,150\n",
    "        d.swipe(sx, sy, ex, ey, steps=10)\n",
    "    try:\n",
    "        d(className='android.widget.ImageView',resourceId='com.instagram.android:id/row_feed_button_like').click()\n",
    "        d(className='android.widget.TextView',text='Follow').click()\n",
    "        print('Click and follow happened')\n",
    "    except:\n",
    "        pass"
   ]
  },
  {
   "cell_type": "code",
   "execution_count": null,
   "metadata": {},
   "outputs": [],
   "source": [
    "for i in range(7):\n",
    "    d.press.back()"
   ]
  },
  {
   "cell_type": "code",
   "execution_count": null,
   "metadata": {},
   "outputs": [],
   "source": []
  },
  {
   "cell_type": "code",
   "execution_count": null,
   "metadata": {},
   "outputs": [],
   "source": []
  },
  {
   "cell_type": "code",
   "execution_count": null,
   "metadata": {},
   "outputs": [],
   "source": []
  },
  {
   "cell_type": "code",
   "execution_count": null,
   "metadata": {},
   "outputs": [],
   "source": []
  },
  {
   "cell_type": "code",
   "execution_count": null,
   "metadata": {},
   "outputs": [],
   "source": []
  },
  {
   "cell_type": "code",
   "execution_count": null,
   "metadata": {},
   "outputs": [],
   "source": []
  },
  {
   "cell_type": "code",
   "execution_count": null,
   "metadata": {},
   "outputs": [],
   "source": []
  },
  {
   "cell_type": "code",
   "execution_count": null,
   "metadata": {},
   "outputs": [],
   "source": []
  }
 ],
 "metadata": {
  "kernelspec": {
   "display_name": "Python 3",
   "language": "python",
   "name": "python3"
  },
  "language_info": {
   "codemirror_mode": {
    "name": "ipython",
    "version": 3
   },
   "file_extension": ".py",
   "mimetype": "text/x-python",
   "name": "python",
   "nbconvert_exporter": "python",
   "pygments_lexer": "ipython3",
   "version": "3.6.9"
  }
 },
 "nbformat": 4,
 "nbformat_minor": 2
}
